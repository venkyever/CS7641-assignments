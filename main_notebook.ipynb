{
 "cells": [
  {
   "cell_type": "code",
   "execution_count": 1,
   "metadata": {
    "collapsed": true
   },
   "outputs": [],
   "source": [
    "import numpy as np\n",
    "import random\n",
    "\n",
    "import matplotlib.pyplot as plt\n",
    "import numpy as np\n",
    "from sklearn.model_selection import train_test_split\n",
    "from sklearn.utils import shuffle\n",
    "\n",
    "np.random.seed(42)\n",
    "random.seed(42)"
   ]
  },
  {
   "cell_type": "code",
   "execution_count": 2,
   "metadata": {},
   "outputs": [
    {
     "name": "stderr",
     "output_type": "stream",
     "text": [
      "C:\\Users\\matan\\Anaconda3\\lib\\site-packages\\h5py\\__init__.py:36: FutureWarning: Conversion of the second argument of issubdtype from `float` to `np.floating` is deprecated. In future, it will be treated as `np.float64 == np.dtype(float).type`.\n  from ._conv import register_converters as _register_converters\n"
     ]
    },
    {
     "name": "stderr",
     "output_type": "stream",
     "text": [
      "C:\\Users\\matan\\Anaconda3\\lib\\site-packages\\sklearn\\ensemble\\weight_boosting.py:29: DeprecationWarning: numpy.core.umath_tests is an internal NumPy module and should not be imported. It will be removed in a future NumPy release.\n  from numpy.core.umath_tests import inner1d\nUsing TensorFlow backend.\n"
     ]
    }
   ],
   "source": [
    "from DataExploration import DataExploration\n",
    "from DecisionTree import DecisionTree\n",
    "from NeuralNetwork import DNN\n",
    "from Boosting import Boosting\n",
    "from KNN import KNN\n",
    "from NeuralNetworkKeras import NN_Keras\n",
    "from SVM import SVM\n"
   ]
  },
  {
   "cell_type": "code",
   "execution_count": 4,
   "metadata": {
    "collapsed": false
   },
   "outputs": [
    {
     "name": "stdout",
     "output_type": "stream",
     "text": [
      "(22223, 10)\n"
     ]
    },
    {
     "name": "stdout",
     "output_type": "stream",
     "text": [
      "(19276, 10)\n(41499, 10)\n"
     ]
    },
    {
     "name": "stdout",
     "output_type": "stream",
     "text": [
      "(8378, 44)\n"
     ]
    },
    {
     "name": "stderr",
     "output_type": "stream",
     "text": [
      "C:\\Users\\matan\\Anaconda3\\lib\\site-packages\\IPython\\core\\interactiveshell.py:2903: DtypeWarning: Columns (3,10,11,15,16,17,18,19,39,40,41,42,43,44,51,52,53,54,55,73,74,75,76,77,78,79,80,81,82,83,84,85,86,87,88,89,107,109) have mixed types. Specify dtype option on import or set low_memory=False.\n  if self.run_code(code, result):\n"
     ]
    }
   ],
   "source": [
    "#need to shuffle to respect iid principal for when we split the data\n",
    "de = DataExploration()\n",
    "\n",
    "twitter_df = de.prepare_twitter_df()\n",
    "speed_dating_df = de.prepare_speed_dating_df()"
   ]
  },
  {
   "cell_type": "code",
   "execution_count": 27,
   "metadata": {},
   "outputs": [
    {
     "name": "stdout",
     "output_type": "stream",
     "text": [
      "       num_following  num_followers     num_tweets  len_of_screen_name  \\\ncount   41499.000000   4.149900e+04   41499.000000        41499.000000   \nmean     1337.008603   1.490572e+03    1802.296754           10.763802   \nstd      4225.695112   2.541982e+04    5371.796703            2.754737   \nmin         0.000000   0.000000e+00       0.000000            2.000000   \n25%        76.000000   4.000000e+01      49.000000            9.000000   \n50%       285.000000   1.490000e+02     334.000000           11.000000   \n75%      1119.000000   6.160000e+02    1511.000000           13.000000   \nmax    109388.000000   4.309347e+06  350453.000000           15.000000   \n\n       len_of_profile_description  num_following_changes       is_spam  \ncount                41499.000000           41499.000000  41499.000000  \nmean                    53.998530             878.826285      0.071014  \nstd                     51.940551             270.955164      0.997487  \nmin                      0.000000               5.000000     -1.000000  \n25%                      0.000000             689.000000     -1.000000  \n50%                     43.000000             919.000000      1.000000  \n75%                     93.000000            1135.000000      1.000000  \nmax                    474.000000            1609.000000      1.000000  \n          decision  gender_encoded  race_encoded  race_o_encoded  \\\ncount  8378.000000     8378.000000   8378.000000     8378.000000   \nmean      0.419909        0.500597      2.799594        2.800191   \nstd       0.493573        0.500029      1.783980        1.782541   \nmin       0.000000        0.000000      0.000000        0.000000   \n25%       0.000000        0.000000      1.000000        1.000000   \n50%       0.000000        1.000000      4.000000        4.000000   \n75%       1.000000        1.000000      4.000000        4.000000   \nmax       1.000000        1.000000      5.000000        5.000000   \n\n       field_encoded  \ncount    8378.000000  \nmean      151.656362  \nstd        71.847475  \nmin         0.000000  \n25%        90.000000  \n50%       177.000000  \n75%       210.000000  \nmax       259.000000  \n"
     ]
    }
   ],
   "source": [
    "print(twitter_df.describe())\n",
    "print(speed_dating_df.describe())"
   ]
  },
  {
   "cell_type": "code",
   "execution_count": 7,
   "metadata": {},
   "outputs": [],
   "source": [
    "X_train, X_test, y_train, y_test, X_train_nn, X_validation_nn, y_train_nn, y_validation_nn = de.get_train_test_validation(\n",
    "    twitter_df, 'twitter')"
   ]
  },
  {
   "cell_type": "code",
   "execution_count": null,
   "metadata": {},
   "outputs": [],
   "source": [
    ""
   ]
  },
  {
   "cell_type": "code",
   "execution_count": 24,
   "metadata": {},
   "outputs": [
    {
     "name": "stdout",
     "output_type": "stream",
     "text": [
      "   gender age age_o                                     race  \\\n0  female  21    27  'Asian/Pacific Islander/Asian-American'   \n1  female  21    22  'Asian/Pacific Islander/Asian-American'   \n2  female  21    22  'Asian/Pacific Islander/Asian-American'   \n\n                                    race_o importance_same_race  \\\n0              European/Caucasian-American                    2   \n1              European/Caucasian-American                    2   \n2  'Asian/Pacific Islander/Asian-American'                    2   \n\n  importance_same_religion field attractive_important sincere_important  ...  \\\n0                        4   Law                   15                20  ...   \n1                        4   Law                   15                20  ...   \n2                        4   Law                   15                20  ...   \n\n  concerts music shopping yoga interests_correlate decision gender_encoded  \\\n0       10     9        8    1                0.14        1              0   \n1       10     9        8    1                0.54        1              0   \n2       10     9        8    1                0.16        1              0   \n\n  race_encoded race_o_encoded field_encoded  \n0            0              4           210  \n1            0              4           210  \n2            0              0           210  \n\n[3 rows x 48 columns]\n   gender age age_o                                     race  \\\n0  female  21    27  'Asian/Pacific Islander/Asian-American'   \n1  female  21    22  'Asian/Pacific Islander/Asian-American'   \n2  female  21    22  'Asian/Pacific Islander/Asian-American'   \n\n                                    race_o importance_same_race  \\\n0              European/Caucasian-American                    2   \n1              European/Caucasian-American                    2   \n2  'Asian/Pacific Islander/Asian-American'                    2   \n\n  importance_same_religion field attractive_important sincere_important  ...  \\\n0                        4   Law                   15                20  ...   \n1                        4   Law                   15                20  ...   \n2                        4   Law                   15                20  ...   \n\n  field250 field251 field252 field253 field254 field255 field256 field257  \\\n0      0.0      0.0      0.0      0.0      0.0      0.0      0.0      0.0   \n1      0.0      0.0      0.0      0.0      0.0      0.0      0.0      0.0   \n2      0.0      0.0      0.0      0.0      0.0      0.0      0.0      0.0   \n\n  field258 field259  \n0      0.0      0.0  \n1      0.0      0.0  \n2      0.0      0.0  \n\n[3 rows x 322 columns]\n"
     ]
    }
   ],
   "source": [
    ""
   ]
  },
  {
   "cell_type": "code",
   "execution_count": 9,
   "metadata": {},
   "outputs": [
    {
     "name": "stdout",
     "output_type": "stream",
     "text": [
      "   has_null  wave  gender age age_o  d_age d_d_age  \\\n0         0     1  female  21    27      6   [4-6]   \n1         0     1  female  21    22      1   [0-1]   \n2         1     1  female  21    22      1   [0-1]   \n3         0     1  female  21    23      2   [2-3]   \n4         0     1  female  21    24      3   [2-3]   \n\n                                      race  \\\n0  'Asian/Pacific Islander/Asian-American'   \n1  'Asian/Pacific Islander/Asian-American'   \n2  'Asian/Pacific Islander/Asian-American'   \n3  'Asian/Pacific Islander/Asian-American'   \n4  'Asian/Pacific Islander/Asian-American'   \n\n                                    race_o  samerace  ...  \\\n0              European/Caucasian-American         0  ...   \n1              European/Caucasian-American         0  ...   \n2  'Asian/Pacific Islander/Asian-American'         1  ...   \n3              European/Caucasian-American         0  ...   \n4               'Latino/Hispanic American'         0  ...   \n\n  d_expected_num_interested_in_me d_expected_num_matches like  \\\n0                           [0-3]                  [3-5]    7   \n1                           [0-3]                  [3-5]    7   \n2                           [0-3]                  [3-5]    7   \n3                           [0-3]                  [3-5]    7   \n4                           [0-3]                  [3-5]    6   \n\n  guess_prob_liked d_like d_guess_prob_liked met decision decision_o match  \n0                6  [6-8]              [5-6]   0        1          0     0  \n1                5  [6-8]              [5-6]   1        1          0     0  \n2                ?  [6-8]              [0-4]   1        1          1     1  \n3                6  [6-8]              [5-6]   0        1          1     1  \n4                6  [6-8]              [5-6]   0        1          1     1  \n\n[5 rows x 123 columns]\n"
     ]
    }
   ],
   "source": [
    "print(speed_dating_df.head(5))"
   ]
  },
  {
   "cell_type": "code",
   "execution_count": 64,
   "metadata": {
    "collapsed": true
   },
   "outputs": [
    {
     "name": "stdout",
     "output_type": "stream",
     "text": [
      "                  created_at         collected_at  num_following  \\\nuser_id                                                            \n6301     2006-09-18 01:07:50  2010-01-17 20:38:25           3269   \n10836    2006-10-27 14:38:04  2010-06-18 03:35:34           1949   \n10997    2006-10-29 09:50:38  2010-04-24 01:12:40           1119   \n633293   2007-01-14 12:40:10  2010-01-24 11:59:38           2174   \n717883   2007-01-27 22:14:18  2010-02-06 06:25:58           7731   \n\n         num_followers  num_tweets  len_of_screen_name  \\\nuser_id                                                  \n6301              3071         861                   8   \n10836              793         226                   9   \n10997             9644       38674                  12   \n633293            6029       12718                  11   \n717883            7029         873                   6   \n\n         len_of_profile_description  \\\nuser_id                               \n6301                            132   \n10836                           134   \n10997                           158   \n633293                          121   \n717883                           70   \n\n                                   series_of_num_following  \\\nuser_id                                                      \n6301     3269,3310,3339,3381,3351,3323,3305,3275,3245,3...   \n10836    1949,1963,1963,1963,1963,1963,1963,1962,1961,1...   \n10997    1119,1119,999,999,1050,1170,1071,799,799,799,8...   \n633293   2174,2651,2676,2674,2673,2673,2673,2672,2672,2...   \n717883   7731,7737,7737,7741,7741,7741,7740,7740,7749,7...   \n\n         num_following_changes  is_spam  \nuser_id                                  \n6301                      1149        1  \n10836                     1149        1  \n10997                     1113        1  \n633293                    1149        1  \n717883                    1149        1  \n           num_following  num_followers  num_tweets  len_of_screen_name  \\\nuser_id                                                                   \n6301                3269           3071         861                   8   \n10836               1949            793         226                   9   \n10997               1119           9644       38674                  12   \n633293              2174           6029       12718                  11   \n717883              7731           7029         873                   6   \n763068               120            130         686                   6   \n783705              1660          23977       23205                   8   \n788352              1320            969        3528                  14   \n810011             11239          10537        2749                  13   \n815299              3779           3920        1830                  10   \n817045             12848          12933        2315                   5   \n964981              1811           2469        2897                  12   \n1091571             3697           5129        7819                  13   \n1303381             2990           3367        2361                  14   \n1322691            13117          17053         893                   9   \n1467621             4942           7445       20577                   9   \n1599001             1591           1683         488                   7   \n1907361             4995           4570        3033                   6   \n2077351             1076           1370        1977                  12   \n2157321            10316          12272        1896                   9   \n2219081             2001           1534        3681                   8   \n2243161             8266           8134        1309                   8   \n2269491              745            829        1064                   7   \n2695911             3452           3467        1146                   8   \n2884771            62962        1234960        4068                   8   \n3060631             9214           8372        6667                   8   \n3076591            18059          17113        3551                  11   \n3136731             3449           6042        7403                  13   \n3291901             6071           5913        2072                   8   \n3881391            17100          16779        8002                   6   \n...                  ...            ...         ...                 ...   \n172977192            322             12          20                  10   \n172993468             65             12          22                  10   \n173022936             32              5          12                  14   \n173027572              2              1           2                  12   \n173042114              1              0           3                  10   \n173076975            514              6           0                  11   \n173173125            203             15           0                   6   \n173203020             34              4           3                   9   \n173244693            209            143          28                  10   \n173264615             39              3          21                  12   \n173284223             28              0           3                   9   \n173300181              3              0           1                  14   \n173323726            390              2          42                  10   \n173360311            425              4           0                   9   \n173400549            800            110           0                  13   \n173404110            597             81           0                  15   \n173502620            187              4           2                  13   \n173524413            165              3           0                  14   \n173615505            864              0           1                   9   \n173646320            577             15           2                  10   \n173688140            486             11           0                  10   \n173689033             38              1          51                  13   \n173692600            493              6           0                  12   \n173699719            160              7           4                  13   \n173711611             72              2           0                  13   \n173715049             63             10          29                  12   \n173718053             83             10          35                   8   \n173721018             67              9          21                  13   \n173723395             35              4          17                  12   \n173766965             12              0           1                  13   \n\n           len_of_profile_description  num_following_changes  \nuser_id                                                       \n6301                              132                   1149  \n10836                             134                   1149  \n10997                             158                   1113  \n633293                            121                   1149  \n717883                             70                   1149  \n763068                             35                    241  \n783705                             68                   1149  \n788352                            106                    985  \n810011                             59                   1379  \n815299                            120                   1149  \n817045                             63                   1379  \n964981                             88                   1149  \n1091571                           101                    749  \n1303381                           119                   1149  \n1322691                            22                   1379  \n1467621                           134                   1149  \n1599001                            89                   1149  \n1907361                            73                   1149  \n2077351                           138                   1075  \n2157321                            50                   1379  \n2219081                             0                   1149  \n2243161                           115                   1149  \n2269491                           157                    963  \n2695911                           146                   1149  \n2884771                           138                   1379  \n3060631                            43                   1149  \n3076591                           114                   1379  \n3136731                           149                   1149  \n3291901                           105                   1149  \n3881391                           139                   1379  \n...                               ...                    ...  \n172977192                          26                     66  \n172993468                           0                     25  \n173022936                           0                     23  \n173027572                          13                     53  \n173042114                           0                     58  \n173076975                           0                     71  \n173173125                           0                     71  \n173203020                           0                     26  \n173244693                         148                     79  \n173264615                           0                     18  \n173284223                           0                     56  \n173300181                           0                     22  \n173323726                         158                     71  \n173360311                           0                     63  \n173400549                           0                     23  \n173404110                           0                     19  \n173502620                           0                     43  \n173524413                          38                     35  \n173615505                           0                      7  \n173646320                           0                     23  \n173688140                         151                     27  \n173689033                         146                     20  \n173692600                          43                     27  \n173699719                         140                     23  \n173711611                           0                     22  \n173715049                           0                     14  \n173718053                           0                     14  \n173721018                           0                     14  \n173723395                           0                     13  \n173766965                           0                     11  \n\n[22223 rows x 6 columns]\n"
     ]
    }
   ],
   "source": [
    "print(twitter_df.head(5))"
   ]
  },
  {
   "cell_type": "code",
   "execution_count": null,
   "metadata": {},
   "outputs": [],
   "source": [
    "# data processing and investigation\n",
    "data_twitter = twitter_df.drop('created_at', axis=1).drop('collected_at', axis=1).drop(\n",
    "                'series_of_num_following', axis=1)\n",
    "data_twitter['label'] = np.where(data_twitter['is_spam'] == 1, 'spam', 'not_spam')\n",
    "data_twitter = data_twitter.drop('is_spam', axis=1)\n",
    "pos_twitter = data_twitter.loc[data_twitter['label'] == 'spam'].drop('label', axis=1)\n",
    "neg_twitter = data_twitter.loc[data_twitter['label'] == 'not_spam'].drop('label', axis=1)\n",
    "\n",
    "create_scatterplot_matrix(data_twitter, \"label\", 'twitter_df')\n",
    "plot_violin_distributions(data_twitter, title='Violin Plots of Twitter Features', dataset_name='twitter_df', label_column='label')\n",
    "compare_counts_boxplots(positive_pd=pos_twitter, negative_pd=neg_twitter, title='Boxplots of Twitter Features', positive_label='spam', dataset_name='twitter_df')\n"
   ]
  },
  {
   "cell_type": "code",
   "execution_count": null,
   "metadata": {
    "collapsed": false
   },
   "outputs": [],
   "source": [
    "best_params = {'dt__alpha': -0.01, 'dt__max_depth': 9, 'dt__min_samples_leaf': 7}\n",
    "dt_clf = DecisionTree(model_name='dt_wip1', dataset_name='spam_twitter', X_test=X_test, y_test=y_test, best_params=best_params)\n",
    "dt_clf.train(X_train, y_train)\n",
    "y_pred = dt_clf.predict(X_test)\n",
    "dt_clf.evaluate_model(y_test=y_test, y_pred=y_pred)\n",
    "\n",
    "#dt_clfr.get_model().best_estimator_.named_steps['dt'].tree_.max_depth\n"
   ]
  },
  {
   "cell_type": "code",
   "execution_count": 11,
   "metadata": {},
   "outputs": [
    {
     "ename": "NameError",
     "evalue": "name 'dt_clf' is not defined",
     "traceback": [
      "\u001b[1;31m---------------------------------------------------------------------------\u001b[0m",
      "\u001b[1;31mNameError\u001b[0m                                 Traceback (most recent call last)",
      "\u001b[1;32m<ipython-input-11-105649af6f4e>\u001b[0m in \u001b[0;36m<module>\u001b[1;34m()\u001b[0m\n\u001b[1;32m----> 1\u001b[1;33m \u001b[0mdt_best_params\u001b[0m \u001b[1;33m=\u001b[0m \u001b[0mdt_clf\u001b[0m\u001b[1;33m.\u001b[0m\u001b[0mget_best_params\u001b[0m\u001b[1;33m(\u001b[0m\u001b[1;33m)\u001b[0m\u001b[1;33m\u001b[0m\u001b[0m\n\u001b[0m\u001b[0;32m      2\u001b[0m \u001b[0mprint\u001b[0m\u001b[1;33m(\u001b[0m\u001b[0mdt_best_params\u001b[0m\u001b[1;33m)\u001b[0m\u001b[1;33m\u001b[0m\u001b[0m\n\u001b[0;32m      3\u001b[0m \u001b[0mprint\u001b[0m\u001b[1;33m(\u001b[0m\u001b[0mdt_clf\u001b[0m\u001b[1;33m.\u001b[0m\u001b[0mfeature_importance_\u001b[0m\u001b[1;33m)\u001b[0m\u001b[1;33m\u001b[0m\u001b[0m\n",
      "\u001b[1;31mNameError\u001b[0m: name 'dt_clf' is not defined"
     ],
     "output_type": "error"
    }
   ],
   "source": [
    "dt_best_params = dt_clf.get_best_params()\n",
    "print(dt_best_params)\n",
    "#print(dt_clf.feature_importance_)"
   ]
  },
  {
   "cell_type": "code",
   "execution_count": 7,
   "metadata": {
    "collapsed": false
   },
   "outputs": [],
   "source": [
    "# dnn = DNN(n_classes=2, model_name='dnn_wip_3', dataset_name='spam_twitter')\n",
    "# dnn.train(\n",
    "#     learning_rate=0.05,\n",
    "#     steps=1000,\n",
    "#     batch_size=30,\n",
    "#     hidden_units=[100, 100],\n",
    "#     training_examples=X_train_nn,\n",
    "#     training_targets=y_train_nn,\n",
    "#     validation_examples=X_validation_nn,\n",
    "#     validation_targets=y_validation_nn)\n",
    "# \n",
    "# y_pred = dnn.predict(X_test, y_test)"
   ]
  },
  {
   "cell_type": "code",
   "execution_count": 8,
   "metadata": {},
   "outputs": [
    {
     "name": "stdout",
     "output_type": "stream",
     "text": [
      "[[3419  463]\n [ 522 3896]]\n             precision    recall  f1-score   support\n\n         -1       0.87      0.88      0.87      3882\n          1       0.89      0.88      0.89      4418\n\navg / total       0.88      0.88      0.88      8300\n\n"
     ]
    }
   ],
   "source": [
    "best_params = {'boost__base_estimator__max_depth': 12, 'boost__n_estimators': 80}\n",
    "# todo this is lower than pre pruning, figure out why\n",
    "boosting_clf = Boosting(model_name='boosting_wip0', dataset_name='spam_twitter', X_test=X_test, y_test=y_test,\n",
    "                        best_params=best_params)\n",
    "boosting_clf.train(X_train, y_train)\n",
    "y_pred = boosting_clf.predict(X_test)\n",
    "boosting_clf.evaluate_model(y_test=y_test, y_pred=y_pred)\n"
   ]
  },
  {
   "cell_type": "code",
   "execution_count": 9,
   "metadata": {},
   "outputs": [
    {
     "name": "stdout",
     "output_type": "stream",
     "text": [
      "{'boost__base_estimator__max_depth': 12, 'boost__n_estimators': 80}\n"
     ]
    }
   ],
   "source": [
    "boosting_best_params = boosting_clf.get_best_params()\n",
    "print(boosting_best_params)"
   ]
  },
  {
   "cell_type": "code",
   "execution_count": 10,
   "metadata": {},
   "outputs": [
    {
     "name": "stdout",
     "output_type": "stream",
     "text": [
      "[[3453  429]\n [ 531 3887]]\n             precision    recall  f1-score   support\n\n         -1       0.87      0.89      0.88      3882\n          1       0.90      0.88      0.89      4418\n\navg / total       0.88      0.88      0.88      8300\n\n"
     ]
    }
   ],
   "source": [
    "best_params = {'knn__metric': 'manhattan', 'knn__n_neighbors': 10, 'knn__weights': 'distance'}\n",
    "knn_clf = KNN(model_name='knn_wip0', dataset_name='spam_twitter', best_params=best_params)\n",
    "knn_clf.train(X_train, y_train)\n",
    "y_pred = knn_clf.predict(X_test)\n",
    "knn_clf.evaluate_model(y_test=y_test, y_pred=y_pred)\n"
   ]
  },
  {
   "cell_type": "code",
   "execution_count": 11,
   "metadata": {},
   "outputs": [
    {
     "name": "stdout",
     "output_type": "stream",
     "text": [
      "{'knn__metric': 'manhattan', 'knn__n_neighbors': 10, 'knn__weights': 'distance'}\n"
     ]
    }
   ],
   "source": [
    "knn_best_params = knn_clf.get_best_params()\n",
    "print(knn_best_params)"
   ]
  },
  {
   "cell_type": "code",
   "execution_count": 12,
   "metadata": {
    "collapsed": false
   },
   "outputs": [
    {
     "ename": "ValueError",
     "evalue": "('Could not interpret loss function identifier:', 0.0005)",
     "traceback": [
      "\u001b[1;31m---------------------------------------------------------------------------\u001b[0m",
      "\u001b[1;31mValueError\u001b[0m                                Traceback (most recent call last)",
      "\u001b[1;32m<ipython-input-12-d2ecbdccf6cf>\u001b[0m in \u001b[0;36m<module>\u001b[1;34m()\u001b[0m\n\u001b[0;32m      3\u001b[0m \u001b[1;33m\u001b[0m\u001b[0m\n\u001b[0;32m      4\u001b[0m \u001b[0mkeras_nn_clf\u001b[0m \u001b[1;33m=\u001b[0m \u001b[0mNN_Keras\u001b[0m\u001b[1;33m(\u001b[0m\u001b[0mmodel_name\u001b[0m\u001b[1;33m=\u001b[0m\u001b[1;34m'keras_nn_wip1'\u001b[0m\u001b[1;33m,\u001b[0m \u001b[0mdataset_name\u001b[0m\u001b[1;33m=\u001b[0m\u001b[1;34m'spam_twitter'\u001b[0m\u001b[1;33m,\u001b[0m \u001b[0mbest_params\u001b[0m\u001b[1;33m=\u001b[0m\u001b[0mbest_params\u001b[0m\u001b[1;33m)\u001b[0m\u001b[1;33m\u001b[0m\u001b[0m\n\u001b[1;32m----> 5\u001b[1;33m \u001b[0mkeras_nn_clf\u001b[0m\u001b[1;33m.\u001b[0m\u001b[0mtrain\u001b[0m\u001b[1;33m(\u001b[0m\u001b[0mX_train\u001b[0m\u001b[1;33m,\u001b[0m \u001b[0my_train\u001b[0m\u001b[1;33m)\u001b[0m\u001b[1;33m\u001b[0m\u001b[0m\n\u001b[0m\u001b[0;32m      6\u001b[0m \u001b[0my_pred\u001b[0m \u001b[1;33m=\u001b[0m \u001b[0mkeras_nn_clf\u001b[0m\u001b[1;33m.\u001b[0m\u001b[0mpredict\u001b[0m\u001b[1;33m(\u001b[0m\u001b[0mX_test\u001b[0m\u001b[1;33m)\u001b[0m\u001b[1;33m\u001b[0m\u001b[0m\n\u001b[0;32m      7\u001b[0m \u001b[0mkeras_nn_clf\u001b[0m\u001b[1;33m.\u001b[0m\u001b[0mevaluate_model\u001b[0m\u001b[1;33m(\u001b[0m\u001b[0my_test\u001b[0m\u001b[1;33m=\u001b[0m\u001b[0my_test\u001b[0m\u001b[1;33m,\u001b[0m \u001b[0my_pred\u001b[0m\u001b[1;33m=\u001b[0m\u001b[0my_pred\u001b[0m\u001b[1;33m)\u001b[0m\u001b[1;33m\u001b[0m\u001b[0m\n",
      "\u001b[1;32m~\\OneDrive\\Documents\\OMSCS\\CS7641\\assignments\\code\\CS7641-assignment1\\NeuralNetworkKeras.py\u001b[0m in \u001b[0;36mtrain\u001b[1;34m(self, X_train, y_train, optimizer_tuning, override_best_params)\u001b[0m\n\u001b[0;32m     54\u001b[0m             nn_model = KerasClassifier(build_fn=self.create_model(layer_sizes=self.best_params['layer_sizes'],\n\u001b[0;32m     55\u001b[0m                                                                   \u001b[0mlearning_rate\u001b[0m\u001b[1;33m=\u001b[0m\u001b[0mself\u001b[0m\u001b[1;33m.\u001b[0m\u001b[0mbest_params\u001b[0m\u001b[1;33m[\u001b[0m\u001b[1;34m'learning_rate'\u001b[0m\u001b[1;33m]\u001b[0m\u001b[1;33m,\u001b[0m\u001b[1;33m\u001b[0m\u001b[0m\n\u001b[1;32m---> 56\u001b[1;33m                                                                   loss=self.best_params['learning_rate']),\n\u001b[0m\u001b[0;32m     57\u001b[0m                                        \u001b[0mepochs\u001b[0m\u001b[1;33m=\u001b[0m\u001b[0mself\u001b[0m\u001b[1;33m.\u001b[0m\u001b[0mbest_params\u001b[0m\u001b[1;33m[\u001b[0m\u001b[1;34m'epochs'\u001b[0m\u001b[1;33m]\u001b[0m\u001b[1;33m,\u001b[0m\u001b[1;33m\u001b[0m\u001b[0m\n\u001b[0;32m     58\u001b[0m                                        \u001b[0mbatch_size\u001b[0m\u001b[1;33m=\u001b[0m\u001b[0mself\u001b[0m\u001b[1;33m.\u001b[0m\u001b[0mbest_params\u001b[0m\u001b[1;33m[\u001b[0m\u001b[1;34m'batch_size'\u001b[0m\u001b[1;33m]\u001b[0m\u001b[1;33m,\u001b[0m\u001b[1;33m\u001b[0m\u001b[0m\n",
      "\u001b[1;32m~\\OneDrive\\Documents\\OMSCS\\CS7641\\assignments\\code\\CS7641-assignment1\\NeuralNetworkKeras.py\u001b[0m in \u001b[0;36mcreate_model\u001b[1;34m(self, layer_sizes, learning_rate, loss)\u001b[0m\n\u001b[0;32m     46\u001b[0m         \u001b[1;31m# Adam was best for twitter data\u001b[0m\u001b[1;33m\u001b[0m\u001b[1;33m\u001b[0m\u001b[0m\n\u001b[0;32m     47\u001b[0m         \u001b[0moptimizer\u001b[0m \u001b[1;33m=\u001b[0m \u001b[0mAdam\u001b[0m\u001b[1;33m(\u001b[0m\u001b[0mlr\u001b[0m\u001b[1;33m=\u001b[0m\u001b[0mlearning_rate\u001b[0m\u001b[1;33m)\u001b[0m\u001b[1;33m\u001b[0m\u001b[0m\n\u001b[1;32m---> 48\u001b[1;33m         \u001b[0mmodel\u001b[0m\u001b[1;33m.\u001b[0m\u001b[0mcompile\u001b[0m\u001b[1;33m(\u001b[0m\u001b[0mloss\u001b[0m\u001b[1;33m=\u001b[0m\u001b[0mloss\u001b[0m\u001b[1;33m,\u001b[0m \u001b[0moptimizer\u001b[0m\u001b[1;33m=\u001b[0m\u001b[0moptimizer\u001b[0m\u001b[1;33m,\u001b[0m \u001b[0mmetrics\u001b[0m\u001b[1;33m=\u001b[0m\u001b[1;33m[\u001b[0m\u001b[1;34m'accuracy'\u001b[0m\u001b[1;33m]\u001b[0m\u001b[1;33m)\u001b[0m\u001b[1;33m\u001b[0m\u001b[0m\n\u001b[0m\u001b[0;32m     49\u001b[0m \u001b[1;33m\u001b[0m\u001b[0m\n\u001b[0;32m     50\u001b[0m         \u001b[1;32mreturn\u001b[0m \u001b[0mmodel\u001b[0m\u001b[1;33m\u001b[0m\u001b[0m\n",
      "\u001b[1;32m~\\Anaconda3\\lib\\site-packages\\keras\\engine\\training.py\u001b[0m in \u001b[0;36mcompile\u001b[1;34m(self, optimizer, loss, metrics, loss_weights, sample_weight_mode, weighted_metrics, target_tensors, **kwargs)\u001b[0m\n\u001b[0;32m    137\u001b[0m             \u001b[0mloss_functions\u001b[0m \u001b[1;33m=\u001b[0m \u001b[1;33m[\u001b[0m\u001b[0mlosses\u001b[0m\u001b[1;33m.\u001b[0m\u001b[0mget\u001b[0m\u001b[1;33m(\u001b[0m\u001b[0ml\u001b[0m\u001b[1;33m)\u001b[0m \u001b[1;32mfor\u001b[0m \u001b[0ml\u001b[0m \u001b[1;32min\u001b[0m \u001b[0mloss\u001b[0m\u001b[1;33m]\u001b[0m\u001b[1;33m\u001b[0m\u001b[0m\n\u001b[0;32m    138\u001b[0m         \u001b[1;32melse\u001b[0m\u001b[1;33m:\u001b[0m\u001b[1;33m\u001b[0m\u001b[0m\n\u001b[1;32m--> 139\u001b[1;33m             \u001b[0mloss_function\u001b[0m \u001b[1;33m=\u001b[0m \u001b[0mlosses\u001b[0m\u001b[1;33m.\u001b[0m\u001b[0mget\u001b[0m\u001b[1;33m(\u001b[0m\u001b[0mloss\u001b[0m\u001b[1;33m)\u001b[0m\u001b[1;33m\u001b[0m\u001b[0m\n\u001b[0m\u001b[0;32m    140\u001b[0m             \u001b[0mloss_functions\u001b[0m \u001b[1;33m=\u001b[0m \u001b[1;33m[\u001b[0m\u001b[0mloss_function\u001b[0m \u001b[1;32mfor\u001b[0m \u001b[0m_\u001b[0m \u001b[1;32min\u001b[0m \u001b[0mrange\u001b[0m\u001b[1;33m(\u001b[0m\u001b[0mlen\u001b[0m\u001b[1;33m(\u001b[0m\u001b[0mself\u001b[0m\u001b[1;33m.\u001b[0m\u001b[0moutputs\u001b[0m\u001b[1;33m)\u001b[0m\u001b[1;33m)\u001b[0m\u001b[1;33m]\u001b[0m\u001b[1;33m\u001b[0m\u001b[0m\n\u001b[0;32m    141\u001b[0m         \u001b[0mself\u001b[0m\u001b[1;33m.\u001b[0m\u001b[0mloss_functions\u001b[0m \u001b[1;33m=\u001b[0m \u001b[0mloss_functions\u001b[0m\u001b[1;33m\u001b[0m\u001b[0m\n",
      "\u001b[1;32m~\\Anaconda3\\lib\\site-packages\\keras\\losses.py\u001b[0m in \u001b[0;36mget\u001b[1;34m(identifier)\u001b[0m\n\u001b[0;32m    138\u001b[0m     \u001b[1;32melse\u001b[0m\u001b[1;33m:\u001b[0m\u001b[1;33m\u001b[0m\u001b[0m\n\u001b[0;32m    139\u001b[0m         raise ValueError('Could not interpret '\n\u001b[1;32m--> 140\u001b[1;33m                          'loss function identifier:', identifier)\n\u001b[0m",
      "\u001b[1;31mValueError\u001b[0m: ('Could not interpret loss function identifier:', 0.0005)"
     ],
     "output_type": "error"
    }
   ],
   "source": [
    "best_params = {'batch_size': 10, 'epochs': 1, 'layer_sizes': [12, 1], 'learning_rate': 0.0005,\n",
    "               'loss': 'mean_squared_error'}\n",
    "\n",
    "keras_nn_clf = NN_Keras(model_name='keras_nn_wip1', dataset_name='spam_twitter', best_params=best_params)\n",
    "keras_nn_clf.train(X_train, y_train)\n",
    "y_pred = keras_nn_clf.predict(X_test)\n",
    "keras_nn_clf.evaluate_model(y_test=y_test, y_pred=y_pred)\n"
   ]
  },
  {
   "cell_type": "code",
   "execution_count": 13,
   "metadata": {},
   "outputs": [],
   "source": [
    "keras_nn_best_params = keras_nn_clf.get_best_params()\n",
    "print(keras_nn_best_params)"
   ]
  },
  {
   "cell_type": "code",
   "execution_count": 14,
   "metadata": {
    "collapsed": true
   },
   "outputs": [],
   "source": [
    "# keras_nn_clf = NN_Keras(model_name='keras_nn_optimizer_wip0', dataset_name='spam_twitter')\n",
    "# keras_nn_clf.train(X_train, y_train, optimizer_tuning=True)\n",
    "# y_pred = keras_nn_clf.predict(X_test)\n",
    "# keras_nn_clf.evaluate_model(y_test=y_test, y_pred=y_pred)\n"
   ]
  },
  {
   "cell_type": "code",
   "execution_count": 15,
   "metadata": {},
   "outputs": [],
   "source": [
    "# from sklearn.svm import SVC\n",
    "# \n",
    "# linear_svm_clf = SVC(kernel='linear') #optimize kernel, regularization, gamma\n",
    "# linear_svm_clf.fit(X_train, y_train)\n",
    "# y_pred = linear_svm_clf.predict(X_test)"
   ]
  },
  {
   "cell_type": "code",
   "execution_count": 7,
   "metadata": {},
   "outputs": [
    {
     "name": "stdout",
     "output_type": "stream",
     "text": [
      "Best parameter (CV score=0.860):\n{'svm__C': 0.25, 'svm__degree': 1, 'svm__gamma': 0.25, 'svm__kernel': 'rbf'}\n"
     ]
    },
    {
     "name": "stdout",
     "output_type": "stream",
     "text": [
      "[[3388  547]\n [ 596 3769]]\n             precision    recall  f1-score   support\n\n         -1       0.85      0.86      0.86      3935\n          1       0.87      0.86      0.87      4365\n\navg / total       0.86      0.86      0.86      8300\n\n"
     ]
    }
   ],
   "source": [
    "best_params = {'svm__C': 0.25, 'svm__degree': 1, 'svm__gamma': 0.25, 'svm__kernel': 'rbf'}\n",
    "svm_clf = SVM(model_name='svm_wip0', dataset_name='spam_twitter', best_params=best_params)\n",
    "svm_clf.train(X_train, y_train)\n",
    "y_pred = svm_clf.predict(X_test)\n",
    "svm_clf.evaluate_model(y_test=y_test, y_pred=y_pred)\n"
   ]
  },
  {
   "cell_type": "code",
   "execution_count": 9,
   "metadata": {},
   "outputs": [
    {
     "name": "stdout",
     "output_type": "stream",
     "text": [
      "{'svm__C': 0.25, 'svm__degree': 1, 'svm__gamma': 0.25, 'svm__kernel': 'rbf'}\n"
     ]
    }
   ],
   "source": [
    "svm_best_params = svm_clf.get_best_params()\n",
    "print(svm_best_params) \n",
    "#{'svm__degree': 1, 'svm__kernel': 'rbf'}"
   ]
  },
  {
   "cell_type": "code",
   "execution_count": 19,
   "metadata": {},
   "outputs": [
    {
     "ename": "ValueError",
     "evalue": "could not convert string to float: 'female'",
     "traceback": [
      "\u001b[1;31m---------------------------------------------------------------------------\u001b[0m",
      "\u001b[1;31mValueError\u001b[0m                                Traceback (most recent call last)",
      "\u001b[1;32m<ipython-input-19-ee943dff566e>\u001b[0m in \u001b[0;36m<module>\u001b[1;34m()\u001b[0m\n\u001b[0;32m      1\u001b[0m X_train, X_test, y_train, y_test, X_train_nn, X_validation_nn, y_train_nn, y_validation_nn = de.get_train_test_validation(\n\u001b[1;32m----> 2\u001b[1;33m     speed_dating_df, 'speed_dating')\n\u001b[0m",
      "\u001b[1;32m~\\OneDrive\\Documents\\OMSCS\\CS7641\\assignments\\code\\CS7641-assignment1\\DataExploration.py\u001b[0m in \u001b[0;36mget_train_test_validation\u001b[1;34m(general_df, dataset_name)\u001b[0m\n\u001b[0;32m    116\u001b[0m         \u001b[1;32melif\u001b[0m \u001b[0mdataset_name\u001b[0m \u001b[1;32mis\u001b[0m \u001b[1;34m'speed_dating'\u001b[0m\u001b[1;33m:\u001b[0m\u001b[1;33m\u001b[0m\u001b[0m\n\u001b[0;32m    117\u001b[0m             \u001b[0menc\u001b[0m \u001b[1;33m=\u001b[0m \u001b[0mpreprocessing\u001b[0m\u001b[1;33m.\u001b[0m\u001b[0mOneHotEncoder\u001b[0m\u001b[1;33m(\u001b[0m\u001b[1;33m)\u001b[0m\u001b[1;33m\u001b[0m\u001b[0m\n\u001b[1;32m--> 118\u001b[1;33m             \u001b[0menc\u001b[0m\u001b[1;33m.\u001b[0m\u001b[0mfit\u001b[0m\u001b[1;33m(\u001b[0m\u001b[0mgeneral_df\u001b[0m\u001b[1;33m)\u001b[0m\u001b[1;33m\u001b[0m\u001b[0m\n\u001b[0m\u001b[0;32m    119\u001b[0m             \u001b[0mprint\u001b[0m\u001b[1;33m(\u001b[0m\u001b[0mgeneral_df\u001b[0m\u001b[1;33m.\u001b[0m\u001b[0mhead\u001b[0m\u001b[1;33m(\u001b[0m\u001b[1;36m5\u001b[0m\u001b[1;33m)\u001b[0m\u001b[1;33m)\u001b[0m\u001b[1;33m\u001b[0m\u001b[0m\n\u001b[0;32m    120\u001b[0m             \u001b[0mX\u001b[0m \u001b[1;33m=\u001b[0m \u001b[0mgeneral_df\u001b[0m\u001b[1;33m.\u001b[0m\u001b[0mdrop\u001b[0m\u001b[1;33m(\u001b[0m\u001b[1;34m'match'\u001b[0m\u001b[1;33m,\u001b[0m \u001b[0maxis\u001b[0m\u001b[1;33m=\u001b[0m\u001b[1;36m1\u001b[0m\u001b[1;33m)\u001b[0m\u001b[1;33m.\u001b[0m\u001b[0mdrop\u001b[0m\u001b[1;33m(\u001b[0m\u001b[1;34m'decision'\u001b[0m\u001b[1;33m,\u001b[0m \u001b[0maxis\u001b[0m\u001b[1;33m=\u001b[0m\u001b[1;36m1\u001b[0m\u001b[1;33m)\u001b[0m\u001b[1;33m.\u001b[0m\u001b[0mdrop\u001b[0m\u001b[1;33m(\u001b[0m\u001b[1;34m'decision_o'\u001b[0m\u001b[1;33m,\u001b[0m \u001b[0maxis\u001b[0m\u001b[1;33m=\u001b[0m\u001b[1;36m1\u001b[0m\u001b[1;33m)\u001b[0m\u001b[1;33m\u001b[0m\u001b[0m\n",
      "\u001b[1;32m~\\Anaconda3\\lib\\site-packages\\sklearn\\preprocessing\\data.py\u001b[0m in \u001b[0;36mfit\u001b[1;34m(self, X, y)\u001b[0m\n\u001b[0;32m   1954\u001b[0m         \u001b[0mself\u001b[0m\u001b[1;33m\u001b[0m\u001b[0m\n\u001b[0;32m   1955\u001b[0m         \"\"\"\n\u001b[1;32m-> 1956\u001b[1;33m         \u001b[0mself\u001b[0m\u001b[1;33m.\u001b[0m\u001b[0mfit_transform\u001b[0m\u001b[1;33m(\u001b[0m\u001b[0mX\u001b[0m\u001b[1;33m)\u001b[0m\u001b[1;33m\u001b[0m\u001b[0m\n\u001b[0m\u001b[0;32m   1957\u001b[0m         \u001b[1;32mreturn\u001b[0m \u001b[0mself\u001b[0m\u001b[1;33m\u001b[0m\u001b[0m\n\u001b[0;32m   1958\u001b[0m \u001b[1;33m\u001b[0m\u001b[0m\n",
      "\u001b[1;32m~\\Anaconda3\\lib\\site-packages\\sklearn\\preprocessing\\data.py\u001b[0m in \u001b[0;36mfit_transform\u001b[1;34m(self, X, y)\u001b[0m\n\u001b[0;32m   2017\u001b[0m         \"\"\"\n\u001b[0;32m   2018\u001b[0m         return _transform_selected(X, self._fit_transform,\n\u001b[1;32m-> 2019\u001b[1;33m                                    self.categorical_features, copy=True)\n\u001b[0m\u001b[0;32m   2020\u001b[0m \u001b[1;33m\u001b[0m\u001b[0m\n\u001b[0;32m   2021\u001b[0m     \u001b[1;32mdef\u001b[0m \u001b[0m_transform\u001b[0m\u001b[1;33m(\u001b[0m\u001b[0mself\u001b[0m\u001b[1;33m,\u001b[0m \u001b[0mX\u001b[0m\u001b[1;33m)\u001b[0m\u001b[1;33m:\u001b[0m\u001b[1;33m\u001b[0m\u001b[0m\n",
      "\u001b[1;32m~\\Anaconda3\\lib\\site-packages\\sklearn\\preprocessing\\data.py\u001b[0m in \u001b[0;36m_transform_selected\u001b[1;34m(X, transform, selected, copy)\u001b[0m\n\u001b[0;32m   1807\u001b[0m     \u001b[0mX\u001b[0m \u001b[1;33m:\u001b[0m \u001b[0marray\u001b[0m \u001b[1;32mor\u001b[0m \u001b[0msparse\u001b[0m \u001b[0mmatrix\u001b[0m\u001b[1;33m,\u001b[0m \u001b[0mshape\u001b[0m\u001b[1;33m=\u001b[0m\u001b[1;33m(\u001b[0m\u001b[0mn_samples\u001b[0m\u001b[1;33m,\u001b[0m \u001b[0mn_features_new\u001b[0m\u001b[1;33m)\u001b[0m\u001b[1;33m\u001b[0m\u001b[0m\n\u001b[0;32m   1808\u001b[0m     \"\"\"\n\u001b[1;32m-> 1809\u001b[1;33m     \u001b[0mX\u001b[0m \u001b[1;33m=\u001b[0m \u001b[0mcheck_array\u001b[0m\u001b[1;33m(\u001b[0m\u001b[0mX\u001b[0m\u001b[1;33m,\u001b[0m \u001b[0maccept_sparse\u001b[0m\u001b[1;33m=\u001b[0m\u001b[1;34m'csc'\u001b[0m\u001b[1;33m,\u001b[0m \u001b[0mcopy\u001b[0m\u001b[1;33m=\u001b[0m\u001b[0mcopy\u001b[0m\u001b[1;33m,\u001b[0m \u001b[0mdtype\u001b[0m\u001b[1;33m=\u001b[0m\u001b[0mFLOAT_DTYPES\u001b[0m\u001b[1;33m)\u001b[0m\u001b[1;33m\u001b[0m\u001b[0m\n\u001b[0m\u001b[0;32m   1810\u001b[0m \u001b[1;33m\u001b[0m\u001b[0m\n\u001b[0;32m   1811\u001b[0m     \u001b[1;32mif\u001b[0m \u001b[0misinstance\u001b[0m\u001b[1;33m(\u001b[0m\u001b[0mselected\u001b[0m\u001b[1;33m,\u001b[0m \u001b[0msix\u001b[0m\u001b[1;33m.\u001b[0m\u001b[0mstring_types\u001b[0m\u001b[1;33m)\u001b[0m \u001b[1;32mand\u001b[0m \u001b[0mselected\u001b[0m \u001b[1;33m==\u001b[0m \u001b[1;34m\"all\"\u001b[0m\u001b[1;33m:\u001b[0m\u001b[1;33m\u001b[0m\u001b[0m\n",
      "\u001b[1;32m~\\Anaconda3\\lib\\site-packages\\sklearn\\utils\\validation.py\u001b[0m in \u001b[0;36mcheck_array\u001b[1;34m(array, accept_sparse, dtype, order, copy, force_all_finite, ensure_2d, allow_nd, ensure_min_samples, ensure_min_features, warn_on_dtype, estimator)\u001b[0m\n\u001b[0;32m    431\u001b[0m                                       force_all_finite)\n\u001b[0;32m    432\u001b[0m     \u001b[1;32melse\u001b[0m\u001b[1;33m:\u001b[0m\u001b[1;33m\u001b[0m\u001b[0m\n\u001b[1;32m--> 433\u001b[1;33m         \u001b[0marray\u001b[0m \u001b[1;33m=\u001b[0m \u001b[0mnp\u001b[0m\u001b[1;33m.\u001b[0m\u001b[0marray\u001b[0m\u001b[1;33m(\u001b[0m\u001b[0marray\u001b[0m\u001b[1;33m,\u001b[0m \u001b[0mdtype\u001b[0m\u001b[1;33m=\u001b[0m\u001b[0mdtype\u001b[0m\u001b[1;33m,\u001b[0m \u001b[0morder\u001b[0m\u001b[1;33m=\u001b[0m\u001b[0morder\u001b[0m\u001b[1;33m,\u001b[0m \u001b[0mcopy\u001b[0m\u001b[1;33m=\u001b[0m\u001b[0mcopy\u001b[0m\u001b[1;33m)\u001b[0m\u001b[1;33m\u001b[0m\u001b[0m\n\u001b[0m\u001b[0;32m    434\u001b[0m \u001b[1;33m\u001b[0m\u001b[0m\n\u001b[0;32m    435\u001b[0m         \u001b[1;32mif\u001b[0m \u001b[0mensure_2d\u001b[0m\u001b[1;33m:\u001b[0m\u001b[1;33m\u001b[0m\u001b[0m\n",
      "\u001b[1;31mValueError\u001b[0m: could not convert string to float: 'female'"
     ],
     "output_type": "error"
    }
   ],
   "source": [
    "X_train, X_test, y_train, y_test, X_train_nn, X_validation_nn, y_train_nn, y_validation_nn = de.get_train_test_validation(\n",
    "    speed_dating_df, 'speed_dating')\n",
    "\n"
   ]
  },
  {
   "cell_type": "code",
   "execution_count": null,
   "metadata": {},
   "outputs": [],
   "source": []
  }
 ],
 "metadata": {
  "kernelspec": {
   "display_name": "Python 2",
   "language": "python",
   "name": "python2"
  },
  "language_info": {
   "codemirror_mode": {
    "name": "ipython",
    "version": 2
   },
   "file_extension": ".py",
   "mimetype": "text/x-python",
   "name": "python",
   "nbconvert_exporter": "python",
   "pygments_lexer": "ipython2",
   "version": "2.7.6"
  }
 },
 "nbformat": 4,
 "nbformat_minor": 0
}
