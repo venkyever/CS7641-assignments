{
 "cells": [
  {
   "cell_type": "code",
   "execution_count": 1,
   "metadata": {
    "collapsed": true
   },
   "outputs": [],
   "source": [
    "import numpy as np\n",
    "import random\n",
    "\n",
    "import matplotlib.pyplot as plt\n",
    "import numpy as np\n",
    "from sklearn.model_selection import train_test_split\n",
    "from sklearn.utils import shuffle\n",
    "\n",
    "np.random.seed(42)\n",
    "random.seed(42)"
   ]
  },
  {
   "cell_type": "code",
   "execution_count": 2,
   "metadata": {},
   "outputs": [
    {
     "name": "stderr",
     "output_type": "stream",
     "text": [
      "C:\\Users\\matan\\Anaconda3\\lib\\site-packages\\h5py\\__init__.py:36: FutureWarning: Conversion of the second argument of issubdtype from `float` to `np.floating` is deprecated. In future, it will be treated as `np.float64 == np.dtype(float).type`.\n  from ._conv import register_converters as _register_converters\n"
     ]
    },
    {
     "name": "stderr",
     "output_type": "stream",
     "text": [
      "C:\\Users\\matan\\Anaconda3\\lib\\site-packages\\sklearn\\ensemble\\weight_boosting.py:29: DeprecationWarning: numpy.core.umath_tests is an internal NumPy module and should not be imported. It will be removed in a future NumPy release.\n  from numpy.core.umath_tests import inner1d\nUsing TensorFlow backend.\n"
     ]
    }
   ],
   "source": [
    "from DataExploration import DataExploration\n",
    "from DecisionTree import DecisionTree\n",
    "from NeuralNetwork import DNN\n",
    "from Boosting import Boosting\n",
    "from KNN import KNN\n",
    "from NeuralNetworkKeras import NN_Keras\n",
    "from SVM import SVM\n"
   ]
  },
  {
   "cell_type": "code",
   "execution_count": 3,
   "metadata": {
    "collapsed": false
   },
   "outputs": [
    {
     "name": "stdout",
     "output_type": "stream",
     "text": [
      "(22223, 10)\n"
     ]
    },
    {
     "name": "stdout",
     "output_type": "stream",
     "text": [
      "(19276, 10)\n(41499, 10)\n"
     ]
    },
    {
     "name": "stderr",
     "output_type": "stream",
     "text": [
      "C:\\Users\\matan\\Anaconda3\\lib\\site-packages\\IPython\\core\\interactiveshell.py:2903: DtypeWarning: Columns (3,10,11,15,16,17,18,19,39,40,41,42,43,44,51,52,53,54,55,73,74,75,76,77,78,79,80,81,82,83,84,85,86,87,88,89,107,109) have mixed types. Specify dtype option on import or set low_memory=False.\n  if self.run_code(code, result):\n"
     ]
    }
   ],
   "source": [
    "#need to shuffle to respect iid principal for when we split the data\n",
    "de = DataExploration()\n",
    "\n",
    "twitter_df = de.prepare_twitter_df()\n",
    "speed_dating_df = de.prepare_speed_dating_df()"
   ]
  },
  {
   "cell_type": "code",
   "execution_count": 4,
   "metadata": {},
   "outputs": [],
   "source": [
    "X_train, X_test, y_train, y_test, X_train_nn, X_validation_nn, y_train_nn, y_validation_nn = de.get_train_test_validation(\n",
    "    twitter_df, 'twitter')"
   ]
  },
  {
   "cell_type": "code",
   "execution_count": 5,
   "metadata": {
    "collapsed": false
   },
   "outputs": [
    {
     "name": "stdout",
     "output_type": "stream",
     "text": [
      "[[3504  378]\n [ 316 4102]]\n             precision    recall  f1-score   support\n\n         -1       0.92      0.90      0.91      3882\n          1       0.92      0.93      0.92      4418\n\navg / total       0.92      0.92      0.92      8300\n\n"
     ]
    }
   ],
   "source": [
    "best_params = {'dt__alpha': -0.01, 'dt__max_depth': 9, 'dt__min_samples_leaf': 7}\n",
    "dt_clf = DecisionTree(model_name='dt_wip1', dataset_name='spam_twitter', X_test=X_test, y_test=y_test, best_params=best_params)\n",
    "dt_clf.train(X_train, y_train)\n",
    "y_pred = dt_clf.predict(X_test)\n",
    "dt_clf.evaluate_model(y_test=y_test, y_pred=y_pred)\n",
    "\n",
    "#dt_clfr.get_model().best_estimator_.named_steps['dt'].tree_.max_depth\n"
   ]
  },
  {
   "cell_type": "code",
   "execution_count": 6,
   "metadata": {},
   "outputs": [
    {
     "name": "stdout",
     "output_type": "stream",
     "text": [
      "{'dt__alpha': -0.01, 'dt__max_depth': 9, 'dt__min_samples_leaf': 7}\n"
     ]
    }
   ],
   "source": [
    "dt_best_params = dt_clf.get_best_params()\n",
    "print(dt_best_params)"
   ]
  },
  {
   "cell_type": "code",
   "execution_count": 7,
   "metadata": {
    "collapsed": false
   },
   "outputs": [],
   "source": [
    "# dnn = DNN(n_classes=2, model_name='dnn_wip_3', dataset_name='spam_twitter')\n",
    "# dnn.train(\n",
    "#     learning_rate=0.05,\n",
    "#     steps=1000,\n",
    "#     batch_size=30,\n",
    "#     hidden_units=[100, 100],\n",
    "#     training_examples=X_train_nn,\n",
    "#     training_targets=y_train_nn,\n",
    "#     validation_examples=X_validation_nn,\n",
    "#     validation_targets=y_validation_nn)\n",
    "# \n",
    "# y_pred = dnn.predict(X_test, y_test)"
   ]
  },
  {
   "cell_type": "code",
   "execution_count": 8,
   "metadata": {},
   "outputs": [
    {
     "name": "stdout",
     "output_type": "stream",
     "text": [
      "[[3419  463]\n [ 522 3896]]\n             precision    recall  f1-score   support\n\n         -1       0.87      0.88      0.87      3882\n          1       0.89      0.88      0.89      4418\n\navg / total       0.88      0.88      0.88      8300\n\n"
     ]
    }
   ],
   "source": [
    "best_params = {'boost__base_estimator__max_depth': 12, 'boost__n_estimators': 80}\n",
    "# todo this is lower than pre pruning, figure out why\n",
    "boosting_clf = Boosting(model_name='boosting_wip0', dataset_name='spam_twitter', X_test=X_test, y_test=y_test,\n",
    "                        best_params=best_params)\n",
    "boosting_clf.train(X_train, y_train)\n",
    "y_pred = boosting_clf.predict(X_test)\n",
    "boosting_clf.evaluate_model(y_test=y_test, y_pred=y_pred)\n"
   ]
  },
  {
   "cell_type": "code",
   "execution_count": 9,
   "metadata": {},
   "outputs": [
    {
     "name": "stdout",
     "output_type": "stream",
     "text": [
      "{'boost__base_estimator__max_depth': 12, 'boost__n_estimators': 80}\n"
     ]
    }
   ],
   "source": [
    "boosting_best_params = boosting_clf.get_best_params()\n",
    "print(boosting_best_params)"
   ]
  },
  {
   "cell_type": "code",
   "execution_count": 10,
   "metadata": {},
   "outputs": [
    {
     "name": "stdout",
     "output_type": "stream",
     "text": [
      "[[3453  429]\n [ 531 3887]]\n             precision    recall  f1-score   support\n\n         -1       0.87      0.89      0.88      3882\n          1       0.90      0.88      0.89      4418\n\navg / total       0.88      0.88      0.88      8300\n\n"
     ]
    }
   ],
   "source": [
    "best_params = {'knn__metric': 'manhattan', 'knn__n_neighbors': 10, 'knn__weights': 'distance'}\n",
    "knn_clf = KNN(model_name='knn_wip0', dataset_name='spam_twitter', best_params=best_params)\n",
    "knn_clf.train(X_train, y_train)\n",
    "y_pred = knn_clf.predict(X_test)\n",
    "knn_clf.evaluate_model(y_test=y_test, y_pred=y_pred)\n"
   ]
  },
  {
   "cell_type": "code",
   "execution_count": 11,
   "metadata": {},
   "outputs": [
    {
     "name": "stdout",
     "output_type": "stream",
     "text": [
      "{'knn__metric': 'manhattan', 'knn__n_neighbors': 10, 'knn__weights': 'distance'}\n"
     ]
    }
   ],
   "source": [
    "knn_best_params = knn_clf.get_best_params()\n",
    "print(knn_best_params)"
   ]
  },
  {
   "cell_type": "code",
   "execution_count": 12,
   "metadata": {
    "collapsed": false
   },
   "outputs": [
    {
     "ename": "ValueError",
     "evalue": "('Could not interpret loss function identifier:', 0.0005)",
     "traceback": [
      "\u001b[1;31m---------------------------------------------------------------------------\u001b[0m",
      "\u001b[1;31mValueError\u001b[0m                                Traceback (most recent call last)",
      "\u001b[1;32m<ipython-input-12-d2ecbdccf6cf>\u001b[0m in \u001b[0;36m<module>\u001b[1;34m()\u001b[0m\n\u001b[0;32m      3\u001b[0m \u001b[1;33m\u001b[0m\u001b[0m\n\u001b[0;32m      4\u001b[0m \u001b[0mkeras_nn_clf\u001b[0m \u001b[1;33m=\u001b[0m \u001b[0mNN_Keras\u001b[0m\u001b[1;33m(\u001b[0m\u001b[0mmodel_name\u001b[0m\u001b[1;33m=\u001b[0m\u001b[1;34m'keras_nn_wip1'\u001b[0m\u001b[1;33m,\u001b[0m \u001b[0mdataset_name\u001b[0m\u001b[1;33m=\u001b[0m\u001b[1;34m'spam_twitter'\u001b[0m\u001b[1;33m,\u001b[0m \u001b[0mbest_params\u001b[0m\u001b[1;33m=\u001b[0m\u001b[0mbest_params\u001b[0m\u001b[1;33m)\u001b[0m\u001b[1;33m\u001b[0m\u001b[0m\n\u001b[1;32m----> 5\u001b[1;33m \u001b[0mkeras_nn_clf\u001b[0m\u001b[1;33m.\u001b[0m\u001b[0mtrain\u001b[0m\u001b[1;33m(\u001b[0m\u001b[0mX_train\u001b[0m\u001b[1;33m,\u001b[0m \u001b[0my_train\u001b[0m\u001b[1;33m)\u001b[0m\u001b[1;33m\u001b[0m\u001b[0m\n\u001b[0m\u001b[0;32m      6\u001b[0m \u001b[0my_pred\u001b[0m \u001b[1;33m=\u001b[0m \u001b[0mkeras_nn_clf\u001b[0m\u001b[1;33m.\u001b[0m\u001b[0mpredict\u001b[0m\u001b[1;33m(\u001b[0m\u001b[0mX_test\u001b[0m\u001b[1;33m)\u001b[0m\u001b[1;33m\u001b[0m\u001b[0m\n\u001b[0;32m      7\u001b[0m \u001b[0mkeras_nn_clf\u001b[0m\u001b[1;33m.\u001b[0m\u001b[0mevaluate_model\u001b[0m\u001b[1;33m(\u001b[0m\u001b[0my_test\u001b[0m\u001b[1;33m=\u001b[0m\u001b[0my_test\u001b[0m\u001b[1;33m,\u001b[0m \u001b[0my_pred\u001b[0m\u001b[1;33m=\u001b[0m\u001b[0my_pred\u001b[0m\u001b[1;33m)\u001b[0m\u001b[1;33m\u001b[0m\u001b[0m\n",
      "\u001b[1;32m~\\OneDrive\\Documents\\OMSCS\\CS7641\\assignments\\code\\CS7641-assignment1\\NeuralNetworkKeras.py\u001b[0m in \u001b[0;36mtrain\u001b[1;34m(self, X_train, y_train, optimizer_tuning, override_best_params)\u001b[0m\n\u001b[0;32m     54\u001b[0m             nn_model = KerasClassifier(build_fn=self.create_model(layer_sizes=self.best_params['layer_sizes'],\n\u001b[0;32m     55\u001b[0m                                                                   \u001b[0mlearning_rate\u001b[0m\u001b[1;33m=\u001b[0m\u001b[0mself\u001b[0m\u001b[1;33m.\u001b[0m\u001b[0mbest_params\u001b[0m\u001b[1;33m[\u001b[0m\u001b[1;34m'learning_rate'\u001b[0m\u001b[1;33m]\u001b[0m\u001b[1;33m,\u001b[0m\u001b[1;33m\u001b[0m\u001b[0m\n\u001b[1;32m---> 56\u001b[1;33m                                                                   loss=self.best_params['learning_rate']),\n\u001b[0m\u001b[0;32m     57\u001b[0m                                        \u001b[0mepochs\u001b[0m\u001b[1;33m=\u001b[0m\u001b[0mself\u001b[0m\u001b[1;33m.\u001b[0m\u001b[0mbest_params\u001b[0m\u001b[1;33m[\u001b[0m\u001b[1;34m'epochs'\u001b[0m\u001b[1;33m]\u001b[0m\u001b[1;33m,\u001b[0m\u001b[1;33m\u001b[0m\u001b[0m\n\u001b[0;32m     58\u001b[0m                                        \u001b[0mbatch_size\u001b[0m\u001b[1;33m=\u001b[0m\u001b[0mself\u001b[0m\u001b[1;33m.\u001b[0m\u001b[0mbest_params\u001b[0m\u001b[1;33m[\u001b[0m\u001b[1;34m'batch_size'\u001b[0m\u001b[1;33m]\u001b[0m\u001b[1;33m,\u001b[0m\u001b[1;33m\u001b[0m\u001b[0m\n",
      "\u001b[1;32m~\\OneDrive\\Documents\\OMSCS\\CS7641\\assignments\\code\\CS7641-assignment1\\NeuralNetworkKeras.py\u001b[0m in \u001b[0;36mcreate_model\u001b[1;34m(self, layer_sizes, learning_rate, loss)\u001b[0m\n\u001b[0;32m     46\u001b[0m         \u001b[1;31m# Adam was best for twitter data\u001b[0m\u001b[1;33m\u001b[0m\u001b[1;33m\u001b[0m\u001b[0m\n\u001b[0;32m     47\u001b[0m         \u001b[0moptimizer\u001b[0m \u001b[1;33m=\u001b[0m \u001b[0mAdam\u001b[0m\u001b[1;33m(\u001b[0m\u001b[0mlr\u001b[0m\u001b[1;33m=\u001b[0m\u001b[0mlearning_rate\u001b[0m\u001b[1;33m)\u001b[0m\u001b[1;33m\u001b[0m\u001b[0m\n\u001b[1;32m---> 48\u001b[1;33m         \u001b[0mmodel\u001b[0m\u001b[1;33m.\u001b[0m\u001b[0mcompile\u001b[0m\u001b[1;33m(\u001b[0m\u001b[0mloss\u001b[0m\u001b[1;33m=\u001b[0m\u001b[0mloss\u001b[0m\u001b[1;33m,\u001b[0m \u001b[0moptimizer\u001b[0m\u001b[1;33m=\u001b[0m\u001b[0moptimizer\u001b[0m\u001b[1;33m,\u001b[0m \u001b[0mmetrics\u001b[0m\u001b[1;33m=\u001b[0m\u001b[1;33m[\u001b[0m\u001b[1;34m'accuracy'\u001b[0m\u001b[1;33m]\u001b[0m\u001b[1;33m)\u001b[0m\u001b[1;33m\u001b[0m\u001b[0m\n\u001b[0m\u001b[0;32m     49\u001b[0m \u001b[1;33m\u001b[0m\u001b[0m\n\u001b[0;32m     50\u001b[0m         \u001b[1;32mreturn\u001b[0m \u001b[0mmodel\u001b[0m\u001b[1;33m\u001b[0m\u001b[0m\n",
      "\u001b[1;32m~\\Anaconda3\\lib\\site-packages\\keras\\engine\\training.py\u001b[0m in \u001b[0;36mcompile\u001b[1;34m(self, optimizer, loss, metrics, loss_weights, sample_weight_mode, weighted_metrics, target_tensors, **kwargs)\u001b[0m\n\u001b[0;32m    137\u001b[0m             \u001b[0mloss_functions\u001b[0m \u001b[1;33m=\u001b[0m \u001b[1;33m[\u001b[0m\u001b[0mlosses\u001b[0m\u001b[1;33m.\u001b[0m\u001b[0mget\u001b[0m\u001b[1;33m(\u001b[0m\u001b[0ml\u001b[0m\u001b[1;33m)\u001b[0m \u001b[1;32mfor\u001b[0m \u001b[0ml\u001b[0m \u001b[1;32min\u001b[0m \u001b[0mloss\u001b[0m\u001b[1;33m]\u001b[0m\u001b[1;33m\u001b[0m\u001b[0m\n\u001b[0;32m    138\u001b[0m         \u001b[1;32melse\u001b[0m\u001b[1;33m:\u001b[0m\u001b[1;33m\u001b[0m\u001b[0m\n\u001b[1;32m--> 139\u001b[1;33m             \u001b[0mloss_function\u001b[0m \u001b[1;33m=\u001b[0m \u001b[0mlosses\u001b[0m\u001b[1;33m.\u001b[0m\u001b[0mget\u001b[0m\u001b[1;33m(\u001b[0m\u001b[0mloss\u001b[0m\u001b[1;33m)\u001b[0m\u001b[1;33m\u001b[0m\u001b[0m\n\u001b[0m\u001b[0;32m    140\u001b[0m             \u001b[0mloss_functions\u001b[0m \u001b[1;33m=\u001b[0m \u001b[1;33m[\u001b[0m\u001b[0mloss_function\u001b[0m \u001b[1;32mfor\u001b[0m \u001b[0m_\u001b[0m \u001b[1;32min\u001b[0m \u001b[0mrange\u001b[0m\u001b[1;33m(\u001b[0m\u001b[0mlen\u001b[0m\u001b[1;33m(\u001b[0m\u001b[0mself\u001b[0m\u001b[1;33m.\u001b[0m\u001b[0moutputs\u001b[0m\u001b[1;33m)\u001b[0m\u001b[1;33m)\u001b[0m\u001b[1;33m]\u001b[0m\u001b[1;33m\u001b[0m\u001b[0m\n\u001b[0;32m    141\u001b[0m         \u001b[0mself\u001b[0m\u001b[1;33m.\u001b[0m\u001b[0mloss_functions\u001b[0m \u001b[1;33m=\u001b[0m \u001b[0mloss_functions\u001b[0m\u001b[1;33m\u001b[0m\u001b[0m\n",
      "\u001b[1;32m~\\Anaconda3\\lib\\site-packages\\keras\\losses.py\u001b[0m in \u001b[0;36mget\u001b[1;34m(identifier)\u001b[0m\n\u001b[0;32m    138\u001b[0m     \u001b[1;32melse\u001b[0m\u001b[1;33m:\u001b[0m\u001b[1;33m\u001b[0m\u001b[0m\n\u001b[0;32m    139\u001b[0m         raise ValueError('Could not interpret '\n\u001b[1;32m--> 140\u001b[1;33m                          'loss function identifier:', identifier)\n\u001b[0m",
      "\u001b[1;31mValueError\u001b[0m: ('Could not interpret loss function identifier:', 0.0005)"
     ],
     "output_type": "error"
    }
   ],
   "source": [
    "best_params = {'batch_size': 10, 'epochs': 1, 'layer_sizes': [12, 1], 'learning_rate': 0.0005,\n",
    "               'loss': 'mean_squared_error'}\n",
    "\n",
    "keras_nn_clf = NN_Keras(model_name='keras_nn_wip1', dataset_name='spam_twitter', best_params=best_params)\n",
    "keras_nn_clf.train(X_train, y_train)\n",
    "y_pred = keras_nn_clf.predict(X_test)\n",
    "keras_nn_clf.evaluate_model(y_test=y_test, y_pred=y_pred)\n"
   ]
  },
  {
   "cell_type": "code",
   "execution_count": 13,
   "metadata": {},
   "outputs": [],
   "source": [
    "keras_nn_best_params = keras_nn_clf.get_best_params()\n",
    "print(keras_nn_best_params)"
   ]
  },
  {
   "cell_type": "code",
   "execution_count": 14,
   "metadata": {
    "collapsed": true
   },
   "outputs": [],
   "source": [
    "# keras_nn_clf = NN_Keras(model_name='keras_nn_optimizer_wip0', dataset_name='spam_twitter')\n",
    "# keras_nn_clf.train(X_train, y_train, optimizer_tuning=True)\n",
    "# y_pred = keras_nn_clf.predict(X_test)\n",
    "# keras_nn_clf.evaluate_model(y_test=y_test, y_pred=y_pred)\n"
   ]
  },
  {
   "cell_type": "code",
   "execution_count": 15,
   "metadata": {},
   "outputs": [],
   "source": [
    "# from sklearn.svm import SVC\n",
    "# \n",
    "# linear_svm_clf = SVC(kernel='linear') #optimize kernel, regularization, gamma\n",
    "# linear_svm_clf.fit(X_train, y_train)\n",
    "# y_pred = linear_svm_clf.predict(X_test)"
   ]
  },
  {
   "cell_type": "code",
   "execution_count": 16,
   "metadata": {},
   "outputs": [],
   "source": [
    "\n",
    "svm_clf = SVM(model_name='svm_wip0', dataset_name='spam_twitter')\n",
    "svm_clf.train(X_train, y_train)\n",
    "y_pred = svm_clf.predict(X_test)\n",
    "svm_clf.evaluate_model(y_test=y_test, y_pred=y_pred)\n"
   ]
  },
  {
   "cell_type": "code",
   "execution_count": null,
   "metadata": {},
   "outputs": [
    {
     "ename": "NameError",
     "evalue": "name 'svm_clf' is not defined",
     "traceback": [
      "\u001b[1;31m---------------------------------------------------------------------------\u001b[0m",
      "\u001b[1;31mNameError\u001b[0m                                 Traceback (most recent call last)",
      "\u001b[1;32m<ipython-input-17-74f2d4caef9f>\u001b[0m in \u001b[0;36m<module>\u001b[1;34m()\u001b[0m\n\u001b[1;32m----> 1\u001b[1;33m \u001b[0msvm_best_params\u001b[0m \u001b[1;33m=\u001b[0m \u001b[0msvm_clf\u001b[0m\u001b[1;33m.\u001b[0m\u001b[0mget_best_params\u001b[0m\u001b[1;33m(\u001b[0m\u001b[1;33m)\u001b[0m\u001b[1;33m\u001b[0m\u001b[0m\n\u001b[0m\u001b[0;32m      2\u001b[0m \u001b[0mprint\u001b[0m\u001b[1;33m(\u001b[0m\u001b[0msvm_best_params\u001b[0m\u001b[1;33m)\u001b[0m\u001b[1;33m\u001b[0m\u001b[0m\n",
      "\u001b[1;31mNameError\u001b[0m: name 'svm_clf' is not defined"
     ],
     "output_type": "error"
    }
   ],
   "source": [
    "svm_best_params = svm_clf.get_best_params()\n",
    "print(svm_best_params)"
   ]
  },
  {
   "cell_type": "code",
   "execution_count": null,
   "metadata": {},
   "outputs": [
    {
     "ename": "NameError",
     "evalue": "name 'de' is not defined",
     "traceback": [
      "\u001b[1;31m---------------------------------------------------------------------------\u001b[0m",
      "\u001b[1;31mNameError\u001b[0m                                 Traceback (most recent call last)",
      "\u001b[1;32m<ipython-input-18-ee943dff566e>\u001b[0m in \u001b[0;36m<module>\u001b[1;34m()\u001b[0m\n\u001b[1;32m----> 1\u001b[1;33m X_train, X_test, y_train, y_test, X_train_nn, X_validation_nn, y_train_nn, y_validation_nn = de.get_train_test_validation(\n\u001b[0m\u001b[0;32m      2\u001b[0m     speed_dating_df, 'speed_dating')\n",
      "\u001b[1;31mNameError\u001b[0m: name 'de' is not defined"
     ],
     "output_type": "error"
    }
   ],
   "source": [
    "X_train, X_test, y_train, y_test, X_train_nn, X_validation_nn, y_train_nn, y_validation_nn = de.get_train_test_validation(\n",
    "    speed_dating_df, 'speed_dating')\n",
    "\n"
   ]
  }
 ],
 "metadata": {
  "kernelspec": {
   "display_name": "Python 2",
   "language": "python",
   "name": "python2"
  },
  "language_info": {
   "codemirror_mode": {
    "name": "ipython",
    "version": 2
   },
   "file_extension": ".py",
   "mimetype": "text/x-python",
   "name": "python",
   "nbconvert_exporter": "python",
   "pygments_lexer": "ipython2",
   "version": "2.7.6"
  }
 },
 "nbformat": 4,
 "nbformat_minor": 0
}
