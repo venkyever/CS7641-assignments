{
 "cells": [
  {
   "cell_type": "code",
   "execution_count": 1,
   "metadata": {
    "collapsed": true
   },
   "outputs": [],
   "source": [
    "import numpy as np\n",
    "import random\n",
    "\n",
    "import matplotlib.pyplot as plt\n",
    "import numpy as np\n",
    "from sklearn.model_selection import train_test_split\n",
    "from sklearn.utils import shuffle\n",
    "\n",
    "np.random.seed(42)\n",
    "random.seed(42)"
   ]
  },
  {
   "cell_type": "code",
   "execution_count": 2,
   "metadata": {},
   "outputs": [
    {
     "name": "stderr",
     "output_type": "stream",
     "text": [
      "C:\\Users\\matan\\Anaconda3\\lib\\site-packages\\h5py\\__init__.py:36: FutureWarning: Conversion of the second argument of issubdtype from `float` to `np.floating` is deprecated. In future, it will be treated as `np.float64 == np.dtype(float).type`.\n  from ._conv import register_converters as _register_converters\n"
     ]
    },
    {
     "name": "stderr",
     "output_type": "stream",
     "text": [
      "C:\\Users\\matan\\Anaconda3\\lib\\site-packages\\sklearn\\ensemble\\weight_boosting.py:29: DeprecationWarning: numpy.core.umath_tests is an internal NumPy module and should not be imported. It will be removed in a future NumPy release.\n  from numpy.core.umath_tests import inner1d\nUsing TensorFlow backend.\n"
     ]
    }
   ],
   "source": [
    "from DataExploration import DataExploration\n",
    "from DecisionTree import DecisionTree\n",
    "from NeuralNetwork import DNN\n",
    "from Boosting import Boosting\n",
    "from KNN import KNN\n",
    "from NeuralNetworkKeras import NN_Keras\n",
    "from SVM import SVM\n"
   ]
  },
  {
   "cell_type": "code",
   "execution_count": 3,
   "metadata": {
    "collapsed": false
   },
   "outputs": [
    {
     "name": "stdout",
     "output_type": "stream",
     "text": [
      "(22223, 10)\n"
     ]
    },
    {
     "name": "stdout",
     "output_type": "stream",
     "text": [
      "(19276, 10)\n(41499, 10)\n"
     ]
    }
   ],
   "source": [
    "#need to shuffle to respect iid principal for when we split the data\n",
    "de = DataExploration()\n",
    "\n",
    "twitter_df = de.prepare_twitter_df()\n",
    "speed_dating_df = de.prepare_speed_dating_df()"
   ]
  },
  {
   "cell_type": "code",
   "execution_count": 4,
   "metadata": {},
   "outputs": [
    {
     "name": "stdout",
     "output_type": "stream",
     "text": [
      "(41499, 10)\n"
     ]
    }
   ],
   "source": [
    "X_train, X_test, y_train, y_test, X_train_nn, X_validation_nn, y_train_nn, y_validation_nn = de.get_train_test_validation(\n",
    "    twitter_df, 'twitter')"
   ]
  },
  {
   "cell_type": "code",
   "execution_count": 5,
   "metadata": {
    "collapsed": false
   },
   "outputs": [
    {
     "name": "stdout",
     "output_type": "stream",
     "text": [
      "[[3504  378]\n [ 316 4102]]\n             precision    recall  f1-score   support\n\n         -1       0.92      0.90      0.91      3882\n          1       0.92      0.93      0.92      4418\n\navg / total       0.92      0.92      0.92      8300\n\n"
     ]
    },
    {
     "ename": "AttributeError",
     "evalue": "'Pipeline' object has no attribute 'best_estimator_'",
     "traceback": [
      "\u001b[1;31m---------------------------------------------------------------------------\u001b[0m",
      "\u001b[1;31mAttributeError\u001b[0m                            Traceback (most recent call last)",
      "\u001b[1;32m<ipython-input-5-dabb61889b74>\u001b[0m in \u001b[0;36m<module>\u001b[1;34m()\u001b[0m\n\u001b[0;32m      3\u001b[0m \u001b[0mdt_clf\u001b[0m\u001b[1;33m.\u001b[0m\u001b[0mtrain\u001b[0m\u001b[1;33m(\u001b[0m\u001b[0mX_train\u001b[0m\u001b[1;33m,\u001b[0m \u001b[0my_train\u001b[0m\u001b[1;33m)\u001b[0m\u001b[1;33m\u001b[0m\u001b[0m\n\u001b[0;32m      4\u001b[0m \u001b[0my_pred\u001b[0m \u001b[1;33m=\u001b[0m \u001b[0mdt_clf\u001b[0m\u001b[1;33m.\u001b[0m\u001b[0mpredict\u001b[0m\u001b[1;33m(\u001b[0m\u001b[0mX_test\u001b[0m\u001b[1;33m)\u001b[0m\u001b[1;33m\u001b[0m\u001b[0m\n\u001b[1;32m----> 5\u001b[1;33m \u001b[0mdt_clf\u001b[0m\u001b[1;33m.\u001b[0m\u001b[0mevaluate_model\u001b[0m\u001b[1;33m(\u001b[0m\u001b[0my_test\u001b[0m\u001b[1;33m=\u001b[0m\u001b[0my_test\u001b[0m\u001b[1;33m,\u001b[0m \u001b[0my_pred\u001b[0m\u001b[1;33m=\u001b[0m\u001b[0my_pred\u001b[0m\u001b[1;33m)\u001b[0m\u001b[1;33m\u001b[0m\u001b[0m\n\u001b[0m\u001b[0;32m      6\u001b[0m \u001b[1;33m\u001b[0m\u001b[0m\n\u001b[0;32m      7\u001b[0m \u001b[1;31m#dt_clfr.get_model().best_estimator_.named_steps['dt'].tree_.max_depth\u001b[0m\u001b[1;33m\u001b[0m\u001b[1;33m\u001b[0m\u001b[0m\n",
      "\u001b[1;32m~\\OneDrive\\Documents\\OMSCS\\CS7641\\assignments\\code\\CS7641-assignment1\\DecisionTree.py\u001b[0m in \u001b[0;36mevaluate_model\u001b[1;34m(self, y_test, y_pred)\u001b[0m\n\u001b[0;32m    138\u001b[0m         \u001b[0mprint\u001b[0m\u001b[1;33m(\u001b[0m\u001b[0mclassification_report\u001b[0m\u001b[1;33m(\u001b[0m\u001b[0my_test\u001b[0m\u001b[1;33m,\u001b[0m \u001b[0my_pred\u001b[0m\u001b[1;33m)\u001b[0m\u001b[1;33m)\u001b[0m\u001b[1;33m\u001b[0m\u001b[0m\n\u001b[0;32m    139\u001b[0m \u001b[1;33m\u001b[0m\u001b[0m\n\u001b[1;32m--> 140\u001b[1;33m         tree.export_graphviz(self.dt_model.best_estimator_.named_steps['dt'],\n\u001b[0m\u001b[0;32m    141\u001b[0m                              out_file=f'./figs/decision_tree_{self.model_name}.dot')\n\u001b[0;32m    142\u001b[0m \u001b[1;33m\u001b[0m\u001b[0m\n",
      "\u001b[1;31mAttributeError\u001b[0m: 'Pipeline' object has no attribute 'best_estimator_'"
     ],
     "output_type": "error"
    }
   ],
   "source": [
    "best_params = {'dt__alpha': -0.01, 'dt__max_depth': 9, 'dt__min_samples_leaf': 7}\n",
    "dt_clf = DecisionTree(model_name='dt_wip1', dataset_name='spam_twitter', X_test=X_test, y_test=y_test, best_params=best_params)\n",
    "dt_clf.train(X_train, y_train)\n",
    "y_pred = dt_clf.predict(X_test)\n",
    "dt_clf.evaluate_model(y_test=y_test, y_pred=y_pred)\n",
    "\n",
    "#dt_clfr.get_model().best_estimator_.named_steps['dt'].tree_.max_depth\n"
   ]
  },
  {
   "cell_type": "code",
   "execution_count": 6,
   "metadata": {},
   "outputs": [
    {
     "name": "stdout",
     "output_type": "stream",
     "text": [
      "{'dt__alpha': -0.01, 'dt__max_depth': 9, 'dt__min_samples_leaf': 7}\n"
     ]
    }
   ],
   "source": [
    "dt_best_params = dt_clf.get_best_params()\n",
    "print(dt_best_params)"
   ]
  },
  {
   "cell_type": "code",
   "execution_count": 7,
   "metadata": {
    "collapsed": false
   },
   "outputs": [],
   "source": [
    "# dnn = DNN(n_classes=2, model_name='dnn_wip_3', dataset_name='spam_twitter')\n",
    "# dnn.train(\n",
    "#     learning_rate=0.05,\n",
    "#     steps=1000,\n",
    "#     batch_size=30,\n",
    "#     hidden_units=[100, 100],\n",
    "#     training_examples=X_train_nn,\n",
    "#     training_targets=y_train_nn,\n",
    "#     validation_examples=X_validation_nn,\n",
    "#     validation_targets=y_validation_nn)\n",
    "# \n",
    "# y_pred = dnn.predict(X_test, y_test)"
   ]
  },
  {
   "cell_type": "code",
   "execution_count": 8,
   "metadata": {},
   "outputs": [
    {
     "name": "stdout",
     "output_type": "stream",
     "text": [
      "Best parameter (CV score=0.910):\n{'boost__base_estimator__max_depth': 12, 'boost__n_estimators': 80}\n"
     ]
    },
    {
     "name": "stdout",
     "output_type": "stream",
     "text": [
      "[[3419  463]\n [ 522 3896]]\n             precision    recall  f1-score   support\n\n         -1       0.87      0.88      0.87      3882\n          1       0.89      0.88      0.89      4418\n\navg / total       0.88      0.88      0.88      8300\n\n"
     ]
    }
   ],
   "source": [
    "best_params = {'boost__base_estimator__max_depth': 12, 'boost__n_estimators': 80}\n",
    "# todo this is lower than pre pruning, figure out why\n",
    "boosting_clf = Boosting(model_name='boosting_wip0', dataset_name='spam_twitter', X_test=X_test, y_test=y_test,\n",
    "                        best_params=best_params)\n",
    "boosting_clf.train(X_train, y_train)\n",
    "y_pred = boosting_clf.predict(X_test)\n",
    "boosting_clf.evaluate_model(y_test=y_test, y_pred=y_pred)\n"
   ]
  },
  {
   "cell_type": "code",
   "execution_count": 13,
   "metadata": {},
   "outputs": [
    {
     "name": "stdout",
     "output_type": "stream",
     "text": [
      "{'boost__base_estimator__max_depth': 12, 'boost__n_estimators': 80}\n"
     ]
    }
   ],
   "source": [
    "boosting_best_params = boosting_clf.get_best_params()\n",
    "print(boosting_best_params)"
   ]
  },
  {
   "cell_type": "code",
   "execution_count": null,
   "metadata": {},
   "outputs": [
    {
     "name": "stdout",
     "output_type": "stream",
     "text": [
      "Best parameter (CV score=0.880):\n{'knn__metric': 'manhattan', 'knn__n_neighbors': 10, 'knn__weights': 'distance'}\n"
     ]
    },
    {
     "name": "stdout",
     "output_type": "stream",
     "text": [
      "[[3453  429]\n [ 531 3887]]\n             precision    recall  f1-score   support\n\n         -1       0.87      0.89      0.88      3882\n          1       0.90      0.88      0.89      4418\n\navg / total       0.88      0.88      0.88      8300\n\n"
     ]
    }
   ],
   "source": [
    "best_params = {'knn__metric': 'manhattan', 'knn__n_neighbors': 10, 'knn__weights': 'distance'}\n",
    "knn_clf = KNN(model_name='knn_wip0', dataset_name='spam_twitter', best_params=best_params)\n",
    "knn_clf.train(X_train, y_train)\n",
    "y_pred = knn_clf.predict(X_test)\n",
    "knn_clf.evaluate_model(y_test=y_test, y_pred=y_pred)\n"
   ]
  },
  {
   "cell_type": "code",
   "execution_count": 9,
   "metadata": {},
   "outputs": [
    {
     "name": "stdout",
     "output_type": "stream",
     "text": [
      "{'knn__metric': 'manhattan', 'knn__n_neighbors': 10, 'knn__weights': 'distance'}\n"
     ]
    }
   ],
   "source": [
    "knn_best_params = knn_clf.get_best_params()\n",
    "print(knn_best_params)"
   ]
  },
  {
   "cell_type": "code",
   "execution_count": 10,
   "metadata": {
    "collapsed": false
   },
   "outputs": [
    {
     "name": "stdout",
     "output_type": "stream",
     "text": [
      "Fitting 3 folds for each of 600 candidates, totalling 1800 fits\n"
     ]
    },
    {
     "name": "stderr",
     "output_type": "stream",
     "text": [
      "[Parallel(n_jobs=-1)]: Done  25 tasks      | elapsed:  1.4min\n"
     ]
    },
    {
     "name": "stderr",
     "output_type": "stream",
     "text": [
      "[Parallel(n_jobs=-1)]: Done 146 tasks      | elapsed: 24.9min\n"
     ]
    },
    {
     "name": "stderr",
     "output_type": "stream",
     "text": [
      "[Parallel(n_jobs=-1)]: Done 349 tasks      | elapsed: 213.4min\n"
     ]
    },
    {
     "name": "stderr",
     "output_type": "stream",
     "text": [
      "[Parallel(n_jobs=-1)]: Done 632 tasks      | elapsed: 285.2min\n"
     ]
    },
    {
     "name": "stderr",
     "output_type": "stream",
     "text": [
      "[Parallel(n_jobs=-1)]: Done 997 tasks      | elapsed: 346.2min\n"
     ]
    },
    {
     "name": "stderr",
     "output_type": "stream",
     "text": [
      "[Parallel(n_jobs=-1)]: Done 1442 tasks      | elapsed: 399.5min\n"
     ]
    },
    {
     "name": "stderr",
     "output_type": "stream",
     "text": [
      "[Parallel(n_jobs=-1)]: Done 1800 out of 1800 | elapsed: 430.2min finished\n"
     ]
    },
    {
     "name": "stdout",
     "output_type": "stream",
     "text": [
      "Best: 0.536311 using {'batch_size': 10, 'epochs': 1, 'layer_sizes': [12, 1], 'learning_rate': 0.0005, 'loss': 'mean_squared_error'}\n0.536311 (0.005037) with: {'batch_size': 10, 'epochs': 1, 'layer_sizes': [12, 1], 'learning_rate': 0.0005, 'loss': 'mean_squared_error'}\n0.536311 (0.005037) with: {'batch_size': 10, 'epochs': 1, 'layer_sizes': [12, 1], 'learning_rate': 0.0005, 'loss': 'logcosh'}\n0.536311 (0.005037) with: {'batch_size': 10, 'epochs': 1, 'layer_sizes': [12, 1], 'learning_rate': 0.0005, 'loss': 'binary_crossentropy'}\n0.536311 (0.005037) with: {'batch_size': 10, 'epochs': 1, 'layer_sizes': [12, 1], 'learning_rate': 0.0005, 'loss': 'mean_squared_logarithmic_error'}\n0.536311 (0.005037) with: {'batch_size': 10, 'epochs': 1, 'layer_sizes': [12, 1], 'learning_rate': 0.001, 'loss': 'mean_squared_error'}\n0.536311 (0.005037) with: {'batch_size': 10, 'epochs': 1, 'layer_sizes': [12, 1], 'learning_rate': 0.001, 'loss': 'logcosh'}\n0.536311 (0.005037) with: {'batch_size': 10, 'epochs': 1, 'layer_sizes': [12, 1], 'learning_rate': 0.001, 'loss': 'binary_crossentropy'}\n0.536311 (0.005037) with: {'batch_size': 10, 'epochs': 1, 'layer_sizes': [12, 1], 'learning_rate': 0.001, 'loss': 'mean_squared_logarithmic_error'}\n0.536311 (0.005037) with: {'batch_size': 10, 'epochs': 1, 'layer_sizes': [12, 1], 'learning_rate': 0.05, 'loss': 'mean_squared_error'}\n0.536311 (0.005037) with: {'batch_size': 10, 'epochs': 1, 'layer_sizes': [12, 1], 'learning_rate': 0.05, 'loss': 'logcosh'}\n0.536311 (0.005037) with: {'batch_size': 10, 'epochs': 1, 'layer_sizes': [12, 1], 'learning_rate': 0.05, 'loss': 'binary_crossentropy'}\n0.536311 (0.005037) with: {'batch_size': 10, 'epochs': 1, 'layer_sizes': [12, 1], 'learning_rate': 0.05, 'loss': 'mean_squared_logarithmic_error'}\n0.536311 (0.005037) with: {'batch_size': 10, 'epochs': 1, 'layer_sizes': [12, 1], 'learning_rate': 0.01, 'loss': 'mean_squared_error'}\n0.536311 (0.005037) with: {'batch_size': 10, 'epochs': 1, 'layer_sizes': [12, 1], 'learning_rate': 0.01, 'loss': 'logcosh'}\n0.536311 (0.005037) with: {'batch_size': 10, 'epochs': 1, 'layer_sizes': [12, 1], 'learning_rate': 0.01, 'loss': 'binary_crossentropy'}\n0.536311 (0.005037) with: {'batch_size': 10, 'epochs': 1, 'layer_sizes': [12, 1], 'learning_rate': 0.01, 'loss': 'mean_squared_logarithmic_error'}\n0.536311 (0.005037) with: {'batch_size': 10, 'epochs': 1, 'layer_sizes': [12, 1], 'learning_rate': 0.1, 'loss': 'mean_squared_error'}\n0.536311 (0.005037) with: {'batch_size': 10, 'epochs': 1, 'layer_sizes': [12, 1], 'learning_rate': 0.1, 'loss': 'logcosh'}\n0.536311 (0.005037) with: {'batch_size': 10, 'epochs': 1, 'layer_sizes': [12, 1], 'learning_rate': 0.1, 'loss': 'binary_crossentropy'}\n0.536311 (0.005037) with: {'batch_size': 10, 'epochs': 1, 'layer_sizes': [12, 1], 'learning_rate': 0.1, 'loss': 'mean_squared_logarithmic_error'}\n0.536311 (0.005037) with: {'batch_size': 10, 'epochs': 10, 'layer_sizes': [12, 1], 'learning_rate': 0.0005, 'loss': 'mean_squared_error'}\n0.536311 (0.005037) with: {'batch_size': 10, 'epochs': 10, 'layer_sizes': [12, 1], 'learning_rate': 0.0005, 'loss': 'logcosh'}\n0.536311 (0.005037) with: {'batch_size': 10, 'epochs': 10, 'layer_sizes': [12, 1], 'learning_rate': 0.0005, 'loss': 'binary_crossentropy'}\n0.536311 (0.005037) with: {'batch_size': 10, 'epochs': 10, 'layer_sizes': [12, 1], 'learning_rate': 0.0005, 'loss': 'mean_squared_logarithmic_error'}\n0.536311 (0.005037) with: {'batch_size': 10, 'epochs': 10, 'layer_sizes': [12, 1], 'learning_rate': 0.001, 'loss': 'mean_squared_error'}\n0.536311 (0.005037) with: {'batch_size': 10, 'epochs': 10, 'layer_sizes': [12, 1], 'learning_rate': 0.001, 'loss': 'logcosh'}\n0.536311 (0.005037) with: {'batch_size': 10, 'epochs': 10, 'layer_sizes': [12, 1], 'learning_rate': 0.001, 'loss': 'binary_crossentropy'}\n0.536311 (0.005037) with: {'batch_size': 10, 'epochs': 10, 'layer_sizes': [12, 1], 'learning_rate': 0.001, 'loss': 'mean_squared_logarithmic_error'}\n0.536311 (0.005037) with: {'batch_size': 10, 'epochs': 10, 'layer_sizes': [12, 1], 'learning_rate': 0.05, 'loss': 'mean_squared_error'}\n0.536311 (0.005037) with: {'batch_size': 10, 'epochs': 10, 'layer_sizes': [12, 1], 'learning_rate': 0.05, 'loss': 'logcosh'}\n0.536311 (0.005037) with: {'batch_size': 10, 'epochs': 10, 'layer_sizes': [12, 1], 'learning_rate': 0.05, 'loss': 'binary_crossentropy'}\n0.536311 (0.005037) with: {'batch_size': 10, 'epochs': 10, 'layer_sizes': [12, 1], 'learning_rate': 0.05, 'loss': 'mean_squared_logarithmic_error'}\n0.536311 (0.005037) with: {'batch_size': 10, 'epochs': 10, 'layer_sizes': [12, 1], 'learning_rate': 0.01, 'loss': 'mean_squared_error'}\n0.536311 (0.005037) with: {'batch_size': 10, 'epochs': 10, 'layer_sizes': [12, 1], 'learning_rate': 0.01, 'loss': 'logcosh'}\n0.536311 (0.005037) with: {'batch_size': 10, 'epochs': 10, 'layer_sizes': [12, 1], 'learning_rate': 0.01, 'loss': 'binary_crossentropy'}\n0.536311 (0.005037) with: {'batch_size': 10, 'epochs': 10, 'layer_sizes': [12, 1], 'learning_rate': 0.01, 'loss': 'mean_squared_logarithmic_error'}\n0.536311 (0.005037) with: {'batch_size': 10, 'epochs': 10, 'layer_sizes': [12, 1], 'learning_rate': 0.1, 'loss': 'mean_squared_error'}\n0.536311 (0.005037) with: {'batch_size': 10, 'epochs': 10, 'layer_sizes': [12, 1], 'learning_rate': 0.1, 'loss': 'logcosh'}\n0.536311 (0.005037) with: {'batch_size': 10, 'epochs': 10, 'layer_sizes': [12, 1], 'learning_rate': 0.1, 'loss': 'binary_crossentropy'}\n0.536311 (0.005037) with: {'batch_size': 10, 'epochs': 10, 'layer_sizes': [12, 1], 'learning_rate': 0.1, 'loss': 'mean_squared_logarithmic_error'}\n0.536311 (0.005037) with: {'batch_size': 10, 'epochs': 30, 'layer_sizes': [12, 1], 'learning_rate': 0.0005, 'loss': 'mean_squared_error'}\n0.536311 (0.005037) with: {'batch_size': 10, 'epochs': 30, 'layer_sizes': [12, 1], 'learning_rate': 0.0005, 'loss': 'logcosh'}\n0.536311 (0.005037) with: {'batch_size': 10, 'epochs': 30, 'layer_sizes': [12, 1], 'learning_rate': 0.0005, 'loss': 'binary_crossentropy'}\n0.536311 (0.005037) with: {'batch_size': 10, 'epochs': 30, 'layer_sizes': [12, 1], 'learning_rate': 0.0005, 'loss': 'mean_squared_logarithmic_error'}\n0.536311 (0.005037) with: {'batch_size': 10, 'epochs': 30, 'layer_sizes': [12, 1], 'learning_rate': 0.001, 'loss': 'mean_squared_error'}\n0.536311 (0.005037) with: {'batch_size': 10, 'epochs': 30, 'layer_sizes': [12, 1], 'learning_rate': 0.001, 'loss': 'logcosh'}\n0.536311 (0.005037) with: {'batch_size': 10, 'epochs': 30, 'layer_sizes': [12, 1], 'learning_rate': 0.001, 'loss': 'binary_crossentropy'}\n0.536311 (0.005037) with: {'batch_size': 10, 'epochs': 30, 'layer_sizes': [12, 1], 'learning_rate': 0.001, 'loss': 'mean_squared_logarithmic_error'}\n0.536311 (0.005037) with: {'batch_size': 10, 'epochs': 30, 'layer_sizes': [12, 1], 'learning_rate': 0.05, 'loss': 'mean_squared_error'}\n0.536311 (0.005037) with: {'batch_size': 10, 'epochs': 30, 'layer_sizes': [12, 1], 'learning_rate': 0.05, 'loss': 'logcosh'}\n0.536311 (0.005037) with: {'batch_size': 10, 'epochs': 30, 'layer_sizes': [12, 1], 'learning_rate': 0.05, 'loss': 'binary_crossentropy'}\n0.536311 (0.005037) with: {'batch_size': 10, 'epochs': 30, 'layer_sizes': [12, 1], 'learning_rate': 0.05, 'loss': 'mean_squared_logarithmic_error'}\n0.536311 (0.005037) with: {'batch_size': 10, 'epochs': 30, 'layer_sizes': [12, 1], 'learning_rate': 0.01, 'loss': 'mean_squared_error'}\n0.536311 (0.005037) with: {'batch_size': 10, 'epochs': 30, 'layer_sizes': [12, 1], 'learning_rate': 0.01, 'loss': 'logcosh'}\n0.536311 (0.005037) with: {'batch_size': 10, 'epochs': 30, 'layer_sizes': [12, 1], 'learning_rate': 0.01, 'loss': 'binary_crossentropy'}\n0.536311 (0.005037) with: {'batch_size': 10, 'epochs': 30, 'layer_sizes': [12, 1], 'learning_rate': 0.01, 'loss': 'mean_squared_logarithmic_error'}\n0.536311 (0.005037) with: {'batch_size': 10, 'epochs': 30, 'layer_sizes': [12, 1], 'learning_rate': 0.1, 'loss': 'mean_squared_error'}\n0.536311 (0.005037) with: {'batch_size': 10, 'epochs': 30, 'layer_sizes': [12, 1], 'learning_rate': 0.1, 'loss': 'logcosh'}\n0.536311 (0.005037) with: {'batch_size': 10, 'epochs': 30, 'layer_sizes': [12, 1], 'learning_rate': 0.1, 'loss': 'binary_crossentropy'}\n0.536311 (0.005037) with: {'batch_size': 10, 'epochs': 30, 'layer_sizes': [12, 1], 'learning_rate': 0.1, 'loss': 'mean_squared_logarithmic_error'}\n0.536311 (0.005037) with: {'batch_size': 10, 'epochs': 60, 'layer_sizes': [12, 1], 'learning_rate': 0.0005, 'loss': 'mean_squared_error'}\n0.536311 (0.005037) with: {'batch_size': 10, 'epochs': 60, 'layer_sizes': [12, 1], 'learning_rate': 0.0005, 'loss': 'logcosh'}\n0.536311 (0.005037) with: {'batch_size': 10, 'epochs': 60, 'layer_sizes': [12, 1], 'learning_rate': 0.0005, 'loss': 'binary_crossentropy'}\n0.536311 (0.005037) with: {'batch_size': 10, 'epochs': 60, 'layer_sizes': [12, 1], 'learning_rate': 0.0005, 'loss': 'mean_squared_logarithmic_error'}\n0.536311 (0.005037) with: {'batch_size': 10, 'epochs': 60, 'layer_sizes': [12, 1], 'learning_rate': 0.001, 'loss': 'mean_squared_error'}\n0.536311 (0.005037) with: {'batch_size': 10, 'epochs': 60, 'layer_sizes': [12, 1], 'learning_rate': 0.001, 'loss': 'logcosh'}\n0.536311 (0.005037) with: {'batch_size': 10, 'epochs': 60, 'layer_sizes': [12, 1], 'learning_rate': 0.001, 'loss': 'binary_crossentropy'}\n0.536311 (0.005037) with: {'batch_size': 10, 'epochs': 60, 'layer_sizes': [12, 1], 'learning_rate': 0.001, 'loss': 'mean_squared_logarithmic_error'}\n0.536311 (0.005037) with: {'batch_size': 10, 'epochs': 60, 'layer_sizes': [12, 1], 'learning_rate': 0.05, 'loss': 'mean_squared_error'}\n0.536311 (0.005037) with: {'batch_size': 10, 'epochs': 60, 'layer_sizes': [12, 1], 'learning_rate': 0.05, 'loss': 'logcosh'}\n0.536311 (0.005037) with: {'batch_size': 10, 'epochs': 60, 'layer_sizes': [12, 1], 'learning_rate': 0.05, 'loss': 'binary_crossentropy'}\n0.536311 (0.005037) with: {'batch_size': 10, 'epochs': 60, 'layer_sizes': [12, 1], 'learning_rate': 0.05, 'loss': 'mean_squared_logarithmic_error'}\n0.536311 (0.005037) with: {'batch_size': 10, 'epochs': 60, 'layer_sizes': [12, 1], 'learning_rate': 0.01, 'loss': 'mean_squared_error'}\n0.536311 (0.005037) with: {'batch_size': 10, 'epochs': 60, 'layer_sizes': [12, 1], 'learning_rate': 0.01, 'loss': 'logcosh'}\n0.536311 (0.005037) with: {'batch_size': 10, 'epochs': 60, 'layer_sizes': [12, 1], 'learning_rate': 0.01, 'loss': 'binary_crossentropy'}\n0.536311 (0.005037) with: {'batch_size': 10, 'epochs': 60, 'layer_sizes': [12, 1], 'learning_rate': 0.01, 'loss': 'mean_squared_logarithmic_error'}\n0.536311 (0.005037) with: {'batch_size': 10, 'epochs': 60, 'layer_sizes': [12, 1], 'learning_rate': 0.1, 'loss': 'mean_squared_error'}\n0.536311 (0.005037) with: {'batch_size': 10, 'epochs': 60, 'layer_sizes': [12, 1], 'learning_rate': 0.1, 'loss': 'logcosh'}\n0.536311 (0.005037) with: {'batch_size': 10, 'epochs': 60, 'layer_sizes': [12, 1], 'learning_rate': 0.1, 'loss': 'binary_crossentropy'}\n0.536311 (0.005037) with: {'batch_size': 10, 'epochs': 60, 'layer_sizes': [12, 1], 'learning_rate': 0.1, 'loss': 'mean_squared_logarithmic_error'}\n0.536311 (0.005037) with: {'batch_size': 10, 'epochs': 100, 'layer_sizes': [12, 1], 'learning_rate': 0.0005, 'loss': 'mean_squared_error'}\n0.536311 (0.005037) with: {'batch_size': 10, 'epochs': 100, 'layer_sizes': [12, 1], 'learning_rate': 0.0005, 'loss': 'logcosh'}\n0.536311 (0.005037) with: {'batch_size': 10, 'epochs': 100, 'layer_sizes': [12, 1], 'learning_rate': 0.0005, 'loss': 'binary_crossentropy'}\n0.536311 (0.005037) with: {'batch_size': 10, 'epochs': 100, 'layer_sizes': [12, 1], 'learning_rate': 0.0005, 'loss': 'mean_squared_logarithmic_error'}\n0.536311 (0.005037) with: {'batch_size': 10, 'epochs': 100, 'layer_sizes': [12, 1], 'learning_rate': 0.001, 'loss': 'mean_squared_error'}\n0.536311 (0.005037) with: {'batch_size': 10, 'epochs': 100, 'layer_sizes': [12, 1], 'learning_rate': 0.001, 'loss': 'logcosh'}\n0.536311 (0.005037) with: {'batch_size': 10, 'epochs': 100, 'layer_sizes': [12, 1], 'learning_rate': 0.001, 'loss': 'binary_crossentropy'}\n0.536311 (0.005037) with: {'batch_size': 10, 'epochs': 100, 'layer_sizes': [12, 1], 'learning_rate': 0.001, 'loss': 'mean_squared_logarithmic_error'}\n0.536311 (0.005037) with: {'batch_size': 10, 'epochs': 100, 'layer_sizes': [12, 1], 'learning_rate': 0.05, 'loss': 'mean_squared_error'}\n0.536311 (0.005037) with: {'batch_size': 10, 'epochs': 100, 'layer_sizes': [12, 1], 'learning_rate': 0.05, 'loss': 'logcosh'}\n0.536311 (0.005037) with: {'batch_size': 10, 'epochs': 100, 'layer_sizes': [12, 1], 'learning_rate': 0.05, 'loss': 'binary_crossentropy'}\n0.536311 (0.005037) with: {'batch_size': 10, 'epochs': 100, 'layer_sizes': [12, 1], 'learning_rate': 0.05, 'loss': 'mean_squared_logarithmic_error'}\n0.536311 (0.005037) with: {'batch_size': 10, 'epochs': 100, 'layer_sizes': [12, 1], 'learning_rate': 0.01, 'loss': 'mean_squared_error'}\n0.536311 (0.005037) with: {'batch_size': 10, 'epochs': 100, 'layer_sizes': [12, 1], 'learning_rate': 0.01, 'loss': 'logcosh'}\n0.536311 (0.005037) with: {'batch_size': 10, 'epochs': 100, 'layer_sizes': [12, 1], 'learning_rate': 0.01, 'loss': 'binary_crossentropy'}\n0.536311 (0.005037) with: {'batch_size': 10, 'epochs': 100, 'layer_sizes': [12, 1], 'learning_rate': 0.01, 'loss': 'mean_squared_logarithmic_error'}\n0.536311 (0.005037) with: {'batch_size': 10, 'epochs': 100, 'layer_sizes': [12, 1], 'learning_rate': 0.1, 'loss': 'mean_squared_error'}\n0.536311 (0.005037) with: {'batch_size': 10, 'epochs': 100, 'layer_sizes': [12, 1], 'learning_rate': 0.1, 'loss': 'logcosh'}\n0.536311 (0.005037) with: {'batch_size': 10, 'epochs': 100, 'layer_sizes': [12, 1], 'learning_rate': 0.1, 'loss': 'binary_crossentropy'}\n0.536311 (0.005037) with: {'batch_size': 10, 'epochs': 100, 'layer_sizes': [12, 1], 'learning_rate': 0.1, 'loss': 'mean_squared_logarithmic_error'}\n0.536311 (0.005037) with: {'batch_size': 50, 'epochs': 1, 'layer_sizes': [12, 1], 'learning_rate': 0.0005, 'loss': 'mean_squared_error'}\n0.536311 (0.005037) with: {'batch_size': 50, 'epochs': 1, 'layer_sizes': [12, 1], 'learning_rate': 0.0005, 'loss': 'logcosh'}\n0.536311 (0.005037) with: {'batch_size': 50, 'epochs': 1, 'layer_sizes': [12, 1], 'learning_rate': 0.0005, 'loss': 'binary_crossentropy'}\n0.536311 (0.005037) with: {'batch_size': 50, 'epochs': 1, 'layer_sizes': [12, 1], 'learning_rate': 0.0005, 'loss': 'mean_squared_logarithmic_error'}\n0.536311 (0.005037) with: {'batch_size': 50, 'epochs': 1, 'layer_sizes': [12, 1], 'learning_rate': 0.001, 'loss': 'mean_squared_error'}\n0.536311 (0.005037) with: {'batch_size': 50, 'epochs': 1, 'layer_sizes': [12, 1], 'learning_rate': 0.001, 'loss': 'logcosh'}\n0.536311 (0.005037) with: {'batch_size': 50, 'epochs': 1, 'layer_sizes': [12, 1], 'learning_rate': 0.001, 'loss': 'binary_crossentropy'}\n0.536311 (0.005037) with: {'batch_size': 50, 'epochs': 1, 'layer_sizes': [12, 1], 'learning_rate': 0.001, 'loss': 'mean_squared_logarithmic_error'}\n0.536311 (0.005037) with: {'batch_size': 50, 'epochs': 1, 'layer_sizes': [12, 1], 'learning_rate': 0.05, 'loss': 'mean_squared_error'}\n0.536311 (0.005037) with: {'batch_size': 50, 'epochs': 1, 'layer_sizes': [12, 1], 'learning_rate': 0.05, 'loss': 'logcosh'}\n0.536311 (0.005037) with: {'batch_size': 50, 'epochs': 1, 'layer_sizes': [12, 1], 'learning_rate': 0.05, 'loss': 'binary_crossentropy'}\n0.536311 (0.005037) with: {'batch_size': 50, 'epochs': 1, 'layer_sizes': [12, 1], 'learning_rate': 0.05, 'loss': 'mean_squared_logarithmic_error'}\n0.536311 (0.005037) with: {'batch_size': 50, 'epochs': 1, 'layer_sizes': [12, 1], 'learning_rate': 0.01, 'loss': 'mean_squared_error'}\n0.536311 (0.005037) with: {'batch_size': 50, 'epochs': 1, 'layer_sizes': [12, 1], 'learning_rate': 0.01, 'loss': 'logcosh'}\n0.536311 (0.005037) with: {'batch_size': 50, 'epochs': 1, 'layer_sizes': [12, 1], 'learning_rate': 0.01, 'loss': 'binary_crossentropy'}\n0.536311 (0.005037) with: {'batch_size': 50, 'epochs': 1, 'layer_sizes': [12, 1], 'learning_rate': 0.01, 'loss': 'mean_squared_logarithmic_error'}\n0.536311 (0.005037) with: {'batch_size': 50, 'epochs': 1, 'layer_sizes': [12, 1], 'learning_rate': 0.1, 'loss': 'mean_squared_error'}\n0.536311 (0.005037) with: {'batch_size': 50, 'epochs': 1, 'layer_sizes': [12, 1], 'learning_rate': 0.1, 'loss': 'logcosh'}\n0.536311 (0.005037) with: {'batch_size': 50, 'epochs': 1, 'layer_sizes': [12, 1], 'learning_rate': 0.1, 'loss': 'binary_crossentropy'}\n0.536311 (0.005037) with: {'batch_size': 50, 'epochs': 1, 'layer_sizes': [12, 1], 'learning_rate': 0.1, 'loss': 'mean_squared_logarithmic_error'}\n0.536311 (0.005037) with: {'batch_size': 50, 'epochs': 10, 'layer_sizes': [12, 1], 'learning_rate': 0.0005, 'loss': 'mean_squared_error'}\n0.536311 (0.005037) with: {'batch_size': 50, 'epochs': 10, 'layer_sizes': [12, 1], 'learning_rate': 0.0005, 'loss': 'logcosh'}\n0.536311 (0.005037) with: {'batch_size': 50, 'epochs': 10, 'layer_sizes': [12, 1], 'learning_rate': 0.0005, 'loss': 'binary_crossentropy'}\n0.536311 (0.005037) with: {'batch_size': 50, 'epochs': 10, 'layer_sizes': [12, 1], 'learning_rate': 0.0005, 'loss': 'mean_squared_logarithmic_error'}\n0.536311 (0.005037) with: {'batch_size': 50, 'epochs': 10, 'layer_sizes': [12, 1], 'learning_rate': 0.001, 'loss': 'mean_squared_error'}\n0.536311 (0.005037) with: {'batch_size': 50, 'epochs': 10, 'layer_sizes': [12, 1], 'learning_rate': 0.001, 'loss': 'logcosh'}\n0.536311 (0.005037) with: {'batch_size': 50, 'epochs': 10, 'layer_sizes': [12, 1], 'learning_rate': 0.001, 'loss': 'binary_crossentropy'}\n0.536311 (0.005037) with: {'batch_size': 50, 'epochs': 10, 'layer_sizes': [12, 1], 'learning_rate': 0.001, 'loss': 'mean_squared_logarithmic_error'}\n0.536311 (0.005037) with: {'batch_size': 50, 'epochs': 10, 'layer_sizes': [12, 1], 'learning_rate': 0.05, 'loss': 'mean_squared_error'}\n0.536311 (0.005037) with: {'batch_size': 50, 'epochs': 10, 'layer_sizes': [12, 1], 'learning_rate': 0.05, 'loss': 'logcosh'}\n0.536311 (0.005037) with: {'batch_size': 50, 'epochs': 10, 'layer_sizes': [12, 1], 'learning_rate': 0.05, 'loss': 'binary_crossentropy'}\n0.536311 (0.005037) with: {'batch_size': 50, 'epochs': 10, 'layer_sizes': [12, 1], 'learning_rate': 0.05, 'loss': 'mean_squared_logarithmic_error'}\n0.536311 (0.005037) with: {'batch_size': 50, 'epochs': 10, 'layer_sizes': [12, 1], 'learning_rate': 0.01, 'loss': 'mean_squared_error'}\n0.536311 (0.005037) with: {'batch_size': 50, 'epochs': 10, 'layer_sizes': [12, 1], 'learning_rate': 0.01, 'loss': 'logcosh'}\n0.536311 (0.005037) with: {'batch_size': 50, 'epochs': 10, 'layer_sizes': [12, 1], 'learning_rate': 0.01, 'loss': 'binary_crossentropy'}\n0.536311 (0.005037) with: {'batch_size': 50, 'epochs': 10, 'layer_sizes': [12, 1], 'learning_rate': 0.01, 'loss': 'mean_squared_logarithmic_error'}\n0.536311 (0.005037) with: {'batch_size': 50, 'epochs': 10, 'layer_sizes': [12, 1], 'learning_rate': 0.1, 'loss': 'mean_squared_error'}\n0.536311 (0.005037) with: {'batch_size': 50, 'epochs': 10, 'layer_sizes': [12, 1], 'learning_rate': 0.1, 'loss': 'logcosh'}\n0.536311 (0.005037) with: {'batch_size': 50, 'epochs': 10, 'layer_sizes': [12, 1], 'learning_rate': 0.1, 'loss': 'binary_crossentropy'}\n0.536311 (0.005037) with: {'batch_size': 50, 'epochs': 10, 'layer_sizes': [12, 1], 'learning_rate': 0.1, 'loss': 'mean_squared_logarithmic_error'}\n0.536311 (0.005037) with: {'batch_size': 50, 'epochs': 30, 'layer_sizes': [12, 1], 'learning_rate': 0.0005, 'loss': 'mean_squared_error'}\n0.536311 (0.005037) with: {'batch_size': 50, 'epochs': 30, 'layer_sizes': [12, 1], 'learning_rate': 0.0005, 'loss': 'logcosh'}\n0.536311 (0.005037) with: {'batch_size': 50, 'epochs': 30, 'layer_sizes': [12, 1], 'learning_rate': 0.0005, 'loss': 'binary_crossentropy'}\n0.536311 (0.005037) with: {'batch_size': 50, 'epochs': 30, 'layer_sizes': [12, 1], 'learning_rate': 0.0005, 'loss': 'mean_squared_logarithmic_error'}\n0.536311 (0.005037) with: {'batch_size': 50, 'epochs': 30, 'layer_sizes': [12, 1], 'learning_rate': 0.001, 'loss': 'mean_squared_error'}\n0.536311 (0.005037) with: {'batch_size': 50, 'epochs': 30, 'layer_sizes': [12, 1], 'learning_rate': 0.001, 'loss': 'logcosh'}\n0.536311 (0.005037) with: {'batch_size': 50, 'epochs': 30, 'layer_sizes': [12, 1], 'learning_rate': 0.001, 'loss': 'binary_crossentropy'}\n0.536311 (0.005037) with: {'batch_size': 50, 'epochs': 30, 'layer_sizes': [12, 1], 'learning_rate': 0.001, 'loss': 'mean_squared_logarithmic_error'}\n0.536311 (0.005037) with: {'batch_size': 50, 'epochs': 30, 'layer_sizes': [12, 1], 'learning_rate': 0.05, 'loss': 'mean_squared_error'}\n0.536311 (0.005037) with: {'batch_size': 50, 'epochs': 30, 'layer_sizes': [12, 1], 'learning_rate': 0.05, 'loss': 'logcosh'}\n0.536311 (0.005037) with: {'batch_size': 50, 'epochs': 30, 'layer_sizes': [12, 1], 'learning_rate': 0.05, 'loss': 'binary_crossentropy'}\n0.536311 (0.005037) with: {'batch_size': 50, 'epochs': 30, 'layer_sizes': [12, 1], 'learning_rate': 0.05, 'loss': 'mean_squared_logarithmic_error'}\n0.536311 (0.005037) with: {'batch_size': 50, 'epochs': 30, 'layer_sizes': [12, 1], 'learning_rate': 0.01, 'loss': 'mean_squared_error'}\n0.536311 (0.005037) with: {'batch_size': 50, 'epochs': 30, 'layer_sizes': [12, 1], 'learning_rate': 0.01, 'loss': 'logcosh'}\n0.536311 (0.005037) with: {'batch_size': 50, 'epochs': 30, 'layer_sizes': [12, 1], 'learning_rate': 0.01, 'loss': 'binary_crossentropy'}\n0.536311 (0.005037) with: {'batch_size': 50, 'epochs': 30, 'layer_sizes': [12, 1], 'learning_rate': 0.01, 'loss': 'mean_squared_logarithmic_error'}\n0.536311 (0.005037) with: {'batch_size': 50, 'epochs': 30, 'layer_sizes': [12, 1], 'learning_rate': 0.1, 'loss': 'mean_squared_error'}\n0.536311 (0.005037) with: {'batch_size': 50, 'epochs': 30, 'layer_sizes': [12, 1], 'learning_rate': 0.1, 'loss': 'logcosh'}\n0.536311 (0.005037) with: {'batch_size': 50, 'epochs': 30, 'layer_sizes': [12, 1], 'learning_rate': 0.1, 'loss': 'binary_crossentropy'}\n0.536311 (0.005037) with: {'batch_size': 50, 'epochs': 30, 'layer_sizes': [12, 1], 'learning_rate': 0.1, 'loss': 'mean_squared_logarithmic_error'}\n0.536311 (0.005037) with: {'batch_size': 50, 'epochs': 60, 'layer_sizes': [12, 1], 'learning_rate': 0.0005, 'loss': 'mean_squared_error'}\n0.536311 (0.005037) with: {'batch_size': 50, 'epochs': 60, 'layer_sizes': [12, 1], 'learning_rate': 0.0005, 'loss': 'logcosh'}\n0.536311 (0.005037) with: {'batch_size': 50, 'epochs': 60, 'layer_sizes': [12, 1], 'learning_rate': 0.0005, 'loss': 'binary_crossentropy'}\n0.536311 (0.005037) with: {'batch_size': 50, 'epochs': 60, 'layer_sizes': [12, 1], 'learning_rate': 0.0005, 'loss': 'mean_squared_logarithmic_error'}\n0.536311 (0.005037) with: {'batch_size': 50, 'epochs': 60, 'layer_sizes': [12, 1], 'learning_rate': 0.001, 'loss': 'mean_squared_error'}\n0.536311 (0.005037) with: {'batch_size': 50, 'epochs': 60, 'layer_sizes': [12, 1], 'learning_rate': 0.001, 'loss': 'logcosh'}\n0.536311 (0.005037) with: {'batch_size': 50, 'epochs': 60, 'layer_sizes': [12, 1], 'learning_rate': 0.001, 'loss': 'binary_crossentropy'}\n0.536311 (0.005037) with: {'batch_size': 50, 'epochs': 60, 'layer_sizes': [12, 1], 'learning_rate': 0.001, 'loss': 'mean_squared_logarithmic_error'}\n0.536311 (0.005037) with: {'batch_size': 50, 'epochs': 60, 'layer_sizes': [12, 1], 'learning_rate': 0.05, 'loss': 'mean_squared_error'}\n0.536311 (0.005037) with: {'batch_size': 50, 'epochs': 60, 'layer_sizes': [12, 1], 'learning_rate': 0.05, 'loss': 'logcosh'}\n0.536311 (0.005037) with: {'batch_size': 50, 'epochs': 60, 'layer_sizes': [12, 1], 'learning_rate': 0.05, 'loss': 'binary_crossentropy'}\n0.536311 (0.005037) with: {'batch_size': 50, 'epochs': 60, 'layer_sizes': [12, 1], 'learning_rate': 0.05, 'loss': 'mean_squared_logarithmic_error'}\n0.536311 (0.005037) with: {'batch_size': 50, 'epochs': 60, 'layer_sizes': [12, 1], 'learning_rate': 0.01, 'loss': 'mean_squared_error'}\n0.536311 (0.005037) with: {'batch_size': 50, 'epochs': 60, 'layer_sizes': [12, 1], 'learning_rate': 0.01, 'loss': 'logcosh'}\n0.536311 (0.005037) with: {'batch_size': 50, 'epochs': 60, 'layer_sizes': [12, 1], 'learning_rate': 0.01, 'loss': 'binary_crossentropy'}\n0.536311 (0.005037) with: {'batch_size': 50, 'epochs': 60, 'layer_sizes': [12, 1], 'learning_rate': 0.01, 'loss': 'mean_squared_logarithmic_error'}\n0.536311 (0.005037) with: {'batch_size': 50, 'epochs': 60, 'layer_sizes': [12, 1], 'learning_rate': 0.1, 'loss': 'mean_squared_error'}\n0.536311 (0.005037) with: {'batch_size': 50, 'epochs': 60, 'layer_sizes': [12, 1], 'learning_rate': 0.1, 'loss': 'logcosh'}\n0.536311 (0.005037) with: {'batch_size': 50, 'epochs': 60, 'layer_sizes': [12, 1], 'learning_rate': 0.1, 'loss': 'binary_crossentropy'}\n0.536311 (0.005037) with: {'batch_size': 50, 'epochs': 60, 'layer_sizes': [12, 1], 'learning_rate': 0.1, 'loss': 'mean_squared_logarithmic_error'}\n0.536311 (0.005037) with: {'batch_size': 50, 'epochs': 100, 'layer_sizes': [12, 1], 'learning_rate': 0.0005, 'loss': 'mean_squared_error'}\n0.536311 (0.005037) with: {'batch_size': 50, 'epochs': 100, 'layer_sizes': [12, 1], 'learning_rate': 0.0005, 'loss': 'logcosh'}\n0.536311 (0.005037) with: {'batch_size': 50, 'epochs': 100, 'layer_sizes': [12, 1], 'learning_rate': 0.0005, 'loss': 'binary_crossentropy'}\n0.536311 (0.005037) with: {'batch_size': 50, 'epochs': 100, 'layer_sizes': [12, 1], 'learning_rate': 0.0005, 'loss': 'mean_squared_logarithmic_error'}\n0.536311 (0.005037) with: {'batch_size': 50, 'epochs': 100, 'layer_sizes': [12, 1], 'learning_rate': 0.001, 'loss': 'mean_squared_error'}\n0.536311 (0.005037) with: {'batch_size': 50, 'epochs': 100, 'layer_sizes': [12, 1], 'learning_rate': 0.001, 'loss': 'logcosh'}\n0.536311 (0.005037) with: {'batch_size': 50, 'epochs': 100, 'layer_sizes': [12, 1], 'learning_rate': 0.001, 'loss': 'binary_crossentropy'}\n0.536311 (0.005037) with: {'batch_size': 50, 'epochs': 100, 'layer_sizes': [12, 1], 'learning_rate': 0.001, 'loss': 'mean_squared_logarithmic_error'}\n0.536311 (0.005037) with: {'batch_size': 50, 'epochs': 100, 'layer_sizes': [12, 1], 'learning_rate': 0.05, 'loss': 'mean_squared_error'}\n0.536311 (0.005037) with: {'batch_size': 50, 'epochs': 100, 'layer_sizes': [12, 1], 'learning_rate': 0.05, 'loss': 'logcosh'}\n0.536311 (0.005037) with: {'batch_size': 50, 'epochs': 100, 'layer_sizes': [12, 1], 'learning_rate': 0.05, 'loss': 'binary_crossentropy'}\n0.536311 (0.005037) with: {'batch_size': 50, 'epochs': 100, 'layer_sizes': [12, 1], 'learning_rate': 0.05, 'loss': 'mean_squared_logarithmic_error'}\n0.536311 (0.005037) with: {'batch_size': 50, 'epochs': 100, 'layer_sizes': [12, 1], 'learning_rate': 0.01, 'loss': 'mean_squared_error'}\n0.536311 (0.005037) with: {'batch_size': 50, 'epochs': 100, 'layer_sizes': [12, 1], 'learning_rate': 0.01, 'loss': 'logcosh'}\n0.536311 (0.005037) with: {'batch_size': 50, 'epochs': 100, 'layer_sizes': [12, 1], 'learning_rate': 0.01, 'loss': 'binary_crossentropy'}\n0.536311 (0.005037) with: {'batch_size': 50, 'epochs': 100, 'layer_sizes': [12, 1], 'learning_rate': 0.01, 'loss': 'mean_squared_logarithmic_error'}\n0.536311 (0.005037) with: {'batch_size': 50, 'epochs': 100, 'layer_sizes': [12, 1], 'learning_rate': 0.1, 'loss': 'mean_squared_error'}\n0.536311 (0.005037) with: {'batch_size': 50, 'epochs': 100, 'layer_sizes': [12, 1], 'learning_rate': 0.1, 'loss': 'logcosh'}\n0.536311 (0.005037) with: {'batch_size': 50, 'epochs': 100, 'layer_sizes': [12, 1], 'learning_rate': 0.1, 'loss': 'binary_crossentropy'}\n0.536311 (0.005037) with: {'batch_size': 50, 'epochs': 100, 'layer_sizes': [12, 1], 'learning_rate': 0.1, 'loss': 'mean_squared_logarithmic_error'}\n0.536311 (0.005037) with: {'batch_size': 100, 'epochs': 1, 'layer_sizes': [12, 1], 'learning_rate': 0.0005, 'loss': 'mean_squared_error'}\n0.536311 (0.005037) with: {'batch_size': 100, 'epochs': 1, 'layer_sizes': [12, 1], 'learning_rate': 0.0005, 'loss': 'logcosh'}\n0.536311 (0.005037) with: {'batch_size': 100, 'epochs': 1, 'layer_sizes': [12, 1], 'learning_rate': 0.0005, 'loss': 'binary_crossentropy'}\n0.536311 (0.005037) with: {'batch_size': 100, 'epochs': 1, 'layer_sizes': [12, 1], 'learning_rate': 0.0005, 'loss': 'mean_squared_logarithmic_error'}\n0.536311 (0.005037) with: {'batch_size': 100, 'epochs': 1, 'layer_sizes': [12, 1], 'learning_rate': 0.001, 'loss': 'mean_squared_error'}\n0.536311 (0.005037) with: {'batch_size': 100, 'epochs': 1, 'layer_sizes': [12, 1], 'learning_rate': 0.001, 'loss': 'logcosh'}\n0.536311 (0.005037) with: {'batch_size': 100, 'epochs': 1, 'layer_sizes': [12, 1], 'learning_rate': 0.001, 'loss': 'binary_crossentropy'}\n0.536311 (0.005037) with: {'batch_size': 100, 'epochs': 1, 'layer_sizes': [12, 1], 'learning_rate': 0.001, 'loss': 'mean_squared_logarithmic_error'}\n0.536311 (0.005037) with: {'batch_size': 100, 'epochs': 1, 'layer_sizes': [12, 1], 'learning_rate': 0.05, 'loss': 'mean_squared_error'}\n0.536311 (0.005037) with: {'batch_size': 100, 'epochs': 1, 'layer_sizes': [12, 1], 'learning_rate': 0.05, 'loss': 'logcosh'}\n0.536311 (0.005037) with: {'batch_size': 100, 'epochs': 1, 'layer_sizes': [12, 1], 'learning_rate': 0.05, 'loss': 'binary_crossentropy'}\n0.536311 (0.005037) with: {'batch_size': 100, 'epochs': 1, 'layer_sizes': [12, 1], 'learning_rate': 0.05, 'loss': 'mean_squared_logarithmic_error'}\n0.536311 (0.005037) with: {'batch_size': 100, 'epochs': 1, 'layer_sizes': [12, 1], 'learning_rate': 0.01, 'loss': 'mean_squared_error'}\n0.536311 (0.005037) with: {'batch_size': 100, 'epochs': 1, 'layer_sizes': [12, 1], 'learning_rate': 0.01, 'loss': 'logcosh'}\n0.536311 (0.005037) with: {'batch_size': 100, 'epochs': 1, 'layer_sizes': [12, 1], 'learning_rate': 0.01, 'loss': 'binary_crossentropy'}\n0.536311 (0.005037) with: {'batch_size': 100, 'epochs': 1, 'layer_sizes': [12, 1], 'learning_rate': 0.01, 'loss': 'mean_squared_logarithmic_error'}\n0.536311 (0.005037) with: {'batch_size': 100, 'epochs': 1, 'layer_sizes': [12, 1], 'learning_rate': 0.1, 'loss': 'mean_squared_error'}\n0.536311 (0.005037) with: {'batch_size': 100, 'epochs': 1, 'layer_sizes': [12, 1], 'learning_rate': 0.1, 'loss': 'logcosh'}\n0.536311 (0.005037) with: {'batch_size': 100, 'epochs': 1, 'layer_sizes': [12, 1], 'learning_rate': 0.1, 'loss': 'binary_crossentropy'}\n0.536311 (0.005037) with: {'batch_size': 100, 'epochs': 1, 'layer_sizes': [12, 1], 'learning_rate': 0.1, 'loss': 'mean_squared_logarithmic_error'}\n0.536311 (0.005037) with: {'batch_size': 100, 'epochs': 10, 'layer_sizes': [12, 1], 'learning_rate': 0.0005, 'loss': 'mean_squared_error'}\n0.536311 (0.005037) with: {'batch_size': 100, 'epochs': 10, 'layer_sizes': [12, 1], 'learning_rate': 0.0005, 'loss': 'logcosh'}\n0.536311 (0.005037) with: {'batch_size': 100, 'epochs': 10, 'layer_sizes': [12, 1], 'learning_rate': 0.0005, 'loss': 'binary_crossentropy'}\n0.536311 (0.005037) with: {'batch_size': 100, 'epochs': 10, 'layer_sizes': [12, 1], 'learning_rate': 0.0005, 'loss': 'mean_squared_logarithmic_error'}\n0.536311 (0.005037) with: {'batch_size': 100, 'epochs': 10, 'layer_sizes': [12, 1], 'learning_rate': 0.001, 'loss': 'mean_squared_error'}\n0.536311 (0.005037) with: {'batch_size': 100, 'epochs': 10, 'layer_sizes': [12, 1], 'learning_rate': 0.001, 'loss': 'logcosh'}\n0.536311 (0.005037) with: {'batch_size': 100, 'epochs': 10, 'layer_sizes': [12, 1], 'learning_rate': 0.001, 'loss': 'binary_crossentropy'}\n0.536311 (0.005037) with: {'batch_size': 100, 'epochs': 10, 'layer_sizes': [12, 1], 'learning_rate': 0.001, 'loss': 'mean_squared_logarithmic_error'}\n0.536311 (0.005037) with: {'batch_size': 100, 'epochs': 10, 'layer_sizes': [12, 1], 'learning_rate': 0.05, 'loss': 'mean_squared_error'}\n0.536311 (0.005037) with: {'batch_size': 100, 'epochs': 10, 'layer_sizes': [12, 1], 'learning_rate': 0.05, 'loss': 'logcosh'}\n0.536311 (0.005037) with: {'batch_size': 100, 'epochs': 10, 'layer_sizes': [12, 1], 'learning_rate': 0.05, 'loss': 'binary_crossentropy'}\n0.536311 (0.005037) with: {'batch_size': 100, 'epochs': 10, 'layer_sizes': [12, 1], 'learning_rate': 0.05, 'loss': 'mean_squared_logarithmic_error'}\n0.536311 (0.005037) with: {'batch_size': 100, 'epochs': 10, 'layer_sizes': [12, 1], 'learning_rate': 0.01, 'loss': 'mean_squared_error'}\n0.536311 (0.005037) with: {'batch_size': 100, 'epochs': 10, 'layer_sizes': [12, 1], 'learning_rate': 0.01, 'loss': 'logcosh'}\n0.536311 (0.005037) with: {'batch_size': 100, 'epochs': 10, 'layer_sizes': [12, 1], 'learning_rate': 0.01, 'loss': 'binary_crossentropy'}\n0.536311 (0.005037) with: {'batch_size': 100, 'epochs': 10, 'layer_sizes': [12, 1], 'learning_rate': 0.01, 'loss': 'mean_squared_logarithmic_error'}\n0.536311 (0.005037) with: {'batch_size': 100, 'epochs': 10, 'layer_sizes': [12, 1], 'learning_rate': 0.1, 'loss': 'mean_squared_error'}\n0.536311 (0.005037) with: {'batch_size': 100, 'epochs': 10, 'layer_sizes': [12, 1], 'learning_rate': 0.1, 'loss': 'logcosh'}\n0.536311 (0.005037) with: {'batch_size': 100, 'epochs': 10, 'layer_sizes': [12, 1], 'learning_rate': 0.1, 'loss': 'binary_crossentropy'}\n0.536311 (0.005037) with: {'batch_size': 100, 'epochs': 10, 'layer_sizes': [12, 1], 'learning_rate': 0.1, 'loss': 'mean_squared_logarithmic_error'}\n0.536311 (0.005037) with: {'batch_size': 100, 'epochs': 30, 'layer_sizes': [12, 1], 'learning_rate': 0.0005, 'loss': 'mean_squared_error'}\n0.536311 (0.005037) with: {'batch_size': 100, 'epochs': 30, 'layer_sizes': [12, 1], 'learning_rate': 0.0005, 'loss': 'logcosh'}\n0.536311 (0.005037) with: {'batch_size': 100, 'epochs': 30, 'layer_sizes': [12, 1], 'learning_rate': 0.0005, 'loss': 'binary_crossentropy'}\n0.536311 (0.005037) with: {'batch_size': 100, 'epochs': 30, 'layer_sizes': [12, 1], 'learning_rate': 0.0005, 'loss': 'mean_squared_logarithmic_error'}\n0.536311 (0.005037) with: {'batch_size': 100, 'epochs': 30, 'layer_sizes': [12, 1], 'learning_rate': 0.001, 'loss': 'mean_squared_error'}\n0.536311 (0.005037) with: {'batch_size': 100, 'epochs': 30, 'layer_sizes': [12, 1], 'learning_rate': 0.001, 'loss': 'logcosh'}\n0.536311 (0.005037) with: {'batch_size': 100, 'epochs': 30, 'layer_sizes': [12, 1], 'learning_rate': 0.001, 'loss': 'binary_crossentropy'}\n0.536311 (0.005037) with: {'batch_size': 100, 'epochs': 30, 'layer_sizes': [12, 1], 'learning_rate': 0.001, 'loss': 'mean_squared_logarithmic_error'}\n0.536311 (0.005037) with: {'batch_size': 100, 'epochs': 30, 'layer_sizes': [12, 1], 'learning_rate': 0.05, 'loss': 'mean_squared_error'}\n0.536311 (0.005037) with: {'batch_size': 100, 'epochs': 30, 'layer_sizes': [12, 1], 'learning_rate': 0.05, 'loss': 'logcosh'}\n0.536311 (0.005037) with: {'batch_size': 100, 'epochs': 30, 'layer_sizes': [12, 1], 'learning_rate': 0.05, 'loss': 'binary_crossentropy'}\n0.536311 (0.005037) with: {'batch_size': 100, 'epochs': 30, 'layer_sizes': [12, 1], 'learning_rate': 0.05, 'loss': 'mean_squared_logarithmic_error'}\n0.536311 (0.005037) with: {'batch_size': 100, 'epochs': 30, 'layer_sizes': [12, 1], 'learning_rate': 0.01, 'loss': 'mean_squared_error'}\n0.536311 (0.005037) with: {'batch_size': 100, 'epochs': 30, 'layer_sizes': [12, 1], 'learning_rate': 0.01, 'loss': 'logcosh'}\n0.536311 (0.005037) with: {'batch_size': 100, 'epochs': 30, 'layer_sizes': [12, 1], 'learning_rate': 0.01, 'loss': 'binary_crossentropy'}\n0.536311 (0.005037) with: {'batch_size': 100, 'epochs': 30, 'layer_sizes': [12, 1], 'learning_rate': 0.01, 'loss': 'mean_squared_logarithmic_error'}\n0.536311 (0.005037) with: {'batch_size': 100, 'epochs': 30, 'layer_sizes': [12, 1], 'learning_rate': 0.1, 'loss': 'mean_squared_error'}\n0.536311 (0.005037) with: {'batch_size': 100, 'epochs': 30, 'layer_sizes': [12, 1], 'learning_rate': 0.1, 'loss': 'logcosh'}\n0.536311 (0.005037) with: {'batch_size': 100, 'epochs': 30, 'layer_sizes': [12, 1], 'learning_rate': 0.1, 'loss': 'binary_crossentropy'}\n0.536311 (0.005037) with: {'batch_size': 100, 'epochs': 30, 'layer_sizes': [12, 1], 'learning_rate': 0.1, 'loss': 'mean_squared_logarithmic_error'}\n0.536311 (0.005037) with: {'batch_size': 100, 'epochs': 60, 'layer_sizes': [12, 1], 'learning_rate': 0.0005, 'loss': 'mean_squared_error'}\n0.536311 (0.005037) with: {'batch_size': 100, 'epochs': 60, 'layer_sizes': [12, 1], 'learning_rate': 0.0005, 'loss': 'logcosh'}\n0.536311 (0.005037) with: {'batch_size': 100, 'epochs': 60, 'layer_sizes': [12, 1], 'learning_rate': 0.0005, 'loss': 'binary_crossentropy'}\n0.536311 (0.005037) with: {'batch_size': 100, 'epochs': 60, 'layer_sizes': [12, 1], 'learning_rate': 0.0005, 'loss': 'mean_squared_logarithmic_error'}\n0.536311 (0.005037) with: {'batch_size': 100, 'epochs': 60, 'layer_sizes': [12, 1], 'learning_rate': 0.001, 'loss': 'mean_squared_error'}\n0.536311 (0.005037) with: {'batch_size': 100, 'epochs': 60, 'layer_sizes': [12, 1], 'learning_rate': 0.001, 'loss': 'logcosh'}\n0.536311 (0.005037) with: {'batch_size': 100, 'epochs': 60, 'layer_sizes': [12, 1], 'learning_rate': 0.001, 'loss': 'binary_crossentropy'}\n0.536311 (0.005037) with: {'batch_size': 100, 'epochs': 60, 'layer_sizes': [12, 1], 'learning_rate': 0.001, 'loss': 'mean_squared_logarithmic_error'}\n0.536311 (0.005037) with: {'batch_size': 100, 'epochs': 60, 'layer_sizes': [12, 1], 'learning_rate': 0.05, 'loss': 'mean_squared_error'}\n0.536311 (0.005037) with: {'batch_size': 100, 'epochs': 60, 'layer_sizes': [12, 1], 'learning_rate': 0.05, 'loss': 'logcosh'}\n0.536311 (0.005037) with: {'batch_size': 100, 'epochs': 60, 'layer_sizes': [12, 1], 'learning_rate': 0.05, 'loss': 'binary_crossentropy'}\n0.536311 (0.005037) with: {'batch_size': 100, 'epochs': 60, 'layer_sizes': [12, 1], 'learning_rate': 0.05, 'loss': 'mean_squared_logarithmic_error'}\n0.536311 (0.005037) with: {'batch_size': 100, 'epochs': 60, 'layer_sizes': [12, 1], 'learning_rate': 0.01, 'loss': 'mean_squared_error'}\n0.536311 (0.005037) with: {'batch_size': 100, 'epochs': 60, 'layer_sizes': [12, 1], 'learning_rate': 0.01, 'loss': 'logcosh'}\n0.536311 (0.005037) with: {'batch_size': 100, 'epochs': 60, 'layer_sizes': [12, 1], 'learning_rate': 0.01, 'loss': 'binary_crossentropy'}\n0.536311 (0.005037) with: {'batch_size': 100, 'epochs': 60, 'layer_sizes': [12, 1], 'learning_rate': 0.01, 'loss': 'mean_squared_logarithmic_error'}\n0.536311 (0.005037) with: {'batch_size': 100, 'epochs': 60, 'layer_sizes': [12, 1], 'learning_rate': 0.1, 'loss': 'mean_squared_error'}\n0.536311 (0.005037) with: {'batch_size': 100, 'epochs': 60, 'layer_sizes': [12, 1], 'learning_rate': 0.1, 'loss': 'logcosh'}\n0.536311 (0.005037) with: {'batch_size': 100, 'epochs': 60, 'layer_sizes': [12, 1], 'learning_rate': 0.1, 'loss': 'binary_crossentropy'}\n0.536311 (0.005037) with: {'batch_size': 100, 'epochs': 60, 'layer_sizes': [12, 1], 'learning_rate': 0.1, 'loss': 'mean_squared_logarithmic_error'}\n0.536311 (0.005037) with: {'batch_size': 100, 'epochs': 100, 'layer_sizes': [12, 1], 'learning_rate': 0.0005, 'loss': 'mean_squared_error'}\n0.536311 (0.005037) with: {'batch_size': 100, 'epochs': 100, 'layer_sizes': [12, 1], 'learning_rate': 0.0005, 'loss': 'logcosh'}\n0.536311 (0.005037) with: {'batch_size': 100, 'epochs': 100, 'layer_sizes': [12, 1], 'learning_rate': 0.0005, 'loss': 'binary_crossentropy'}\n0.536311 (0.005037) with: {'batch_size': 100, 'epochs': 100, 'layer_sizes': [12, 1], 'learning_rate': 0.0005, 'loss': 'mean_squared_logarithmic_error'}\n0.536311 (0.005037) with: {'batch_size': 100, 'epochs': 100, 'layer_sizes': [12, 1], 'learning_rate': 0.001, 'loss': 'mean_squared_error'}\n0.536311 (0.005037) with: {'batch_size': 100, 'epochs': 100, 'layer_sizes': [12, 1], 'learning_rate': 0.001, 'loss': 'logcosh'}\n0.536311 (0.005037) with: {'batch_size': 100, 'epochs': 100, 'layer_sizes': [12, 1], 'learning_rate': 0.001, 'loss': 'binary_crossentropy'}\n0.536311 (0.005037) with: {'batch_size': 100, 'epochs': 100, 'layer_sizes': [12, 1], 'learning_rate': 0.001, 'loss': 'mean_squared_logarithmic_error'}\n0.536311 (0.005037) with: {'batch_size': 100, 'epochs': 100, 'layer_sizes': [12, 1], 'learning_rate': 0.05, 'loss': 'mean_squared_error'}\n0.536311 (0.005037) with: {'batch_size': 100, 'epochs': 100, 'layer_sizes': [12, 1], 'learning_rate': 0.05, 'loss': 'logcosh'}\n0.536311 (0.005037) with: {'batch_size': 100, 'epochs': 100, 'layer_sizes': [12, 1], 'learning_rate': 0.05, 'loss': 'binary_crossentropy'}\n0.536311 (0.005037) with: {'batch_size': 100, 'epochs': 100, 'layer_sizes': [12, 1], 'learning_rate': 0.05, 'loss': 'mean_squared_logarithmic_error'}\n0.536311 (0.005037) with: {'batch_size': 100, 'epochs': 100, 'layer_sizes': [12, 1], 'learning_rate': 0.01, 'loss': 'mean_squared_error'}\n0.536311 (0.005037) with: {'batch_size': 100, 'epochs': 100, 'layer_sizes': [12, 1], 'learning_rate': 0.01, 'loss': 'logcosh'}\n0.536311 (0.005037) with: {'batch_size': 100, 'epochs': 100, 'layer_sizes': [12, 1], 'learning_rate': 0.01, 'loss': 'binary_crossentropy'}\n0.536311 (0.005037) with: {'batch_size': 100, 'epochs': 100, 'layer_sizes': [12, 1], 'learning_rate': 0.01, 'loss': 'mean_squared_logarithmic_error'}\n0.536311 (0.005037) with: {'batch_size': 100, 'epochs': 100, 'layer_sizes': [12, 1], 'learning_rate': 0.1, 'loss': 'mean_squared_error'}\n0.536311 (0.005037) with: {'batch_size': 100, 'epochs': 100, 'layer_sizes': [12, 1], 'learning_rate': 0.1, 'loss': 'logcosh'}\n0.536311 (0.005037) with: {'batch_size': 100, 'epochs': 100, 'layer_sizes': [12, 1], 'learning_rate': 0.1, 'loss': 'binary_crossentropy'}\n0.536311 (0.005037) with: {'batch_size': 100, 'epochs': 100, 'layer_sizes': [12, 1], 'learning_rate': 0.1, 'loss': 'mean_squared_logarithmic_error'}\n0.536311 (0.005037) with: {'batch_size': 200, 'epochs': 1, 'layer_sizes': [12, 1], 'learning_rate': 0.0005, 'loss': 'mean_squared_error'}\n0.536311 (0.005037) with: {'batch_size': 200, 'epochs': 1, 'layer_sizes': [12, 1], 'learning_rate': 0.0005, 'loss': 'logcosh'}\n0.536311 (0.005037) with: {'batch_size': 200, 'epochs': 1, 'layer_sizes': [12, 1], 'learning_rate': 0.0005, 'loss': 'binary_crossentropy'}\n0.536311 (0.005037) with: {'batch_size': 200, 'epochs': 1, 'layer_sizes': [12, 1], 'learning_rate': 0.0005, 'loss': 'mean_squared_logarithmic_error'}\n0.536311 (0.005037) with: {'batch_size': 200, 'epochs': 1, 'layer_sizes': [12, 1], 'learning_rate': 0.001, 'loss': 'mean_squared_error'}\n0.536311 (0.005037) with: {'batch_size': 200, 'epochs': 1, 'layer_sizes': [12, 1], 'learning_rate': 0.001, 'loss': 'logcosh'}\n0.536311 (0.005037) with: {'batch_size': 200, 'epochs': 1, 'layer_sizes': [12, 1], 'learning_rate': 0.001, 'loss': 'binary_crossentropy'}\n0.536311 (0.005037) with: {'batch_size': 200, 'epochs': 1, 'layer_sizes': [12, 1], 'learning_rate': 0.001, 'loss': 'mean_squared_logarithmic_error'}\n0.536311 (0.005037) with: {'batch_size': 200, 'epochs': 1, 'layer_sizes': [12, 1], 'learning_rate': 0.05, 'loss': 'mean_squared_error'}\n0.536311 (0.005037) with: {'batch_size': 200, 'epochs': 1, 'layer_sizes': [12, 1], 'learning_rate': 0.05, 'loss': 'logcosh'}\n0.536311 (0.005037) with: {'batch_size': 200, 'epochs': 1, 'layer_sizes': [12, 1], 'learning_rate': 0.05, 'loss': 'binary_crossentropy'}\n0.536311 (0.005037) with: {'batch_size': 200, 'epochs': 1, 'layer_sizes': [12, 1], 'learning_rate': 0.05, 'loss': 'mean_squared_logarithmic_error'}\n0.536311 (0.005037) with: {'batch_size': 200, 'epochs': 1, 'layer_sizes': [12, 1], 'learning_rate': 0.01, 'loss': 'mean_squared_error'}\n0.536311 (0.005037) with: {'batch_size': 200, 'epochs': 1, 'layer_sizes': [12, 1], 'learning_rate': 0.01, 'loss': 'logcosh'}\n0.536311 (0.005037) with: {'batch_size': 200, 'epochs': 1, 'layer_sizes': [12, 1], 'learning_rate': 0.01, 'loss': 'binary_crossentropy'}\n0.536311 (0.005037) with: {'batch_size': 200, 'epochs': 1, 'layer_sizes': [12, 1], 'learning_rate': 0.01, 'loss': 'mean_squared_logarithmic_error'}\n0.536311 (0.005037) with: {'batch_size': 200, 'epochs': 1, 'layer_sizes': [12, 1], 'learning_rate': 0.1, 'loss': 'mean_squared_error'}\n0.536311 (0.005037) with: {'batch_size': 200, 'epochs': 1, 'layer_sizes': [12, 1], 'learning_rate': 0.1, 'loss': 'logcosh'}\n0.536311 (0.005037) with: {'batch_size': 200, 'epochs': 1, 'layer_sizes': [12, 1], 'learning_rate': 0.1, 'loss': 'binary_crossentropy'}\n0.536311 (0.005037) with: {'batch_size': 200, 'epochs': 1, 'layer_sizes': [12, 1], 'learning_rate': 0.1, 'loss': 'mean_squared_logarithmic_error'}\n0.536311 (0.005037) with: {'batch_size': 200, 'epochs': 10, 'layer_sizes': [12, 1], 'learning_rate': 0.0005, 'loss': 'mean_squared_error'}\n0.536311 (0.005037) with: {'batch_size': 200, 'epochs': 10, 'layer_sizes': [12, 1], 'learning_rate': 0.0005, 'loss': 'logcosh'}\n0.536311 (0.005037) with: {'batch_size': 200, 'epochs': 10, 'layer_sizes': [12, 1], 'learning_rate': 0.0005, 'loss': 'binary_crossentropy'}\n0.536311 (0.005037) with: {'batch_size': 200, 'epochs': 10, 'layer_sizes': [12, 1], 'learning_rate': 0.0005, 'loss': 'mean_squared_logarithmic_error'}\n0.536311 (0.005037) with: {'batch_size': 200, 'epochs': 10, 'layer_sizes': [12, 1], 'learning_rate': 0.001, 'loss': 'mean_squared_error'}\n0.536311 (0.005037) with: {'batch_size': 200, 'epochs': 10, 'layer_sizes': [12, 1], 'learning_rate': 0.001, 'loss': 'logcosh'}\n0.536311 (0.005037) with: {'batch_size': 200, 'epochs': 10, 'layer_sizes': [12, 1], 'learning_rate': 0.001, 'loss': 'binary_crossentropy'}\n0.536311 (0.005037) with: {'batch_size': 200, 'epochs': 10, 'layer_sizes': [12, 1], 'learning_rate': 0.001, 'loss': 'mean_squared_logarithmic_error'}\n0.536311 (0.005037) with: {'batch_size': 200, 'epochs': 10, 'layer_sizes': [12, 1], 'learning_rate': 0.05, 'loss': 'mean_squared_error'}\n0.536311 (0.005037) with: {'batch_size': 200, 'epochs': 10, 'layer_sizes': [12, 1], 'learning_rate': 0.05, 'loss': 'logcosh'}\n0.536311 (0.005037) with: {'batch_size': 200, 'epochs': 10, 'layer_sizes': [12, 1], 'learning_rate': 0.05, 'loss': 'binary_crossentropy'}\n0.536311 (0.005037) with: {'batch_size': 200, 'epochs': 10, 'layer_sizes': [12, 1], 'learning_rate': 0.05, 'loss': 'mean_squared_logarithmic_error'}\n0.536311 (0.005037) with: {'batch_size': 200, 'epochs': 10, 'layer_sizes': [12, 1], 'learning_rate': 0.01, 'loss': 'mean_squared_error'}\n0.536311 (0.005037) with: {'batch_size': 200, 'epochs': 10, 'layer_sizes': [12, 1], 'learning_rate': 0.01, 'loss': 'logcosh'}\n0.536311 (0.005037) with: {'batch_size': 200, 'epochs': 10, 'layer_sizes': [12, 1], 'learning_rate': 0.01, 'loss': 'binary_crossentropy'}\n0.536311 (0.005037) with: {'batch_size': 200, 'epochs': 10, 'layer_sizes': [12, 1], 'learning_rate': 0.01, 'loss': 'mean_squared_logarithmic_error'}\n0.536311 (0.005037) with: {'batch_size': 200, 'epochs': 10, 'layer_sizes': [12, 1], 'learning_rate': 0.1, 'loss': 'mean_squared_error'}\n0.536311 (0.005037) with: {'batch_size': 200, 'epochs': 10, 'layer_sizes': [12, 1], 'learning_rate': 0.1, 'loss': 'logcosh'}\n0.536311 (0.005037) with: {'batch_size': 200, 'epochs': 10, 'layer_sizes': [12, 1], 'learning_rate': 0.1, 'loss': 'binary_crossentropy'}\n0.536311 (0.005037) with: {'batch_size': 200, 'epochs': 10, 'layer_sizes': [12, 1], 'learning_rate': 0.1, 'loss': 'mean_squared_logarithmic_error'}\n0.536311 (0.005037) with: {'batch_size': 200, 'epochs': 30, 'layer_sizes': [12, 1], 'learning_rate': 0.0005, 'loss': 'mean_squared_error'}\n0.536311 (0.005037) with: {'batch_size': 200, 'epochs': 30, 'layer_sizes': [12, 1], 'learning_rate': 0.0005, 'loss': 'logcosh'}\n0.536311 (0.005037) with: {'batch_size': 200, 'epochs': 30, 'layer_sizes': [12, 1], 'learning_rate': 0.0005, 'loss': 'binary_crossentropy'}\n0.536311 (0.005037) with: {'batch_size': 200, 'epochs': 30, 'layer_sizes': [12, 1], 'learning_rate': 0.0005, 'loss': 'mean_squared_logarithmic_error'}\n0.536311 (0.005037) with: {'batch_size': 200, 'epochs': 30, 'layer_sizes': [12, 1], 'learning_rate': 0.001, 'loss': 'mean_squared_error'}\n0.536311 (0.005037) with: {'batch_size': 200, 'epochs': 30, 'layer_sizes': [12, 1], 'learning_rate': 0.001, 'loss': 'logcosh'}\n0.536311 (0.005037) with: {'batch_size': 200, 'epochs': 30, 'layer_sizes': [12, 1], 'learning_rate': 0.001, 'loss': 'binary_crossentropy'}\n0.536311 (0.005037) with: {'batch_size': 200, 'epochs': 30, 'layer_sizes': [12, 1], 'learning_rate': 0.001, 'loss': 'mean_squared_logarithmic_error'}\n0.536311 (0.005037) with: {'batch_size': 200, 'epochs': 30, 'layer_sizes': [12, 1], 'learning_rate': 0.05, 'loss': 'mean_squared_error'}\n0.536311 (0.005037) with: {'batch_size': 200, 'epochs': 30, 'layer_sizes': [12, 1], 'learning_rate': 0.05, 'loss': 'logcosh'}\n0.536311 (0.005037) with: {'batch_size': 200, 'epochs': 30, 'layer_sizes': [12, 1], 'learning_rate': 0.05, 'loss': 'binary_crossentropy'}\n0.536311 (0.005037) with: {'batch_size': 200, 'epochs': 30, 'layer_sizes': [12, 1], 'learning_rate': 0.05, 'loss': 'mean_squared_logarithmic_error'}\n0.536311 (0.005037) with: {'batch_size': 200, 'epochs': 30, 'layer_sizes': [12, 1], 'learning_rate': 0.01, 'loss': 'mean_squared_error'}\n0.536311 (0.005037) with: {'batch_size': 200, 'epochs': 30, 'layer_sizes': [12, 1], 'learning_rate': 0.01, 'loss': 'logcosh'}\n0.536311 (0.005037) with: {'batch_size': 200, 'epochs': 30, 'layer_sizes': [12, 1], 'learning_rate': 0.01, 'loss': 'binary_crossentropy'}\n0.536311 (0.005037) with: {'batch_size': 200, 'epochs': 30, 'layer_sizes': [12, 1], 'learning_rate': 0.01, 'loss': 'mean_squared_logarithmic_error'}\n0.536311 (0.005037) with: {'batch_size': 200, 'epochs': 30, 'layer_sizes': [12, 1], 'learning_rate': 0.1, 'loss': 'mean_squared_error'}\n0.536311 (0.005037) with: {'batch_size': 200, 'epochs': 30, 'layer_sizes': [12, 1], 'learning_rate': 0.1, 'loss': 'logcosh'}\n0.536311 (0.005037) with: {'batch_size': 200, 'epochs': 30, 'layer_sizes': [12, 1], 'learning_rate': 0.1, 'loss': 'binary_crossentropy'}\n0.536311 (0.005037) with: {'batch_size': 200, 'epochs': 30, 'layer_sizes': [12, 1], 'learning_rate': 0.1, 'loss': 'mean_squared_logarithmic_error'}\n0.536311 (0.005037) with: {'batch_size': 200, 'epochs': 60, 'layer_sizes': [12, 1], 'learning_rate': 0.0005, 'loss': 'mean_squared_error'}\n0.536311 (0.005037) with: {'batch_size': 200, 'epochs': 60, 'layer_sizes': [12, 1], 'learning_rate': 0.0005, 'loss': 'logcosh'}\n0.536311 (0.005037) with: {'batch_size': 200, 'epochs': 60, 'layer_sizes': [12, 1], 'learning_rate': 0.0005, 'loss': 'binary_crossentropy'}\n0.536311 (0.005037) with: {'batch_size': 200, 'epochs': 60, 'layer_sizes': [12, 1], 'learning_rate': 0.0005, 'loss': 'mean_squared_logarithmic_error'}\n0.536311 (0.005037) with: {'batch_size': 200, 'epochs': 60, 'layer_sizes': [12, 1], 'learning_rate': 0.001, 'loss': 'mean_squared_error'}\n0.536311 (0.005037) with: {'batch_size': 200, 'epochs': 60, 'layer_sizes': [12, 1], 'learning_rate': 0.001, 'loss': 'logcosh'}\n0.536311 (0.005037) with: {'batch_size': 200, 'epochs': 60, 'layer_sizes': [12, 1], 'learning_rate': 0.001, 'loss': 'binary_crossentropy'}\n0.536311 (0.005037) with: {'batch_size': 200, 'epochs': 60, 'layer_sizes': [12, 1], 'learning_rate': 0.001, 'loss': 'mean_squared_logarithmic_error'}\n0.536311 (0.005037) with: {'batch_size': 200, 'epochs': 60, 'layer_sizes': [12, 1], 'learning_rate': 0.05, 'loss': 'mean_squared_error'}\n0.536311 (0.005037) with: {'batch_size': 200, 'epochs': 60, 'layer_sizes': [12, 1], 'learning_rate': 0.05, 'loss': 'logcosh'}\n0.536311 (0.005037) with: {'batch_size': 200, 'epochs': 60, 'layer_sizes': [12, 1], 'learning_rate': 0.05, 'loss': 'binary_crossentropy'}\n0.536311 (0.005037) with: {'batch_size': 200, 'epochs': 60, 'layer_sizes': [12, 1], 'learning_rate': 0.05, 'loss': 'mean_squared_logarithmic_error'}\n0.536311 (0.005037) with: {'batch_size': 200, 'epochs': 60, 'layer_sizes': [12, 1], 'learning_rate': 0.01, 'loss': 'mean_squared_error'}\n0.536311 (0.005037) with: {'batch_size': 200, 'epochs': 60, 'layer_sizes': [12, 1], 'learning_rate': 0.01, 'loss': 'logcosh'}\n0.536311 (0.005037) with: {'batch_size': 200, 'epochs': 60, 'layer_sizes': [12, 1], 'learning_rate': 0.01, 'loss': 'binary_crossentropy'}\n0.536311 (0.005037) with: {'batch_size': 200, 'epochs': 60, 'layer_sizes': [12, 1], 'learning_rate': 0.01, 'loss': 'mean_squared_logarithmic_error'}\n0.536311 (0.005037) with: {'batch_size': 200, 'epochs': 60, 'layer_sizes': [12, 1], 'learning_rate': 0.1, 'loss': 'mean_squared_error'}\n0.536311 (0.005037) with: {'batch_size': 200, 'epochs': 60, 'layer_sizes': [12, 1], 'learning_rate': 0.1, 'loss': 'logcosh'}\n0.536311 (0.005037) with: {'batch_size': 200, 'epochs': 60, 'layer_sizes': [12, 1], 'learning_rate': 0.1, 'loss': 'binary_crossentropy'}\n0.536311 (0.005037) with: {'batch_size': 200, 'epochs': 60, 'layer_sizes': [12, 1], 'learning_rate': 0.1, 'loss': 'mean_squared_logarithmic_error'}\n0.536311 (0.005037) with: {'batch_size': 200, 'epochs': 100, 'layer_sizes': [12, 1], 'learning_rate': 0.0005, 'loss': 'mean_squared_error'}\n0.536311 (0.005037) with: {'batch_size': 200, 'epochs': 100, 'layer_sizes': [12, 1], 'learning_rate': 0.0005, 'loss': 'logcosh'}\n0.536311 (0.005037) with: {'batch_size': 200, 'epochs': 100, 'layer_sizes': [12, 1], 'learning_rate': 0.0005, 'loss': 'binary_crossentropy'}\n0.536311 (0.005037) with: {'batch_size': 200, 'epochs': 100, 'layer_sizes': [12, 1], 'learning_rate': 0.0005, 'loss': 'mean_squared_logarithmic_error'}\n0.536311 (0.005037) with: {'batch_size': 200, 'epochs': 100, 'layer_sizes': [12, 1], 'learning_rate': 0.001, 'loss': 'mean_squared_error'}\n0.536311 (0.005037) with: {'batch_size': 200, 'epochs': 100, 'layer_sizes': [12, 1], 'learning_rate': 0.001, 'loss': 'logcosh'}\n0.536311 (0.005037) with: {'batch_size': 200, 'epochs': 100, 'layer_sizes': [12, 1], 'learning_rate': 0.001, 'loss': 'binary_crossentropy'}\n0.536311 (0.005037) with: {'batch_size': 200, 'epochs': 100, 'layer_sizes': [12, 1], 'learning_rate': 0.001, 'loss': 'mean_squared_logarithmic_error'}\n0.536311 (0.005037) with: {'batch_size': 200, 'epochs': 100, 'layer_sizes': [12, 1], 'learning_rate': 0.05, 'loss': 'mean_squared_error'}\n0.536311 (0.005037) with: {'batch_size': 200, 'epochs': 100, 'layer_sizes': [12, 1], 'learning_rate': 0.05, 'loss': 'logcosh'}\n0.536311 (0.005037) with: {'batch_size': 200, 'epochs': 100, 'layer_sizes': [12, 1], 'learning_rate': 0.05, 'loss': 'binary_crossentropy'}\n0.536311 (0.005037) with: {'batch_size': 200, 'epochs': 100, 'layer_sizes': [12, 1], 'learning_rate': 0.05, 'loss': 'mean_squared_logarithmic_error'}\n0.536311 (0.005037) with: {'batch_size': 200, 'epochs': 100, 'layer_sizes': [12, 1], 'learning_rate': 0.01, 'loss': 'mean_squared_error'}\n0.536311 (0.005037) with: {'batch_size': 200, 'epochs': 100, 'layer_sizes': [12, 1], 'learning_rate': 0.01, 'loss': 'logcosh'}\n0.536311 (0.005037) with: {'batch_size': 200, 'epochs': 100, 'layer_sizes': [12, 1], 'learning_rate': 0.01, 'loss': 'binary_crossentropy'}\n0.536311 (0.005037) with: {'batch_size': 200, 'epochs': 100, 'layer_sizes': [12, 1], 'learning_rate': 0.01, 'loss': 'mean_squared_logarithmic_error'}\n0.536311 (0.005037) with: {'batch_size': 200, 'epochs': 100, 'layer_sizes': [12, 1], 'learning_rate': 0.1, 'loss': 'mean_squared_error'}\n0.536311 (0.005037) with: {'batch_size': 200, 'epochs': 100, 'layer_sizes': [12, 1], 'learning_rate': 0.1, 'loss': 'logcosh'}\n0.536311 (0.005037) with: {'batch_size': 200, 'epochs': 100, 'layer_sizes': [12, 1], 'learning_rate': 0.1, 'loss': 'binary_crossentropy'}\n0.536311 (0.005037) with: {'batch_size': 200, 'epochs': 100, 'layer_sizes': [12, 1], 'learning_rate': 0.1, 'loss': 'mean_squared_logarithmic_error'}\n0.536311 (0.005037) with: {'batch_size': 500, 'epochs': 1, 'layer_sizes': [12, 1], 'learning_rate': 0.0005, 'loss': 'mean_squared_error'}\n0.536311 (0.005037) with: {'batch_size': 500, 'epochs': 1, 'layer_sizes': [12, 1], 'learning_rate': 0.0005, 'loss': 'logcosh'}\n0.536311 (0.005037) with: {'batch_size': 500, 'epochs': 1, 'layer_sizes': [12, 1], 'learning_rate': 0.0005, 'loss': 'binary_crossentropy'}\n0.536311 (0.005037) with: {'batch_size': 500, 'epochs': 1, 'layer_sizes': [12, 1], 'learning_rate': 0.0005, 'loss': 'mean_squared_logarithmic_error'}\n0.536311 (0.005037) with: {'batch_size': 500, 'epochs': 1, 'layer_sizes': [12, 1], 'learning_rate': 0.001, 'loss': 'mean_squared_error'}\n0.536311 (0.005037) with: {'batch_size': 500, 'epochs': 1, 'layer_sizes': [12, 1], 'learning_rate': 0.001, 'loss': 'logcosh'}\n0.536311 (0.005037) with: {'batch_size': 500, 'epochs': 1, 'layer_sizes': [12, 1], 'learning_rate': 0.001, 'loss': 'binary_crossentropy'}\n0.536311 (0.005037) with: {'batch_size': 500, 'epochs': 1, 'layer_sizes': [12, 1], 'learning_rate': 0.001, 'loss': 'mean_squared_logarithmic_error'}\n0.536311 (0.005037) with: {'batch_size': 500, 'epochs': 1, 'layer_sizes': [12, 1], 'learning_rate': 0.05, 'loss': 'mean_squared_error'}\n0.536311 (0.005037) with: {'batch_size': 500, 'epochs': 1, 'layer_sizes': [12, 1], 'learning_rate': 0.05, 'loss': 'logcosh'}\n0.536311 (0.005037) with: {'batch_size': 500, 'epochs': 1, 'layer_sizes': [12, 1], 'learning_rate': 0.05, 'loss': 'binary_crossentropy'}\n0.536311 (0.005037) with: {'batch_size': 500, 'epochs': 1, 'layer_sizes': [12, 1], 'learning_rate': 0.05, 'loss': 'mean_squared_logarithmic_error'}\n0.536311 (0.005037) with: {'batch_size': 500, 'epochs': 1, 'layer_sizes': [12, 1], 'learning_rate': 0.01, 'loss': 'mean_squared_error'}\n0.536311 (0.005037) with: {'batch_size': 500, 'epochs': 1, 'layer_sizes': [12, 1], 'learning_rate': 0.01, 'loss': 'logcosh'}\n0.536311 (0.005037) with: {'batch_size': 500, 'epochs': 1, 'layer_sizes': [12, 1], 'learning_rate': 0.01, 'loss': 'binary_crossentropy'}\n0.536311 (0.005037) with: {'batch_size': 500, 'epochs': 1, 'layer_sizes': [12, 1], 'learning_rate': 0.01, 'loss': 'mean_squared_logarithmic_error'}\n0.536311 (0.005037) with: {'batch_size': 500, 'epochs': 1, 'layer_sizes': [12, 1], 'learning_rate': 0.1, 'loss': 'mean_squared_error'}\n0.536311 (0.005037) with: {'batch_size': 500, 'epochs': 1, 'layer_sizes': [12, 1], 'learning_rate': 0.1, 'loss': 'logcosh'}\n0.536311 (0.005037) with: {'batch_size': 500, 'epochs': 1, 'layer_sizes': [12, 1], 'learning_rate': 0.1, 'loss': 'binary_crossentropy'}\n0.536311 (0.005037) with: {'batch_size': 500, 'epochs': 1, 'layer_sizes': [12, 1], 'learning_rate': 0.1, 'loss': 'mean_squared_logarithmic_error'}\n0.536311 (0.005037) with: {'batch_size': 500, 'epochs': 10, 'layer_sizes': [12, 1], 'learning_rate': 0.0005, 'loss': 'mean_squared_error'}\n0.536311 (0.005037) with: {'batch_size': 500, 'epochs': 10, 'layer_sizes': [12, 1], 'learning_rate': 0.0005, 'loss': 'logcosh'}\n0.536311 (0.005037) with: {'batch_size': 500, 'epochs': 10, 'layer_sizes': [12, 1], 'learning_rate': 0.0005, 'loss': 'binary_crossentropy'}\n0.536311 (0.005037) with: {'batch_size': 500, 'epochs': 10, 'layer_sizes': [12, 1], 'learning_rate': 0.0005, 'loss': 'mean_squared_logarithmic_error'}\n0.536311 (0.005037) with: {'batch_size': 500, 'epochs': 10, 'layer_sizes': [12, 1], 'learning_rate': 0.001, 'loss': 'mean_squared_error'}\n0.536311 (0.005037) with: {'batch_size': 500, 'epochs': 10, 'layer_sizes': [12, 1], 'learning_rate': 0.001, 'loss': 'logcosh'}\n0.536311 (0.005037) with: {'batch_size': 500, 'epochs': 10, 'layer_sizes': [12, 1], 'learning_rate': 0.001, 'loss': 'binary_crossentropy'}\n0.536311 (0.005037) with: {'batch_size': 500, 'epochs': 10, 'layer_sizes': [12, 1], 'learning_rate': 0.001, 'loss': 'mean_squared_logarithmic_error'}\n0.536311 (0.005037) with: {'batch_size': 500, 'epochs': 10, 'layer_sizes': [12, 1], 'learning_rate': 0.05, 'loss': 'mean_squared_error'}\n0.536311 (0.005037) with: {'batch_size': 500, 'epochs': 10, 'layer_sizes': [12, 1], 'learning_rate': 0.05, 'loss': 'logcosh'}\n0.536311 (0.005037) with: {'batch_size': 500, 'epochs': 10, 'layer_sizes': [12, 1], 'learning_rate': 0.05, 'loss': 'binary_crossentropy'}\n0.536311 (0.005037) with: {'batch_size': 500, 'epochs': 10, 'layer_sizes': [12, 1], 'learning_rate': 0.05, 'loss': 'mean_squared_logarithmic_error'}\n0.536311 (0.005037) with: {'batch_size': 500, 'epochs': 10, 'layer_sizes': [12, 1], 'learning_rate': 0.01, 'loss': 'mean_squared_error'}\n0.536311 (0.005037) with: {'batch_size': 500, 'epochs': 10, 'layer_sizes': [12, 1], 'learning_rate': 0.01, 'loss': 'logcosh'}\n0.536311 (0.005037) with: {'batch_size': 500, 'epochs': 10, 'layer_sizes': [12, 1], 'learning_rate': 0.01, 'loss': 'binary_crossentropy'}\n0.536311 (0.005037) with: {'batch_size': 500, 'epochs': 10, 'layer_sizes': [12, 1], 'learning_rate': 0.01, 'loss': 'mean_squared_logarithmic_error'}\n0.536311 (0.005037) with: {'batch_size': 500, 'epochs': 10, 'layer_sizes': [12, 1], 'learning_rate': 0.1, 'loss': 'mean_squared_error'}\n0.536311 (0.005037) with: {'batch_size': 500, 'epochs': 10, 'layer_sizes': [12, 1], 'learning_rate': 0.1, 'loss': 'logcosh'}\n0.536311 (0.005037) with: {'batch_size': 500, 'epochs': 10, 'layer_sizes': [12, 1], 'learning_rate': 0.1, 'loss': 'binary_crossentropy'}\n0.536311 (0.005037) with: {'batch_size': 500, 'epochs': 10, 'layer_sizes': [12, 1], 'learning_rate': 0.1, 'loss': 'mean_squared_logarithmic_error'}\n0.536311 (0.005037) with: {'batch_size': 500, 'epochs': 30, 'layer_sizes': [12, 1], 'learning_rate': 0.0005, 'loss': 'mean_squared_error'}\n0.536311 (0.005037) with: {'batch_size': 500, 'epochs': 30, 'layer_sizes': [12, 1], 'learning_rate': 0.0005, 'loss': 'logcosh'}\n0.536311 (0.005037) with: {'batch_size': 500, 'epochs': 30, 'layer_sizes': [12, 1], 'learning_rate': 0.0005, 'loss': 'binary_crossentropy'}\n0.536311 (0.005037) with: {'batch_size': 500, 'epochs': 30, 'layer_sizes': [12, 1], 'learning_rate': 0.0005, 'loss': 'mean_squared_logarithmic_error'}\n0.536311 (0.005037) with: {'batch_size': 500, 'epochs': 30, 'layer_sizes': [12, 1], 'learning_rate': 0.001, 'loss': 'mean_squared_error'}\n0.536311 (0.005037) with: {'batch_size': 500, 'epochs': 30, 'layer_sizes': [12, 1], 'learning_rate': 0.001, 'loss': 'logcosh'}\n0.536311 (0.005037) with: {'batch_size': 500, 'epochs': 30, 'layer_sizes': [12, 1], 'learning_rate': 0.001, 'loss': 'binary_crossentropy'}\n0.536311 (0.005037) with: {'batch_size': 500, 'epochs': 30, 'layer_sizes': [12, 1], 'learning_rate': 0.001, 'loss': 'mean_squared_logarithmic_error'}\n0.536311 (0.005037) with: {'batch_size': 500, 'epochs': 30, 'layer_sizes': [12, 1], 'learning_rate': 0.05, 'loss': 'mean_squared_error'}\n0.536311 (0.005037) with: {'batch_size': 500, 'epochs': 30, 'layer_sizes': [12, 1], 'learning_rate': 0.05, 'loss': 'logcosh'}\n0.536311 (0.005037) with: {'batch_size': 500, 'epochs': 30, 'layer_sizes': [12, 1], 'learning_rate': 0.05, 'loss': 'binary_crossentropy'}\n0.536311 (0.005037) with: {'batch_size': 500, 'epochs': 30, 'layer_sizes': [12, 1], 'learning_rate': 0.05, 'loss': 'mean_squared_logarithmic_error'}\n0.536311 (0.005037) with: {'batch_size': 500, 'epochs': 30, 'layer_sizes': [12, 1], 'learning_rate': 0.01, 'loss': 'mean_squared_error'}\n0.536311 (0.005037) with: {'batch_size': 500, 'epochs': 30, 'layer_sizes': [12, 1], 'learning_rate': 0.01, 'loss': 'logcosh'}\n0.536311 (0.005037) with: {'batch_size': 500, 'epochs': 30, 'layer_sizes': [12, 1], 'learning_rate': 0.01, 'loss': 'binary_crossentropy'}\n0.536311 (0.005037) with: {'batch_size': 500, 'epochs': 30, 'layer_sizes': [12, 1], 'learning_rate': 0.01, 'loss': 'mean_squared_logarithmic_error'}\n0.536311 (0.005037) with: {'batch_size': 500, 'epochs': 30, 'layer_sizes': [12, 1], 'learning_rate': 0.1, 'loss': 'mean_squared_error'}\n0.536311 (0.005037) with: {'batch_size': 500, 'epochs': 30, 'layer_sizes': [12, 1], 'learning_rate': 0.1, 'loss': 'logcosh'}\n0.536311 (0.005037) with: {'batch_size': 500, 'epochs': 30, 'layer_sizes': [12, 1], 'learning_rate': 0.1, 'loss': 'binary_crossentropy'}\n0.536311 (0.005037) with: {'batch_size': 500, 'epochs': 30, 'layer_sizes': [12, 1], 'learning_rate': 0.1, 'loss': 'mean_squared_logarithmic_error'}\n0.536311 (0.005037) with: {'batch_size': 500, 'epochs': 60, 'layer_sizes': [12, 1], 'learning_rate': 0.0005, 'loss': 'mean_squared_error'}\n0.536311 (0.005037) with: {'batch_size': 500, 'epochs': 60, 'layer_sizes': [12, 1], 'learning_rate': 0.0005, 'loss': 'logcosh'}\n0.536311 (0.005037) with: {'batch_size': 500, 'epochs': 60, 'layer_sizes': [12, 1], 'learning_rate': 0.0005, 'loss': 'binary_crossentropy'}\n0.536311 (0.005037) with: {'batch_size': 500, 'epochs': 60, 'layer_sizes': [12, 1], 'learning_rate': 0.0005, 'loss': 'mean_squared_logarithmic_error'}\n0.536311 (0.005037) with: {'batch_size': 500, 'epochs': 60, 'layer_sizes': [12, 1], 'learning_rate': 0.001, 'loss': 'mean_squared_error'}\n0.536311 (0.005037) with: {'batch_size': 500, 'epochs': 60, 'layer_sizes': [12, 1], 'learning_rate': 0.001, 'loss': 'logcosh'}\n0.536311 (0.005037) with: {'batch_size': 500, 'epochs': 60, 'layer_sizes': [12, 1], 'learning_rate': 0.001, 'loss': 'binary_crossentropy'}\n0.536311 (0.005037) with: {'batch_size': 500, 'epochs': 60, 'layer_sizes': [12, 1], 'learning_rate': 0.001, 'loss': 'mean_squared_logarithmic_error'}\n0.536311 (0.005037) with: {'batch_size': 500, 'epochs': 60, 'layer_sizes': [12, 1], 'learning_rate': 0.05, 'loss': 'mean_squared_error'}\n0.536311 (0.005037) with: {'batch_size': 500, 'epochs': 60, 'layer_sizes': [12, 1], 'learning_rate': 0.05, 'loss': 'logcosh'}\n0.536311 (0.005037) with: {'batch_size': 500, 'epochs': 60, 'layer_sizes': [12, 1], 'learning_rate': 0.05, 'loss': 'binary_crossentropy'}\n0.536311 (0.005037) with: {'batch_size': 500, 'epochs': 60, 'layer_sizes': [12, 1], 'learning_rate': 0.05, 'loss': 'mean_squared_logarithmic_error'}\n0.536311 (0.005037) with: {'batch_size': 500, 'epochs': 60, 'layer_sizes': [12, 1], 'learning_rate': 0.01, 'loss': 'mean_squared_error'}\n0.536311 (0.005037) with: {'batch_size': 500, 'epochs': 60, 'layer_sizes': [12, 1], 'learning_rate': 0.01, 'loss': 'logcosh'}\n0.536311 (0.005037) with: {'batch_size': 500, 'epochs': 60, 'layer_sizes': [12, 1], 'learning_rate': 0.01, 'loss': 'binary_crossentropy'}\n0.536311 (0.005037) with: {'batch_size': 500, 'epochs': 60, 'layer_sizes': [12, 1], 'learning_rate': 0.01, 'loss': 'mean_squared_logarithmic_error'}\n0.536311 (0.005037) with: {'batch_size': 500, 'epochs': 60, 'layer_sizes': [12, 1], 'learning_rate': 0.1, 'loss': 'mean_squared_error'}\n0.536311 (0.005037) with: {'batch_size': 500, 'epochs': 60, 'layer_sizes': [12, 1], 'learning_rate': 0.1, 'loss': 'logcosh'}\n0.536311 (0.005037) with: {'batch_size': 500, 'epochs': 60, 'layer_sizes': [12, 1], 'learning_rate': 0.1, 'loss': 'binary_crossentropy'}\n0.536311 (0.005037) with: {'batch_size': 500, 'epochs': 60, 'layer_sizes': [12, 1], 'learning_rate': 0.1, 'loss': 'mean_squared_logarithmic_error'}\n0.536311 (0.005037) with: {'batch_size': 500, 'epochs': 100, 'layer_sizes': [12, 1], 'learning_rate': 0.0005, 'loss': 'mean_squared_error'}\n0.536311 (0.005037) with: {'batch_size': 500, 'epochs': 100, 'layer_sizes': [12, 1], 'learning_rate': 0.0005, 'loss': 'logcosh'}\n0.536311 (0.005037) with: {'batch_size': 500, 'epochs': 100, 'layer_sizes': [12, 1], 'learning_rate': 0.0005, 'loss': 'binary_crossentropy'}\n0.536311 (0.005037) with: {'batch_size': 500, 'epochs': 100, 'layer_sizes': [12, 1], 'learning_rate': 0.0005, 'loss': 'mean_squared_logarithmic_error'}\n0.536311 (0.005037) with: {'batch_size': 500, 'epochs': 100, 'layer_sizes': [12, 1], 'learning_rate': 0.001, 'loss': 'mean_squared_error'}\n0.536311 (0.005037) with: {'batch_size': 500, 'epochs': 100, 'layer_sizes': [12, 1], 'learning_rate': 0.001, 'loss': 'logcosh'}\n0.536311 (0.005037) with: {'batch_size': 500, 'epochs': 100, 'layer_sizes': [12, 1], 'learning_rate': 0.001, 'loss': 'binary_crossentropy'}\n0.536311 (0.005037) with: {'batch_size': 500, 'epochs': 100, 'layer_sizes': [12, 1], 'learning_rate': 0.001, 'loss': 'mean_squared_logarithmic_error'}\n0.536311 (0.005037) with: {'batch_size': 500, 'epochs': 100, 'layer_sizes': [12, 1], 'learning_rate': 0.05, 'loss': 'mean_squared_error'}\n0.536311 (0.005037) with: {'batch_size': 500, 'epochs': 100, 'layer_sizes': [12, 1], 'learning_rate': 0.05, 'loss': 'logcosh'}\n0.536311 (0.005037) with: {'batch_size': 500, 'epochs': 100, 'layer_sizes': [12, 1], 'learning_rate': 0.05, 'loss': 'binary_crossentropy'}\n0.536311 (0.005037) with: {'batch_size': 500, 'epochs': 100, 'layer_sizes': [12, 1], 'learning_rate': 0.05, 'loss': 'mean_squared_logarithmic_error'}\n0.536311 (0.005037) with: {'batch_size': 500, 'epochs': 100, 'layer_sizes': [12, 1], 'learning_rate': 0.01, 'loss': 'mean_squared_error'}\n0.536311 (0.005037) with: {'batch_size': 500, 'epochs': 100, 'layer_sizes': [12, 1], 'learning_rate': 0.01, 'loss': 'logcosh'}\n0.536311 (0.005037) with: {'batch_size': 500, 'epochs': 100, 'layer_sizes': [12, 1], 'learning_rate': 0.01, 'loss': 'binary_crossentropy'}\n0.536311 (0.005037) with: {'batch_size': 500, 'epochs': 100, 'layer_sizes': [12, 1], 'learning_rate': 0.01, 'loss': 'mean_squared_logarithmic_error'}\n0.536311 (0.005037) with: {'batch_size': 500, 'epochs': 100, 'layer_sizes': [12, 1], 'learning_rate': 0.1, 'loss': 'mean_squared_error'}\n0.536311 (0.005037) with: {'batch_size': 500, 'epochs': 100, 'layer_sizes': [12, 1], 'learning_rate': 0.1, 'loss': 'logcosh'}\n0.536311 (0.005037) with: {'batch_size': 500, 'epochs': 100, 'layer_sizes': [12, 1], 'learning_rate': 0.1, 'loss': 'binary_crossentropy'}\n0.536311 (0.005037) with: {'batch_size': 500, 'epochs': 100, 'layer_sizes': [12, 1], 'learning_rate': 0.1, 'loss': 'mean_squared_logarithmic_error'}\n0.536311 (0.005037) with: {'batch_size': 1000, 'epochs': 1, 'layer_sizes': [12, 1], 'learning_rate': 0.0005, 'loss': 'mean_squared_error'}\n0.536311 (0.005037) with: {'batch_size': 1000, 'epochs': 1, 'layer_sizes': [12, 1], 'learning_rate': 0.0005, 'loss': 'logcosh'}\n0.536311 (0.005037) with: {'batch_size': 1000, 'epochs': 1, 'layer_sizes': [12, 1], 'learning_rate': 0.0005, 'loss': 'binary_crossentropy'}\n0.536311 (0.005037) with: {'batch_size': 1000, 'epochs': 1, 'layer_sizes': [12, 1], 'learning_rate': 0.0005, 'loss': 'mean_squared_logarithmic_error'}\n0.536311 (0.005037) with: {'batch_size': 1000, 'epochs': 1, 'layer_sizes': [12, 1], 'learning_rate': 0.001, 'loss': 'mean_squared_error'}\n0.536311 (0.005037) with: {'batch_size': 1000, 'epochs': 1, 'layer_sizes': [12, 1], 'learning_rate': 0.001, 'loss': 'logcosh'}\n0.536311 (0.005037) with: {'batch_size': 1000, 'epochs': 1, 'layer_sizes': [12, 1], 'learning_rate': 0.001, 'loss': 'binary_crossentropy'}\n0.536311 (0.005037) with: {'batch_size': 1000, 'epochs': 1, 'layer_sizes': [12, 1], 'learning_rate': 0.001, 'loss': 'mean_squared_logarithmic_error'}\n0.536311 (0.005037) with: {'batch_size': 1000, 'epochs': 1, 'layer_sizes': [12, 1], 'learning_rate': 0.05, 'loss': 'mean_squared_error'}\n0.536311 (0.005037) with: {'batch_size': 1000, 'epochs': 1, 'layer_sizes': [12, 1], 'learning_rate': 0.05, 'loss': 'logcosh'}\n0.536311 (0.005037) with: {'batch_size': 1000, 'epochs': 1, 'layer_sizes': [12, 1], 'learning_rate': 0.05, 'loss': 'binary_crossentropy'}\n0.536311 (0.005037) with: {'batch_size': 1000, 'epochs': 1, 'layer_sizes': [12, 1], 'learning_rate': 0.05, 'loss': 'mean_squared_logarithmic_error'}\n0.536311 (0.005037) with: {'batch_size': 1000, 'epochs': 1, 'layer_sizes': [12, 1], 'learning_rate': 0.01, 'loss': 'mean_squared_error'}\n0.536311 (0.005037) with: {'batch_size': 1000, 'epochs': 1, 'layer_sizes': [12, 1], 'learning_rate': 0.01, 'loss': 'logcosh'}\n0.536311 (0.005037) with: {'batch_size': 1000, 'epochs': 1, 'layer_sizes': [12, 1], 'learning_rate': 0.01, 'loss': 'binary_crossentropy'}\n0.536311 (0.005037) with: {'batch_size': 1000, 'epochs': 1, 'layer_sizes': [12, 1], 'learning_rate': 0.01, 'loss': 'mean_squared_logarithmic_error'}\n0.536311 (0.005037) with: {'batch_size': 1000, 'epochs': 1, 'layer_sizes': [12, 1], 'learning_rate': 0.1, 'loss': 'mean_squared_error'}\n0.536311 (0.005037) with: {'batch_size': 1000, 'epochs': 1, 'layer_sizes': [12, 1], 'learning_rate': 0.1, 'loss': 'logcosh'}\n0.536311 (0.005037) with: {'batch_size': 1000, 'epochs': 1, 'layer_sizes': [12, 1], 'learning_rate': 0.1, 'loss': 'binary_crossentropy'}\n0.536311 (0.005037) with: {'batch_size': 1000, 'epochs': 1, 'layer_sizes': [12, 1], 'learning_rate': 0.1, 'loss': 'mean_squared_logarithmic_error'}\n0.536311 (0.005037) with: {'batch_size': 1000, 'epochs': 10, 'layer_sizes': [12, 1], 'learning_rate': 0.0005, 'loss': 'mean_squared_error'}\n0.536311 (0.005037) with: {'batch_size': 1000, 'epochs': 10, 'layer_sizes': [12, 1], 'learning_rate': 0.0005, 'loss': 'logcosh'}\n0.536311 (0.005037) with: {'batch_size': 1000, 'epochs': 10, 'layer_sizes': [12, 1], 'learning_rate': 0.0005, 'loss': 'binary_crossentropy'}\n0.536311 (0.005037) with: {'batch_size': 1000, 'epochs': 10, 'layer_sizes': [12, 1], 'learning_rate': 0.0005, 'loss': 'mean_squared_logarithmic_error'}\n0.536311 (0.005037) with: {'batch_size': 1000, 'epochs': 10, 'layer_sizes': [12, 1], 'learning_rate': 0.001, 'loss': 'mean_squared_error'}\n0.536311 (0.005037) with: {'batch_size': 1000, 'epochs': 10, 'layer_sizes': [12, 1], 'learning_rate': 0.001, 'loss': 'logcosh'}\n0.536311 (0.005037) with: {'batch_size': 1000, 'epochs': 10, 'layer_sizes': [12, 1], 'learning_rate': 0.001, 'loss': 'binary_crossentropy'}\n0.536311 (0.005037) with: {'batch_size': 1000, 'epochs': 10, 'layer_sizes': [12, 1], 'learning_rate': 0.001, 'loss': 'mean_squared_logarithmic_error'}\n0.536311 (0.005037) with: {'batch_size': 1000, 'epochs': 10, 'layer_sizes': [12, 1], 'learning_rate': 0.05, 'loss': 'mean_squared_error'}\n0.536311 (0.005037) with: {'batch_size': 1000, 'epochs': 10, 'layer_sizes': [12, 1], 'learning_rate': 0.05, 'loss': 'logcosh'}\n0.536311 (0.005037) with: {'batch_size': 1000, 'epochs': 10, 'layer_sizes': [12, 1], 'learning_rate': 0.05, 'loss': 'binary_crossentropy'}\n0.536311 (0.005037) with: {'batch_size': 1000, 'epochs': 10, 'layer_sizes': [12, 1], 'learning_rate': 0.05, 'loss': 'mean_squared_logarithmic_error'}\n0.536311 (0.005037) with: {'batch_size': 1000, 'epochs': 10, 'layer_sizes': [12, 1], 'learning_rate': 0.01, 'loss': 'mean_squared_error'}\n0.536311 (0.005037) with: {'batch_size': 1000, 'epochs': 10, 'layer_sizes': [12, 1], 'learning_rate': 0.01, 'loss': 'logcosh'}\n0.536311 (0.005037) with: {'batch_size': 1000, 'epochs': 10, 'layer_sizes': [12, 1], 'learning_rate': 0.01, 'loss': 'binary_crossentropy'}\n0.536311 (0.005037) with: {'batch_size': 1000, 'epochs': 10, 'layer_sizes': [12, 1], 'learning_rate': 0.01, 'loss': 'mean_squared_logarithmic_error'}\n0.536311 (0.005037) with: {'batch_size': 1000, 'epochs': 10, 'layer_sizes': [12, 1], 'learning_rate': 0.1, 'loss': 'mean_squared_error'}\n0.536311 (0.005037) with: {'batch_size': 1000, 'epochs': 10, 'layer_sizes': [12, 1], 'learning_rate': 0.1, 'loss': 'logcosh'}\n0.536311 (0.005037) with: {'batch_size': 1000, 'epochs': 10, 'layer_sizes': [12, 1], 'learning_rate': 0.1, 'loss': 'binary_crossentropy'}\n0.536311 (0.005037) with: {'batch_size': 1000, 'epochs': 10, 'layer_sizes': [12, 1], 'learning_rate': 0.1, 'loss': 'mean_squared_logarithmic_error'}\n0.536311 (0.005037) with: {'batch_size': 1000, 'epochs': 30, 'layer_sizes': [12, 1], 'learning_rate': 0.0005, 'loss': 'mean_squared_error'}\n0.536311 (0.005037) with: {'batch_size': 1000, 'epochs': 30, 'layer_sizes': [12, 1], 'learning_rate': 0.0005, 'loss': 'logcosh'}\n0.536311 (0.005037) with: {'batch_size': 1000, 'epochs': 30, 'layer_sizes': [12, 1], 'learning_rate': 0.0005, 'loss': 'binary_crossentropy'}\n0.536311 (0.005037) with: {'batch_size': 1000, 'epochs': 30, 'layer_sizes': [12, 1], 'learning_rate': 0.0005, 'loss': 'mean_squared_logarithmic_error'}\n0.536311 (0.005037) with: {'batch_size': 1000, 'epochs': 30, 'layer_sizes': [12, 1], 'learning_rate': 0.001, 'loss': 'mean_squared_error'}\n0.536311 (0.005037) with: {'batch_size': 1000, 'epochs': 30, 'layer_sizes': [12, 1], 'learning_rate': 0.001, 'loss': 'logcosh'}\n0.536311 (0.005037) with: {'batch_size': 1000, 'epochs': 30, 'layer_sizes': [12, 1], 'learning_rate': 0.001, 'loss': 'binary_crossentropy'}\n0.536311 (0.005037) with: {'batch_size': 1000, 'epochs': 30, 'layer_sizes': [12, 1], 'learning_rate': 0.001, 'loss': 'mean_squared_logarithmic_error'}\n0.536311 (0.005037) with: {'batch_size': 1000, 'epochs': 30, 'layer_sizes': [12, 1], 'learning_rate': 0.05, 'loss': 'mean_squared_error'}\n0.536311 (0.005037) with: {'batch_size': 1000, 'epochs': 30, 'layer_sizes': [12, 1], 'learning_rate': 0.05, 'loss': 'logcosh'}\n0.536311 (0.005037) with: {'batch_size': 1000, 'epochs': 30, 'layer_sizes': [12, 1], 'learning_rate': 0.05, 'loss': 'binary_crossentropy'}\n0.536311 (0.005037) with: {'batch_size': 1000, 'epochs': 30, 'layer_sizes': [12, 1], 'learning_rate': 0.05, 'loss': 'mean_squared_logarithmic_error'}\n0.536311 (0.005037) with: {'batch_size': 1000, 'epochs': 30, 'layer_sizes': [12, 1], 'learning_rate': 0.01, 'loss': 'mean_squared_error'}\n0.536311 (0.005037) with: {'batch_size': 1000, 'epochs': 30, 'layer_sizes': [12, 1], 'learning_rate': 0.01, 'loss': 'logcosh'}\n0.536311 (0.005037) with: {'batch_size': 1000, 'epochs': 30, 'layer_sizes': [12, 1], 'learning_rate': 0.01, 'loss': 'binary_crossentropy'}\n0.536311 (0.005037) with: {'batch_size': 1000, 'epochs': 30, 'layer_sizes': [12, 1], 'learning_rate': 0.01, 'loss': 'mean_squared_logarithmic_error'}\n0.536311 (0.005037) with: {'batch_size': 1000, 'epochs': 30, 'layer_sizes': [12, 1], 'learning_rate': 0.1, 'loss': 'mean_squared_error'}\n0.536311 (0.005037) with: {'batch_size': 1000, 'epochs': 30, 'layer_sizes': [12, 1], 'learning_rate': 0.1, 'loss': 'logcosh'}\n0.536311 (0.005037) with: {'batch_size': 1000, 'epochs': 30, 'layer_sizes': [12, 1], 'learning_rate': 0.1, 'loss': 'binary_crossentropy'}\n0.536311 (0.005037) with: {'batch_size': 1000, 'epochs': 30, 'layer_sizes': [12, 1], 'learning_rate': 0.1, 'loss': 'mean_squared_logarithmic_error'}\n0.536311 (0.005037) with: {'batch_size': 1000, 'epochs': 60, 'layer_sizes': [12, 1], 'learning_rate': 0.0005, 'loss': 'mean_squared_error'}\n0.536311 (0.005037) with: {'batch_size': 1000, 'epochs': 60, 'layer_sizes': [12, 1], 'learning_rate': 0.0005, 'loss': 'logcosh'}\n0.536311 (0.005037) with: {'batch_size': 1000, 'epochs': 60, 'layer_sizes': [12, 1], 'learning_rate': 0.0005, 'loss': 'binary_crossentropy'}\n0.536311 (0.005037) with: {'batch_size': 1000, 'epochs': 60, 'layer_sizes': [12, 1], 'learning_rate': 0.0005, 'loss': 'mean_squared_logarithmic_error'}\n0.536311 (0.005037) with: {'batch_size': 1000, 'epochs': 60, 'layer_sizes': [12, 1], 'learning_rate': 0.001, 'loss': 'mean_squared_error'}\n0.536311 (0.005037) with: {'batch_size': 1000, 'epochs': 60, 'layer_sizes': [12, 1], 'learning_rate': 0.001, 'loss': 'logcosh'}\n0.536311 (0.005037) with: {'batch_size': 1000, 'epochs': 60, 'layer_sizes': [12, 1], 'learning_rate': 0.001, 'loss': 'binary_crossentropy'}\n0.536311 (0.005037) with: {'batch_size': 1000, 'epochs': 60, 'layer_sizes': [12, 1], 'learning_rate': 0.001, 'loss': 'mean_squared_logarithmic_error'}\n0.536311 (0.005037) with: {'batch_size': 1000, 'epochs': 60, 'layer_sizes': [12, 1], 'learning_rate': 0.05, 'loss': 'mean_squared_error'}\n0.536311 (0.005037) with: {'batch_size': 1000, 'epochs': 60, 'layer_sizes': [12, 1], 'learning_rate': 0.05, 'loss': 'logcosh'}\n0.536311 (0.005037) with: {'batch_size': 1000, 'epochs': 60, 'layer_sizes': [12, 1], 'learning_rate': 0.05, 'loss': 'binary_crossentropy'}\n0.536311 (0.005037) with: {'batch_size': 1000, 'epochs': 60, 'layer_sizes': [12, 1], 'learning_rate': 0.05, 'loss': 'mean_squared_logarithmic_error'}\n0.536311 (0.005037) with: {'batch_size': 1000, 'epochs': 60, 'layer_sizes': [12, 1], 'learning_rate': 0.01, 'loss': 'mean_squared_error'}\n0.536311 (0.005037) with: {'batch_size': 1000, 'epochs': 60, 'layer_sizes': [12, 1], 'learning_rate': 0.01, 'loss': 'logcosh'}\n0.536311 (0.005037) with: {'batch_size': 1000, 'epochs': 60, 'layer_sizes': [12, 1], 'learning_rate': 0.01, 'loss': 'binary_crossentropy'}\n0.536311 (0.005037) with: {'batch_size': 1000, 'epochs': 60, 'layer_sizes': [12, 1], 'learning_rate': 0.01, 'loss': 'mean_squared_logarithmic_error'}\n0.536311 (0.005037) with: {'batch_size': 1000, 'epochs': 60, 'layer_sizes': [12, 1], 'learning_rate': 0.1, 'loss': 'mean_squared_error'}\n0.536311 (0.005037) with: {'batch_size': 1000, 'epochs': 60, 'layer_sizes': [12, 1], 'learning_rate': 0.1, 'loss': 'logcosh'}\n0.536311 (0.005037) with: {'batch_size': 1000, 'epochs': 60, 'layer_sizes': [12, 1], 'learning_rate': 0.1, 'loss': 'binary_crossentropy'}\n0.536311 (0.005037) with: {'batch_size': 1000, 'epochs': 60, 'layer_sizes': [12, 1], 'learning_rate': 0.1, 'loss': 'mean_squared_logarithmic_error'}\n0.536311 (0.005037) with: {'batch_size': 1000, 'epochs': 100, 'layer_sizes': [12, 1], 'learning_rate': 0.0005, 'loss': 'mean_squared_error'}\n0.536311 (0.005037) with: {'batch_size': 1000, 'epochs': 100, 'layer_sizes': [12, 1], 'learning_rate': 0.0005, 'loss': 'logcosh'}\n0.536311 (0.005037) with: {'batch_size': 1000, 'epochs': 100, 'layer_sizes': [12, 1], 'learning_rate': 0.0005, 'loss': 'binary_crossentropy'}\n0.536311 (0.005037) with: {'batch_size': 1000, 'epochs': 100, 'layer_sizes': [12, 1], 'learning_rate': 0.0005, 'loss': 'mean_squared_logarithmic_error'}\n0.536311 (0.005037) with: {'batch_size': 1000, 'epochs': 100, 'layer_sizes': [12, 1], 'learning_rate': 0.001, 'loss': 'mean_squared_error'}\n0.536311 (0.005037) with: {'batch_size': 1000, 'epochs': 100, 'layer_sizes': [12, 1], 'learning_rate': 0.001, 'loss': 'logcosh'}\n0.536311 (0.005037) with: {'batch_size': 1000, 'epochs': 100, 'layer_sizes': [12, 1], 'learning_rate': 0.001, 'loss': 'binary_crossentropy'}\n0.536311 (0.005037) with: {'batch_size': 1000, 'epochs': 100, 'layer_sizes': [12, 1], 'learning_rate': 0.001, 'loss': 'mean_squared_logarithmic_error'}\n0.536311 (0.005037) with: {'batch_size': 1000, 'epochs': 100, 'layer_sizes': [12, 1], 'learning_rate': 0.05, 'loss': 'mean_squared_error'}\n0.536311 (0.005037) with: {'batch_size': 1000, 'epochs': 100, 'layer_sizes': [12, 1], 'learning_rate': 0.05, 'loss': 'logcosh'}\n0.536311 (0.005037) with: {'batch_size': 1000, 'epochs': 100, 'layer_sizes': [12, 1], 'learning_rate': 0.05, 'loss': 'binary_crossentropy'}\n0.536311 (0.005037) with: {'batch_size': 1000, 'epochs': 100, 'layer_sizes': [12, 1], 'learning_rate': 0.05, 'loss': 'mean_squared_logarithmic_error'}\n0.536311 (0.005037) with: {'batch_size': 1000, 'epochs': 100, 'layer_sizes': [12, 1], 'learning_rate': 0.01, 'loss': 'mean_squared_error'}\n0.536311 (0.005037) with: {'batch_size': 1000, 'epochs': 100, 'layer_sizes': [12, 1], 'learning_rate': 0.01, 'loss': 'logcosh'}\n0.536311 (0.005037) with: {'batch_size': 1000, 'epochs': 100, 'layer_sizes': [12, 1], 'learning_rate': 0.01, 'loss': 'binary_crossentropy'}\n0.536311 (0.005037) with: {'batch_size': 1000, 'epochs': 100, 'layer_sizes': [12, 1], 'learning_rate': 0.01, 'loss': 'mean_squared_logarithmic_error'}\n0.536311 (0.005037) with: {'batch_size': 1000, 'epochs': 100, 'layer_sizes': [12, 1], 'learning_rate': 0.1, 'loss': 'mean_squared_error'}\n0.536311 (0.005037) with: {'batch_size': 1000, 'epochs': 100, 'layer_sizes': [12, 1], 'learning_rate': 0.1, 'loss': 'logcosh'}\n0.536311 (0.005037) with: {'batch_size': 1000, 'epochs': 100, 'layer_sizes': [12, 1], 'learning_rate': 0.1, 'loss': 'binary_crossentropy'}\n0.536311 (0.005037) with: {'batch_size': 1000, 'epochs': 100, 'layer_sizes': [12, 1], 'learning_rate': 0.1, 'loss': 'mean_squared_logarithmic_error'}\n"
     ]
    },
    {
     "name": "stderr",
     "output_type": "stream",
     "text": [
      "C:\\Users\\matan\\Anaconda3\\lib\\site-packages\\sklearn\\base.py:115: DeprecationWarning: Estimator KerasClassifier modifies parameters in __init__. This behavior is deprecated as of 0.18 and support for this behavior will be removed in 0.20.\n  % type(estimator).__name__, DeprecationWarning)\n"
     ]
    },
    {
     "name": "stderr",
     "output_type": "stream",
     "text": [
      "C:\\Users\\matan\\Anaconda3\\lib\\site-packages\\sklearn\\base.py:115: DeprecationWarning: Estimator KerasClassifier modifies parameters in __init__. This behavior is deprecated as of 0.18 and support for this behavior will be removed in 0.20.\n  % type(estimator).__name__, DeprecationWarning)\n"
     ]
    },
    {
     "name": "stderr",
     "output_type": "stream",
     "text": [
      "C:\\Users\\matan\\Anaconda3\\lib\\site-packages\\sklearn\\base.py:115: DeprecationWarning: Estimator KerasClassifier modifies parameters in __init__. This behavior is deprecated as of 0.18 and support for this behavior will be removed in 0.20.\n  % type(estimator).__name__, DeprecationWarning)\n"
     ]
    },
    {
     "name": "stderr",
     "output_type": "stream",
     "text": [
      "C:\\Users\\matan\\Anaconda3\\lib\\site-packages\\sklearn\\base.py:115: DeprecationWarning: Estimator KerasClassifier modifies parameters in __init__. This behavior is deprecated as of 0.18 and support for this behavior will be removed in 0.20.\n  % type(estimator).__name__, DeprecationWarning)\n"
     ]
    },
    {
     "name": "stderr",
     "output_type": "stream",
     "text": [
      "C:\\Users\\matan\\Anaconda3\\lib\\site-packages\\sklearn\\base.py:115: DeprecationWarning: Estimator KerasClassifier modifies parameters in __init__. This behavior is deprecated as of 0.18 and support for this behavior will be removed in 0.20.\n  % type(estimator).__name__, DeprecationWarning)\n"
     ]
    },
    {
     "name": "stderr",
     "output_type": "stream",
     "text": [
      "C:\\Users\\matan\\Anaconda3\\lib\\site-packages\\sklearn\\base.py:115: DeprecationWarning: Estimator KerasClassifier modifies parameters in __init__. This behavior is deprecated as of 0.18 and support for this behavior will be removed in 0.20.\n  % type(estimator).__name__, DeprecationWarning)\n"
     ]
    },
    {
     "name": "stderr",
     "output_type": "stream",
     "text": [
      "C:\\Users\\matan\\Anaconda3\\lib\\site-packages\\sklearn\\base.py:115: DeprecationWarning: Estimator KerasClassifier modifies parameters in __init__. This behavior is deprecated as of 0.18 and support for this behavior will be removed in 0.20.\n  % type(estimator).__name__, DeprecationWarning)\n"
     ]
    },
    {
     "name": "stderr",
     "output_type": "stream",
     "text": [
      "C:\\Users\\matan\\Anaconda3\\lib\\site-packages\\sklearn\\base.py:115: DeprecationWarning: Estimator KerasClassifier modifies parameters in __init__. This behavior is deprecated as of 0.18 and support for this behavior will be removed in 0.20.\n  % type(estimator).__name__, DeprecationWarning)\n"
     ]
    },
    {
     "name": "stderr",
     "output_type": "stream",
     "text": [
      "C:\\Users\\matan\\Anaconda3\\lib\\site-packages\\sklearn\\base.py:115: DeprecationWarning: Estimator KerasClassifier modifies parameters in __init__. This behavior is deprecated as of 0.18 and support for this behavior will be removed in 0.20.\n  % type(estimator).__name__, DeprecationWarning)\n"
     ]
    },
    {
     "name": "stderr",
     "output_type": "stream",
     "text": [
      "C:\\Users\\matan\\Anaconda3\\lib\\site-packages\\sklearn\\base.py:115: DeprecationWarning: Estimator KerasClassifier modifies parameters in __init__. This behavior is deprecated as of 0.18 and support for this behavior will be removed in 0.20.\n  % type(estimator).__name__, DeprecationWarning)\n"
     ]
    },
    {
     "name": "stderr",
     "output_type": "stream",
     "text": [
      "C:\\Users\\matan\\Anaconda3\\lib\\site-packages\\sklearn\\base.py:115: DeprecationWarning: Estimator KerasClassifier modifies parameters in __init__. This behavior is deprecated as of 0.18 and support for this behavior will be removed in 0.20.\n  % type(estimator).__name__, DeprecationWarning)\n"
     ]
    },
    {
     "name": "stderr",
     "output_type": "stream",
     "text": [
      "C:\\Users\\matan\\Anaconda3\\lib\\site-packages\\sklearn\\base.py:115: DeprecationWarning: Estimator KerasClassifier modifies parameters in __init__. This behavior is deprecated as of 0.18 and support for this behavior will be removed in 0.20.\n  % type(estimator).__name__, DeprecationWarning)\n"
     ]
    },
    {
     "name": "stderr",
     "output_type": "stream",
     "text": [
      "C:\\Users\\matan\\Anaconda3\\lib\\site-packages\\sklearn\\base.py:115: DeprecationWarning: Estimator KerasClassifier modifies parameters in __init__. This behavior is deprecated as of 0.18 and support for this behavior will be removed in 0.20.\n  % type(estimator).__name__, DeprecationWarning)\n"
     ]
    },
    {
     "name": "stderr",
     "output_type": "stream",
     "text": [
      "C:\\Users\\matan\\Anaconda3\\lib\\site-packages\\sklearn\\base.py:115: DeprecationWarning: Estimator KerasClassifier modifies parameters in __init__. This behavior is deprecated as of 0.18 and support for this behavior will be removed in 0.20.\n  % type(estimator).__name__, DeprecationWarning)\n"
     ]
    },
    {
     "name": "stderr",
     "output_type": "stream",
     "text": [
      "C:\\Users\\matan\\Anaconda3\\lib\\site-packages\\sklearn\\base.py:115: DeprecationWarning: Estimator KerasClassifier modifies parameters in __init__. This behavior is deprecated as of 0.18 and support for this behavior will be removed in 0.20.\n  % type(estimator).__name__, DeprecationWarning)\n"
     ]
    },
    {
     "name": "stderr",
     "output_type": "stream",
     "text": [
      "C:\\Users\\matan\\Anaconda3\\lib\\site-packages\\sklearn\\base.py:115: DeprecationWarning: Estimator KerasClassifier modifies parameters in __init__. This behavior is deprecated as of 0.18 and support for this behavior will be removed in 0.20.\n  % type(estimator).__name__, DeprecationWarning)\n"
     ]
    },
    {
     "name": "stderr",
     "output_type": "stream",
     "text": [
      "C:\\Users\\matan\\Anaconda3\\lib\\site-packages\\sklearn\\base.py:115: DeprecationWarning: Estimator KerasClassifier modifies parameters in __init__. This behavior is deprecated as of 0.18 and support for this behavior will be removed in 0.20.\n  % type(estimator).__name__, DeprecationWarning)\n"
     ]
    },
    {
     "name": "stderr",
     "output_type": "stream",
     "text": [
      "C:\\Users\\matan\\Anaconda3\\lib\\site-packages\\sklearn\\base.py:115: DeprecationWarning: Estimator KerasClassifier modifies parameters in __init__. This behavior is deprecated as of 0.18 and support for this behavior will be removed in 0.20.\n  % type(estimator).__name__, DeprecationWarning)\n"
     ]
    },
    {
     "name": "stderr",
     "output_type": "stream",
     "text": [
      "C:\\Users\\matan\\Anaconda3\\lib\\site-packages\\sklearn\\base.py:115: DeprecationWarning: Estimator KerasClassifier modifies parameters in __init__. This behavior is deprecated as of 0.18 and support for this behavior will be removed in 0.20.\n  % type(estimator).__name__, DeprecationWarning)\n"
     ]
    },
    {
     "name": "stderr",
     "output_type": "stream",
     "text": [
      "C:\\Users\\matan\\Anaconda3\\lib\\site-packages\\sklearn\\base.py:115: DeprecationWarning: Estimator KerasClassifier modifies parameters in __init__. This behavior is deprecated as of 0.18 and support for this behavior will be removed in 0.20.\n  % type(estimator).__name__, DeprecationWarning)\n"
     ]
    },
    {
     "name": "stderr",
     "output_type": "stream",
     "text": [
      "C:\\Users\\matan\\Anaconda3\\lib\\site-packages\\sklearn\\base.py:115: DeprecationWarning: Estimator KerasClassifier modifies parameters in __init__. This behavior is deprecated as of 0.18 and support for this behavior will be removed in 0.20.\n  % type(estimator).__name__, DeprecationWarning)\n"
     ]
    },
    {
     "name": "stderr",
     "output_type": "stream",
     "text": [
      "C:\\Users\\matan\\Anaconda3\\lib\\site-packages\\sklearn\\base.py:115: DeprecationWarning: Estimator KerasClassifier modifies parameters in __init__. This behavior is deprecated as of 0.18 and support for this behavior will be removed in 0.20.\n  % type(estimator).__name__, DeprecationWarning)\n"
     ]
    },
    {
     "name": "stderr",
     "output_type": "stream",
     "text": [
      "C:\\Users\\matan\\Anaconda3\\lib\\site-packages\\sklearn\\base.py:115: DeprecationWarning: Estimator KerasClassifier modifies parameters in __init__. This behavior is deprecated as of 0.18 and support for this behavior will be removed in 0.20.\n  % type(estimator).__name__, DeprecationWarning)\n"
     ]
    },
    {
     "name": "stderr",
     "output_type": "stream",
     "text": [
      "C:\\Users\\matan\\Anaconda3\\lib\\site-packages\\sklearn\\base.py:115: DeprecationWarning: Estimator KerasClassifier modifies parameters in __init__. This behavior is deprecated as of 0.18 and support for this behavior will be removed in 0.20.\n  % type(estimator).__name__, DeprecationWarning)\n"
     ]
    },
    {
     "name": "stderr",
     "output_type": "stream",
     "text": [
      "C:\\Users\\matan\\Anaconda3\\lib\\site-packages\\sklearn\\base.py:115: DeprecationWarning: Estimator KerasClassifier modifies parameters in __init__. This behavior is deprecated as of 0.18 and support for this behavior will be removed in 0.20.\n  % type(estimator).__name__, DeprecationWarning)\n"
     ]
    },
    {
     "name": "stderr",
     "output_type": "stream",
     "text": [
      "C:\\Users\\matan\\Anaconda3\\lib\\site-packages\\sklearn\\base.py:115: DeprecationWarning: Estimator KerasClassifier modifies parameters in __init__. This behavior is deprecated as of 0.18 and support for this behavior will be removed in 0.20.\n  % type(estimator).__name__, DeprecationWarning)\n"
     ]
    },
    {
     "name": "stderr",
     "output_type": "stream",
     "text": [
      "C:\\Users\\matan\\Anaconda3\\lib\\site-packages\\sklearn\\base.py:115: DeprecationWarning: Estimator KerasClassifier modifies parameters in __init__. This behavior is deprecated as of 0.18 and support for this behavior will be removed in 0.20.\n  % type(estimator).__name__, DeprecationWarning)\n"
     ]
    },
    {
     "name": "stderr",
     "output_type": "stream",
     "text": [
      "C:\\Users\\matan\\Anaconda3\\lib\\site-packages\\sklearn\\base.py:115: DeprecationWarning: Estimator KerasClassifier modifies parameters in __init__. This behavior is deprecated as of 0.18 and support for this behavior will be removed in 0.20.\n  % type(estimator).__name__, DeprecationWarning)\n"
     ]
    },
    {
     "name": "stderr",
     "output_type": "stream",
     "text": [
      "C:\\Users\\matan\\Anaconda3\\lib\\site-packages\\sklearn\\base.py:115: DeprecationWarning: Estimator KerasClassifier modifies parameters in __init__. This behavior is deprecated as of 0.18 and support for this behavior will be removed in 0.20.\n  % type(estimator).__name__, DeprecationWarning)\n"
     ]
    },
    {
     "name": "stderr",
     "output_type": "stream",
     "text": [
      "C:\\Users\\matan\\Anaconda3\\lib\\site-packages\\sklearn\\base.py:115: DeprecationWarning: Estimator KerasClassifier modifies parameters in __init__. This behavior is deprecated as of 0.18 and support for this behavior will be removed in 0.20.\n  % type(estimator).__name__, DeprecationWarning)\n"
     ]
    },
    {
     "name": "stderr",
     "output_type": "stream",
     "text": [
      "C:\\Users\\matan\\Anaconda3\\lib\\site-packages\\sklearn\\base.py:115: DeprecationWarning: Estimator KerasClassifier modifies parameters in __init__. This behavior is deprecated as of 0.18 and support for this behavior will be removed in 0.20.\n  % type(estimator).__name__, DeprecationWarning)\n"
     ]
    },
    {
     "name": "stderr",
     "output_type": "stream",
     "text": [
      "C:\\Users\\matan\\Anaconda3\\lib\\site-packages\\sklearn\\base.py:115: DeprecationWarning: Estimator KerasClassifier modifies parameters in __init__. This behavior is deprecated as of 0.18 and support for this behavior will be removed in 0.20.\n  % type(estimator).__name__, DeprecationWarning)\n"
     ]
    },
    {
     "name": "stderr",
     "output_type": "stream",
     "text": [
      "C:\\Users\\matan\\Anaconda3\\lib\\site-packages\\sklearn\\base.py:115: DeprecationWarning: Estimator KerasClassifier modifies parameters in __init__. This behavior is deprecated as of 0.18 and support for this behavior will be removed in 0.20.\n  % type(estimator).__name__, DeprecationWarning)\n"
     ]
    },
    {
     "name": "stderr",
     "output_type": "stream",
     "text": [
      "C:\\Users\\matan\\Anaconda3\\lib\\site-packages\\sklearn\\base.py:115: DeprecationWarning: Estimator KerasClassifier modifies parameters in __init__. This behavior is deprecated as of 0.18 and support for this behavior will be removed in 0.20.\n  % type(estimator).__name__, DeprecationWarning)\n"
     ]
    },
    {
     "name": "stderr",
     "output_type": "stream",
     "text": [
      "C:\\Users\\matan\\Anaconda3\\lib\\site-packages\\sklearn\\base.py:115: DeprecationWarning: Estimator KerasClassifier modifies parameters in __init__. This behavior is deprecated as of 0.18 and support for this behavior will be removed in 0.20.\n  % type(estimator).__name__, DeprecationWarning)\n"
     ]
    },
    {
     "name": "stderr",
     "output_type": "stream",
     "text": [
      "C:\\Users\\matan\\Anaconda3\\lib\\site-packages\\sklearn\\base.py:115: DeprecationWarning: Estimator KerasClassifier modifies parameters in __init__. This behavior is deprecated as of 0.18 and support for this behavior will be removed in 0.20.\n  % type(estimator).__name__, DeprecationWarning)\n"
     ]
    },
    {
     "name": "stderr",
     "output_type": "stream",
     "text": [
      "C:\\Users\\matan\\Anaconda3\\lib\\site-packages\\sklearn\\base.py:115: DeprecationWarning: Estimator KerasClassifier modifies parameters in __init__. This behavior is deprecated as of 0.18 and support for this behavior will be removed in 0.20.\n  % type(estimator).__name__, DeprecationWarning)\n"
     ]
    },
    {
     "name": "stderr",
     "output_type": "stream",
     "text": [
      "C:\\Users\\matan\\Anaconda3\\lib\\site-packages\\sklearn\\base.py:115: DeprecationWarning: Estimator KerasClassifier modifies parameters in __init__. This behavior is deprecated as of 0.18 and support for this behavior will be removed in 0.20.\n  % type(estimator).__name__, DeprecationWarning)\n"
     ]
    },
    {
     "name": "stderr",
     "output_type": "stream",
     "text": [
      "C:\\Users\\matan\\Anaconda3\\lib\\site-packages\\sklearn\\base.py:115: DeprecationWarning: Estimator KerasClassifier modifies parameters in __init__. This behavior is deprecated as of 0.18 and support for this behavior will be removed in 0.20.\n  % type(estimator).__name__, DeprecationWarning)\n"
     ]
    },
    {
     "name": "stderr",
     "output_type": "stream",
     "text": [
      "C:\\Users\\matan\\Anaconda3\\lib\\site-packages\\sklearn\\base.py:115: DeprecationWarning: Estimator KerasClassifier modifies parameters in __init__. This behavior is deprecated as of 0.18 and support for this behavior will be removed in 0.20.\n  % type(estimator).__name__, DeprecationWarning)\n"
     ]
    },
    {
     "name": "stderr",
     "output_type": "stream",
     "text": [
      "C:\\Users\\matan\\Anaconda3\\lib\\site-packages\\sklearn\\base.py:115: DeprecationWarning: Estimator KerasClassifier modifies parameters in __init__. This behavior is deprecated as of 0.18 and support for this behavior will be removed in 0.20.\n  % type(estimator).__name__, DeprecationWarning)\n"
     ]
    },
    {
     "name": "stderr",
     "output_type": "stream",
     "text": [
      "C:\\Users\\matan\\Anaconda3\\lib\\site-packages\\sklearn\\base.py:115: DeprecationWarning: Estimator KerasClassifier modifies parameters in __init__. This behavior is deprecated as of 0.18 and support for this behavior will be removed in 0.20.\n  % type(estimator).__name__, DeprecationWarning)\n"
     ]
    },
    {
     "name": "stderr",
     "output_type": "stream",
     "text": [
      "C:\\Users\\matan\\Anaconda3\\lib\\site-packages\\sklearn\\base.py:115: DeprecationWarning: Estimator KerasClassifier modifies parameters in __init__. This behavior is deprecated as of 0.18 and support for this behavior will be removed in 0.20.\n  % type(estimator).__name__, DeprecationWarning)\n"
     ]
    },
    {
     "name": "stderr",
     "output_type": "stream",
     "text": [
      "C:\\Users\\matan\\Anaconda3\\lib\\site-packages\\sklearn\\base.py:115: DeprecationWarning: Estimator KerasClassifier modifies parameters in __init__. This behavior is deprecated as of 0.18 and support for this behavior will be removed in 0.20.\n  % type(estimator).__name__, DeprecationWarning)\n"
     ]
    },
    {
     "name": "stderr",
     "output_type": "stream",
     "text": [
      "C:\\Users\\matan\\Anaconda3\\lib\\site-packages\\sklearn\\base.py:115: DeprecationWarning: Estimator KerasClassifier modifies parameters in __init__. This behavior is deprecated as of 0.18 and support for this behavior will be removed in 0.20.\n  % type(estimator).__name__, DeprecationWarning)\n"
     ]
    },
    {
     "name": "stderr",
     "output_type": "stream",
     "text": [
      "C:\\Users\\matan\\Anaconda3\\lib\\site-packages\\sklearn\\base.py:115: DeprecationWarning: Estimator KerasClassifier modifies parameters in __init__. This behavior is deprecated as of 0.18 and support for this behavior will be removed in 0.20.\n  % type(estimator).__name__, DeprecationWarning)\n"
     ]
    },
    {
     "name": "stderr",
     "output_type": "stream",
     "text": [
      "C:\\Users\\matan\\Anaconda3\\lib\\site-packages\\sklearn\\base.py:115: DeprecationWarning: Estimator KerasClassifier modifies parameters in __init__. This behavior is deprecated as of 0.18 and support for this behavior will be removed in 0.20.\n  % type(estimator).__name__, DeprecationWarning)\n"
     ]
    },
    {
     "name": "stderr",
     "output_type": "stream",
     "text": [
      "C:\\Users\\matan\\Anaconda3\\lib\\site-packages\\sklearn\\base.py:115: DeprecationWarning: Estimator KerasClassifier modifies parameters in __init__. This behavior is deprecated as of 0.18 and support for this behavior will be removed in 0.20.\n  % type(estimator).__name__, DeprecationWarning)\n"
     ]
    },
    {
     "name": "stderr",
     "output_type": "stream",
     "text": [
      "C:\\Users\\matan\\Anaconda3\\lib\\site-packages\\sklearn\\base.py:115: DeprecationWarning: Estimator KerasClassifier modifies parameters in __init__. This behavior is deprecated as of 0.18 and support for this behavior will be removed in 0.20.\n  % type(estimator).__name__, DeprecationWarning)\n"
     ]
    },
    {
     "name": "stderr",
     "output_type": "stream",
     "text": [
      "C:\\Users\\matan\\Anaconda3\\lib\\site-packages\\sklearn\\base.py:115: DeprecationWarning: Estimator KerasClassifier modifies parameters in __init__. This behavior is deprecated as of 0.18 and support for this behavior will be removed in 0.20.\n  % type(estimator).__name__, DeprecationWarning)\n"
     ]
    },
    {
     "name": "stdout",
     "output_type": "stream",
     "text": [
      "[[   0 3882]\n [   0 4418]]\n             precision    recall  f1-score   support\n\n         -1       0.00      0.00      0.00      3882\n          1       0.53      1.00      0.69      4418\n\navg / total       0.28      0.53      0.37      8300\n\n"
     ]
    },
    {
     "name": "stderr",
     "output_type": "stream",
     "text": [
      "C:\\Users\\matan\\Anaconda3\\lib\\site-packages\\sklearn\\metrics\\classification.py:1135: UndefinedMetricWarning: Precision and F-score are ill-defined and being set to 0.0 in labels with no predicted samples.\n  'precision', 'predicted', average, warn_for)\n"
     ]
    }
   ],
   "source": [
    "best_params = {'batch_size': 10, 'epochs': 1, 'layer_sizes': [12, 1], 'learning_rate': 0.0005,\n",
    "               'loss': 'mean_squared_error'}\n",
    "\n",
    "keras_nn_clf = NN_Keras(model_name='keras_nn_wip1', dataset_name='spam_twitter', best_params=best_params)\n",
    "keras_nn_clf.train(X_train, y_train)\n",
    "y_pred = keras_nn_clf.predict(X_test)\n",
    "keras_nn_clf.evaluate_model(y_test=y_test, y_pred=y_pred)\n"
   ]
  },
  {
   "cell_type": "code",
   "execution_count": 15,
   "metadata": {},
   "outputs": [
    {
     "name": "stdout",
     "output_type": "stream",
     "text": [
      "{'batch_size': 10, 'epochs': 1, 'layer_sizes': [12, 1], 'learning_rate': 0.0005, 'loss': 'mean_squared_error'}\n"
     ]
    }
   ],
   "source": [
    "keras_nn_best_params = keras_nn_clf.get_best_params()\n",
    "print(keras_nn_best_params)"
   ]
  },
  {
   "cell_type": "code",
   "execution_count": 8,
   "metadata": {
    "collapsed": true
   },
   "outputs": [
    {
     "name": "stdout",
     "output_type": "stream",
     "text": [
      "Best: 0.896443 using {'optimizer': 'Adam'}\n0.509805 (0.035324) with: {'optimizer': 'SGD'}\n0.778487 (0.168809) with: {'optimizer': 'RMSprop'}\n0.896292 (0.005016) with: {'optimizer': 'Adagrad'}\n0.781861 (0.171186) with: {'optimizer': 'Adadelta'}\n0.896443 (0.001033) with: {'optimizer': 'Adam'}\n0.780054 (0.169650) with: {'optimizer': 'Adamax'}\n0.779481 (0.169423) with: {'optimizer': 'Nadam'}\n"
     ]
    },
    {
     "name": "stdout",
     "output_type": "stream",
     "text": [
      "[[   0 3882]\n [   0 4418]]\n             precision    recall  f1-score   support\n\n          0       0.00      0.00      0.00      3882\n          1       0.53      1.00      0.69      4418\n\navg / total       0.28      0.53      0.37      8300\n\n"
     ]
    },
    {
     "name": "stderr",
     "output_type": "stream",
     "text": [
      "C:\\Users\\matan\\Anaconda3\\lib\\site-packages\\sklearn\\metrics\\classification.py:1135: UndefinedMetricWarning: Precision and F-score are ill-defined and being set to 0.0 in labels with no predicted samples.\n  'precision', 'predicted', average, warn_for)\n"
     ]
    }
   ],
   "source": [
    "# keras_nn_clf = NN_Keras(model_name='keras_nn_optimizer_wip0', dataset_name='spam_twitter')\n",
    "# keras_nn_clf.train(X_train, y_train, optimizer_tuning=True)\n",
    "# y_pred = keras_nn_clf.predict(X_test)\n",
    "# keras_nn_clf.evaluate_model(y_test=y_test, y_pred=y_pred)\n"
   ]
  },
  {
   "cell_type": "code",
   "execution_count": 11,
   "metadata": {},
   "outputs": [],
   "source": [
    "# from sklearn.svm import SVC\n",
    "# \n",
    "# linear_svm_clf = SVC(kernel='linear') #optimize kernel, regularization, gamma\n",
    "# linear_svm_clf.fit(X_train, y_train)\n",
    "# y_pred = linear_svm_clf.predict(X_test)"
   ]
  },
  {
   "cell_type": "code",
   "execution_count": 16,
   "metadata": {},
   "outputs": [],
   "source": [
    "\n",
    "svm_clf = SVM(model_name='svm_wip0', dataset_name='spam_twitter')\n",
    "svm_clf.train(X_train, y_train)\n",
    "y_pred = svm_clf.predict(X_test)\n",
    "svm_clf.evaluate_model(y_test=y_test, y_pred=y_pred)\n"
   ]
  },
  {
   "cell_type": "code",
   "execution_count": null,
   "metadata": {},
   "outputs": [],
   "source": [
    "svm_best_params = svm_clf.get_best_params()\n",
    "print(svm_best_params)"
   ]
  },
  {
   "cell_type": "code",
   "execution_count": null,
   "metadata": {},
   "outputs": [],
   "source": [
    "X_train, X_test, y_train, y_test, X_train_nn, X_validation_nn, y_train_nn, y_validation_nn = de.get_train_test_validation(\n",
    "    speed_dating_df, 'speed_dating')\n",
    "\n"
   ]
  }
 ],
 "metadata": {
  "kernelspec": {
   "display_name": "Python 2",
   "language": "python",
   "name": "python2"
  },
  "language_info": {
   "codemirror_mode": {
    "name": "ipython",
    "version": 2
   },
   "file_extension": ".py",
   "mimetype": "text/x-python",
   "name": "python",
   "nbconvert_exporter": "python",
   "pygments_lexer": "ipython2",
   "version": "2.7.6"
  }
 },
 "nbformat": 4,
 "nbformat_minor": 0
}
