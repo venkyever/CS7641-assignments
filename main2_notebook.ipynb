{
 "cells": [
  {
   "cell_type": "code",
   "execution_count": 2,
   "metadata": {},
   "outputs": [
    {
     "name": "stderr",
     "output_type": "stream",
     "text": [
      "C:\\Users\\matan\\Anaconda3\\lib\\site-packages\\h5py\\__init__.py:36: FutureWarning: Conversion of the second argument of issubdtype from `float` to `np.floating` is deprecated. In future, it will be treated as `np.float64 == np.dtype(float).type`.\n",
      "  from ._conv import register_converters as _register_converters\n",
      "C:\\Users\\matan\\Anaconda3\\lib\\site-packages\\sklearn\\ensemble\\weight_boosting.py:29: DeprecationWarning: numpy.core.umath_tests is an internal NumPy module and should not be imported. It will be removed in a future NumPy release.\n",
      "  from numpy.core.umath_tests import inner1d\n",
      "Using TensorFlow backend.\n"
     ]
    }
   ],
   "source": [
    "import numpy as np\n",
    "import random\n",
    "\n",
    "import matplotlib.pyplot as plt\n",
    "import numpy as np\n",
    "import pandas as pd\n",
    "from sklearn.model_selection import train_test_split\n",
    "from sklearn.utils import shuffle\n",
    "\n",
    "np.random.seed(42)\n",
    "random.seed(42)\n",
    "\n",
    "from DataExploration import DataExploration\n",
    "from DecisionTree import DecisionTree\n",
    "from NeuralNetwork import DNN\n",
    "from Boosting import Boosting\n",
    "from KNN import KNN\n",
    "from NeuralNetworkKeras import NN_Keras\n",
    "from SVM import SVM"
   ]
  },
  {
   "cell_type": "code",
   "execution_count": 3,
   "metadata": {},
   "outputs": [
    {
     "name": "stdout",
     "output_type": "stream",
     "text": [
      "(22223, 10)\n",
      "(19276, 10)\n",
      "(41499, 10)\n",
      "(8378, 44)\n"
     ]
    },
    {
     "name": "stderr",
     "output_type": "stream",
     "text": [
      "C:\\Users\\matan\\Anaconda3\\lib\\site-packages\\pandas\\core\\ops.py:1649: FutureWarning: elementwise comparison failed; returning scalar instead, but in the future will perform elementwise comparison\n",
      "  result = method(y)\n"
     ]
    },
    {
     "name": "stdout",
     "output_type": "stream",
     "text": [
      "removing empty values shape:\n",
      "(6794, 44)\n"
     ]
    }
   ],
   "source": [
    "\n",
    "#need to shuffle to respect iid principal for when we split the data\n",
    "de = DataExploration()\n",
    "\n",
    "twitter_df = de.prepare_twitter_df()\n",
    "speed_dating_df = de.prepare_speed_dating_df()\n",
    "encoded_speed_dating_df = de.get_hot_encoded_speed_dating(speed_dating_df)"
   ]
  },
  {
   "cell_type": "code",
   "execution_count": 32,
   "metadata": {},
   "outputs": [
    {
     "name": "stdout",
     "output_type": "stream",
     "text": [
      "          gender   age  age_o  race  race_o  importance_same_race  \\\n",
      "decision                                                            \n",
      "0           3863  3863   3863  3863    3863                  3863   \n",
      "1           2931  2931   2931  2931    2931                  2931   \n",
      "\n",
      "          importance_same_religion  field  attractive_important  \\\n",
      "decision                                                          \n",
      "0                             3863   3863                  3863   \n",
      "1                             2931   2931                  2931   \n",
      "\n",
      "          sincere_important  ...  clubbing  reading    tv  theater  movies  \\\n",
      "decision                     ...                                             \n",
      "0                      3863  ...      3863     3863  3863     3863    3863   \n",
      "1                      2931  ...      2931     2931  2931     2931    2931   \n",
      "\n",
      "          concerts  music  shopping  yoga  interests_correlate  \n",
      "decision                                                        \n",
      "0             3863   3863      3863  3863                 3863  \n",
      "1             2931   2931      2931  2931                 2931  \n",
      "\n",
      "[2 rows x 43 columns]\n"
     ]
    }
   ],
   "source": [
    "print(speed_dating_df.groupby('decision').agg('count'))"
   ]
  },
  {
   "cell_type": "code",
   "execution_count": 24,
   "metadata": {},
   "outputs": [
    {
     "name": "stdout",
     "output_type": "stream",
     "text": [
      "   gender age age_o                                     race  \\\n",
      "0  female  21    27  'Asian/Pacific Islander/Asian-American'   \n",
      "1  female  21    22  'Asian/Pacific Islander/Asian-American'   \n",
      "2  female  21    22  'Asian/Pacific Islander/Asian-American'   \n",
      "3  female  21    23  'Asian/Pacific Islander/Asian-American'   \n",
      "4  female  21    24  'Asian/Pacific Islander/Asian-American'   \n",
      "\n",
      "                                    race_o importance_same_race  \\\n",
      "0              European/Caucasian-American                    2   \n",
      "1              European/Caucasian-American                    2   \n",
      "2  'Asian/Pacific Islander/Asian-American'                    2   \n",
      "3              European/Caucasian-American                    2   \n",
      "4               'Latino/Hispanic American'                    2   \n",
      "\n",
      "  importance_same_religion field attractive_important sincere_important  ...  \\\n",
      "0                        4   Law                   15                20  ...   \n",
      "1                        4   Law                   15                20  ...   \n",
      "2                        4   Law                   15                20  ...   \n",
      "3                        4   Law                   15                20  ...   \n",
      "4                        4   Law                   15                20  ...   \n",
      "\n",
      "  reading tv theater movies concerts music shopping yoga interests_correlate  \\\n",
      "0       6  9       1     10       10     9        8    1                0.14   \n",
      "1       6  9       1     10       10     9        8    1                0.54   \n",
      "2       6  9       1     10       10     9        8    1                0.16   \n",
      "3       6  9       1     10       10     9        8    1                0.61   \n",
      "4       6  9       1     10       10     9        8    1                0.21   \n",
      "\n",
      "  decision  \n",
      "0        1  \n",
      "1        1  \n",
      "2        1  \n",
      "3        1  \n",
      "4        1  \n",
      "\n",
      "[5 rows x 44 columns]\n",
      "         decision\n",
      "count  6794.00000\n",
      "mean      0.43141\n",
      "std       0.49531\n",
      "min       0.00000\n",
      "25%       0.00000\n",
      "50%       0.00000\n",
      "75%       1.00000\n",
      "max       1.00000\n"
     ]
    }
   ],
   "source": [
    "#print(encoded_speed_dating_df.head())\n",
    "#print(twitter_df.describe())\n",
    "print(speed_dating_df.head())\n",
    "print(speed_dating_df.describe())"
   ]
  },
  {
   "cell_type": "code",
   "execution_count": null,
   "metadata": {},
   "outputs": [],
   "source": [
    "X_train, X_test, y_train, y_test, X_train_nn, X_validation_nn, y_train_nn, y_validation_nn = de.get_train_test_validation(\n",
    "    encoded_speed_dating_df, 'speed_dating')\n"
   ]
  },
  {
   "cell_type": "code",
   "execution_count": 7,
   "metadata": {},
   "outputs": [
    {
     "name": "stdout",
     "output_type": "stream",
     "text": [
      "False\n",
      "True\n",
      "(4382, 299)\n"
     ]
    }
   ],
   "source": [
    "print(np.any(np.isnan(X_train)))\n",
    "print(np.all(np.isfinite(X_train)))\n",
    "print(X_train.shape)"
   ]
  },
  {
   "cell_type": "code",
   "execution_count": 9,
   "metadata": {},
   "outputs": [],
   "source": [
    "# # data processing and investigation\n",
    "# TODO for speed dating\n",
    "# data_twitter = twitter_df.drop('created_at', axis=1).drop('collected_at', axis=1).drop(\n",
    "#                 'series_of_num_following', axis=1)\n",
    "# data_twitter['label'] = np.where(data_twitter['is_spam'] == 1, 'spam', 'not_spam')\n",
    "# data_twitter = data_twitter.drop('is_spam', axis=1)\n",
    "# pos_twitter = data_twitter.loc[data_twitter['label'] == 'spam'].drop('label', axis=1)\n",
    "# neg_twitter = data_twitter.loc[data_twitter['label'] == 'not_spam'].drop('label', axis=1)\n",
    "# \n",
    "# create_scatterplot_matrix(data_twitter, \"label\", 'twitter_df')\n",
    "# plot_violin_distributions(data_twitter, title='Violin Plots of Twitter Features', dataset_name='twitter_df', label_column='label')\n",
    "# compare_counts_boxplots(positive_pd=pos_twitter, negative_pd=neg_twitter, title='Boxplots of Twitter Features', positive_label='spam', dataset_name='twitter_df')\n"
   ]
  },
  {
   "cell_type": "code",
   "execution_count": 27,
   "metadata": {},
   "outputs": [],
   "source": [
    "def plot_distributions(pd_df, title, dataset_name, cols_to_get_distr=None):\n",
    "    if cols_to_get_distr == None:\n",
    "        cols_to_get_distr = pd_df.columns.values\n",
    "    with plt.style.context('seaborn'):\n",
    "        fig, axes = plt.subplots(nrows=2, ncols=2, figsize=(20, 22))\n",
    "        axes = axes.flatten()\n",
    "\n",
    "        for col, ax in zip(cols_to_get_distr, axes):\n",
    "            n = ax.hist(pd_df[col], histtype='bar')\n",
    "            \n",
    "            #print(pd_df.groupby(col).agg('count'))\n",
    "            #print(np.unique(pd_df[col]))\n",
    "            ax.set_title(col + ' Histogram')\n",
    "            ax.set(xlabel=str(col + ' Distribution'), ylabel='count of {0}'.format(col))\n",
    "\n",
    "        plt.suptitle(title + ' Distributions', fontsize=16, verticalalignment='baseline')\n",
    "        \n",
    "        # plt.subplots_adjust(left=0.5)\n",
    "        plt.savefig(f\"./figs/data/{dataset_name}_histogram_matrix.png\")\n",
    "        plt.show()\n"
   ]
  },
  {
   "cell_type": "code",
   "execution_count": 28,
   "metadata": {
    "collapsed": true
   },
   "outputs": [
    {
     "name": "stdout",
     "output_type": "stream",
     "text": [
      "   gender age age_o                                     race  \\\n",
      "0  female  21    27  'Asian/Pacific Islander/Asian-American'   \n",
      "1  female  21    22  'Asian/Pacific Islander/Asian-American'   \n",
      "2  female  21    22  'Asian/Pacific Islander/Asian-American'   \n",
      "\n",
      "                                    race_o importance_same_race  \\\n",
      "0              European/Caucasian-American                    2   \n",
      "1              European/Caucasian-American                    2   \n",
      "2  'Asian/Pacific Islander/Asian-American'                    2   \n",
      "\n",
      "  importance_same_religion field attractive_important sincere_important  ...  \\\n",
      "0                        4   Law                   15                20  ...   \n",
      "1                        4   Law                   15                20  ...   \n",
      "2                        4   Law                   15                20  ...   \n",
      "\n",
      "  reading tv theater movies concerts music shopping yoga interests_correlate  \\\n",
      "0       6  9       1     10       10     9        8    1                0.14   \n",
      "1       6  9       1     10       10     9        8    1                0.54   \n",
      "2       6  9       1     10       10     9        8    1                0.16   \n",
      "\n",
      "  decision  \n",
      "0        1  \n",
      "1        1  \n",
      "2        1  \n",
      "\n",
      "[3 rows x 44 columns]\n",
      "(6794, 44)\n"
     ]
    },
    {
     "ename": "KeyboardInterrupt",
     "evalue": "",
     "traceback": [
      "\u001b[1;31m---------------------------------------------------------------------------\u001b[0m",
      "\u001b[1;31mKeyboardInterrupt\u001b[0m                         Traceback (most recent call last)",
      "\u001b[1;32m<ipython-input-28-bc69328cd455>\u001b[0m in \u001b[0;36m<module>\u001b[1;34m()\u001b[0m\n\u001b[0;32m     23\u001b[0m \u001b[0mdata_speed_dating\u001b[0m \u001b[1;33m=\u001b[0m \u001b[0mspeed_dating_df\u001b[0m\u001b[1;33m[\u001b[0m\u001b[0mcols_embedded\u001b[0m\u001b[1;33m]\u001b[0m\u001b[1;33m\u001b[0m\u001b[0m\n\u001b[0;32m     24\u001b[0m \u001b[1;31m# todo add xlabels\u001b[0m\u001b[1;33m\u001b[0m\u001b[1;33m\u001b[0m\u001b[0m\n\u001b[1;32m---> 25\u001b[1;33m \u001b[0mplot_distributions\u001b[0m\u001b[1;33m(\u001b[0m\u001b[0mdata_speed_dating\u001b[0m\u001b[1;33m,\u001b[0m \u001b[1;34m'Distributions of Speed Dating Categorical Features'\u001b[0m\u001b[1;33m,\u001b[0m \u001b[1;34m'speed_dating'\u001b[0m\u001b[1;33m)\u001b[0m\u001b[1;33m\u001b[0m\u001b[0m\n\u001b[0m\u001b[0;32m     26\u001b[0m \u001b[0mdata_speed_dating\u001b[0m \u001b[1;33m=\u001b[0m \u001b[0mspeed_dating_df\u001b[0m\u001b[1;33m[\u001b[0m\u001b[0mcols_ints\u001b[0m\u001b[1;33m]\u001b[0m\u001b[1;33m\u001b[0m\u001b[0m\n\u001b[0;32m     27\u001b[0m \u001b[1;33m\u001b[0m\u001b[0m\n",
      "\u001b[1;32m<ipython-input-27-827cff619d3c>\u001b[0m in \u001b[0;36mplot_distributions\u001b[1;34m(pd_df, title, dataset_name, cols_to_get_distr)\u001b[0m\n\u001b[0;32m      7\u001b[0m \u001b[1;33m\u001b[0m\u001b[0m\n\u001b[0;32m      8\u001b[0m         \u001b[1;32mfor\u001b[0m \u001b[0mcol\u001b[0m\u001b[1;33m,\u001b[0m \u001b[0max\u001b[0m \u001b[1;32min\u001b[0m \u001b[0mzip\u001b[0m\u001b[1;33m(\u001b[0m\u001b[0mcols_to_get_distr\u001b[0m\u001b[1;33m,\u001b[0m \u001b[0maxes\u001b[0m\u001b[1;33m)\u001b[0m\u001b[1;33m:\u001b[0m\u001b[1;33m\u001b[0m\u001b[0m\n\u001b[1;32m----> 9\u001b[1;33m             \u001b[0mn\u001b[0m \u001b[1;33m=\u001b[0m \u001b[0max\u001b[0m\u001b[1;33m.\u001b[0m\u001b[0mhist\u001b[0m\u001b[1;33m(\u001b[0m\u001b[0mpd_df\u001b[0m\u001b[1;33m[\u001b[0m\u001b[0mcol\u001b[0m\u001b[1;33m]\u001b[0m\u001b[1;33m,\u001b[0m \u001b[0mhisttype\u001b[0m\u001b[1;33m=\u001b[0m\u001b[1;34m'bar'\u001b[0m\u001b[1;33m)\u001b[0m\u001b[1;33m\u001b[0m\u001b[0m\n\u001b[0m\u001b[0;32m     10\u001b[0m \u001b[1;33m\u001b[0m\u001b[0m\n\u001b[0;32m     11\u001b[0m             \u001b[1;31m#print(pd_df.groupby(col).agg('count'))\u001b[0m\u001b[1;33m\u001b[0m\u001b[1;33m\u001b[0m\u001b[0m\n",
      "\u001b[1;32m~\\Anaconda3\\lib\\site-packages\\matplotlib\\__init__.py\u001b[0m in \u001b[0;36minner\u001b[1;34m(ax, data, *args, **kwargs)\u001b[0m\n\u001b[0;32m   1803\u001b[0m                         \u001b[1;34m\"the Matplotlib list!)\"\u001b[0m \u001b[1;33m%\u001b[0m \u001b[1;33m(\u001b[0m\u001b[0mlabel_namer\u001b[0m\u001b[1;33m,\u001b[0m \u001b[0mfunc\u001b[0m\u001b[1;33m.\u001b[0m\u001b[0m__name__\u001b[0m\u001b[1;33m)\u001b[0m\u001b[1;33m,\u001b[0m\u001b[1;33m\u001b[0m\u001b[0m\n\u001b[0;32m   1804\u001b[0m                         RuntimeWarning, stacklevel=2)\n\u001b[1;32m-> 1805\u001b[1;33m             \u001b[1;32mreturn\u001b[0m \u001b[0mfunc\u001b[0m\u001b[1;33m(\u001b[0m\u001b[0max\u001b[0m\u001b[1;33m,\u001b[0m \u001b[1;33m*\u001b[0m\u001b[0margs\u001b[0m\u001b[1;33m,\u001b[0m \u001b[1;33m**\u001b[0m\u001b[0mkwargs\u001b[0m\u001b[1;33m)\u001b[0m\u001b[1;33m\u001b[0m\u001b[0m\n\u001b[0m\u001b[0;32m   1806\u001b[0m \u001b[1;33m\u001b[0m\u001b[0m\n\u001b[0;32m   1807\u001b[0m         inner.__doc__ = _add_data_doc(inner.__doc__,\n",
      "\u001b[1;32m~\\Anaconda3\\lib\\site-packages\\matplotlib\\axes\\_axes.py\u001b[0m in \u001b[0;36mhist\u001b[1;34m(self, x, bins, range, density, weights, cumulative, bottom, histtype, align, orientation, rwidth, log, color, label, stacked, normed, **kwargs)\u001b[0m\n\u001b[0;32m   6654\u001b[0m                 patch = _barfunc(bins[:-1]+boffset, height, width,\n\u001b[0;32m   6655\u001b[0m                                  \u001b[0malign\u001b[0m\u001b[1;33m=\u001b[0m\u001b[1;34m'center'\u001b[0m\u001b[1;33m,\u001b[0m \u001b[0mlog\u001b[0m\u001b[1;33m=\u001b[0m\u001b[0mlog\u001b[0m\u001b[1;33m,\u001b[0m\u001b[1;33m\u001b[0m\u001b[0m\n\u001b[1;32m-> 6656\u001b[1;33m                                  color=c, **{bottom_kwarg: bottom})\n\u001b[0m\u001b[0;32m   6657\u001b[0m                 \u001b[0mpatches\u001b[0m\u001b[1;33m.\u001b[0m\u001b[0mappend\u001b[0m\u001b[1;33m(\u001b[0m\u001b[0mpatch\u001b[0m\u001b[1;33m)\u001b[0m\u001b[1;33m\u001b[0m\u001b[0m\n\u001b[0;32m   6658\u001b[0m                 \u001b[1;32mif\u001b[0m \u001b[0mstacked\u001b[0m\u001b[1;33m:\u001b[0m\u001b[1;33m\u001b[0m\u001b[0m\n",
      "\u001b[1;32m~\\Anaconda3\\lib\\site-packages\\matplotlib\\__init__.py\u001b[0m in \u001b[0;36minner\u001b[1;34m(ax, data, *args, **kwargs)\u001b[0m\n\u001b[0;32m   1803\u001b[0m                         \u001b[1;34m\"the Matplotlib list!)\"\u001b[0m \u001b[1;33m%\u001b[0m \u001b[1;33m(\u001b[0m\u001b[0mlabel_namer\u001b[0m\u001b[1;33m,\u001b[0m \u001b[0mfunc\u001b[0m\u001b[1;33m.\u001b[0m\u001b[0m__name__\u001b[0m\u001b[1;33m)\u001b[0m\u001b[1;33m,\u001b[0m\u001b[1;33m\u001b[0m\u001b[0m\n\u001b[0;32m   1804\u001b[0m                         RuntimeWarning, stacklevel=2)\n\u001b[1;32m-> 1805\u001b[1;33m             \u001b[1;32mreturn\u001b[0m \u001b[0mfunc\u001b[0m\u001b[1;33m(\u001b[0m\u001b[0max\u001b[0m\u001b[1;33m,\u001b[0m \u001b[1;33m*\u001b[0m\u001b[0margs\u001b[0m\u001b[1;33m,\u001b[0m \u001b[1;33m**\u001b[0m\u001b[0mkwargs\u001b[0m\u001b[1;33m)\u001b[0m\u001b[1;33m\u001b[0m\u001b[0m\n\u001b[0m\u001b[0;32m   1806\u001b[0m \u001b[1;33m\u001b[0m\u001b[0m\n\u001b[0;32m   1807\u001b[0m         inner.__doc__ = _add_data_doc(inner.__doc__,\n",
      "\u001b[1;32m~\\Anaconda3\\lib\\site-packages\\matplotlib\\axes\\_axes.py\u001b[0m in \u001b[0;36mbar\u001b[1;34m(self, x, height, width, bottom, align, **kwargs)\u001b[0m\n\u001b[0;32m   2331\u001b[0m             \u001b[0mymin\u001b[0m \u001b[1;33m=\u001b[0m \u001b[0mmax\u001b[0m\u001b[1;33m(\u001b[0m\u001b[0mymin\u001b[0m \u001b[1;33m*\u001b[0m \u001b[1;36m0.9\u001b[0m\u001b[1;33m,\u001b[0m \u001b[1;36m1e-100\u001b[0m\u001b[1;33m)\u001b[0m\u001b[1;33m\u001b[0m\u001b[0m\n\u001b[0;32m   2332\u001b[0m             \u001b[0mself\u001b[0m\u001b[1;33m.\u001b[0m\u001b[0mdataLim\u001b[0m\u001b[1;33m.\u001b[0m\u001b[0mintervaly\u001b[0m \u001b[1;33m=\u001b[0m \u001b[1;33m(\u001b[0m\u001b[0mymin\u001b[0m\u001b[1;33m,\u001b[0m \u001b[0mymax\u001b[0m\u001b[1;33m)\u001b[0m\u001b[1;33m\u001b[0m\u001b[0m\n\u001b[1;32m-> 2333\u001b[1;33m         \u001b[0mself\u001b[0m\u001b[1;33m.\u001b[0m\u001b[0mautoscale_view\u001b[0m\u001b[1;33m(\u001b[0m\u001b[1;33m)\u001b[0m\u001b[1;33m\u001b[0m\u001b[0m\n\u001b[0m\u001b[0;32m   2334\u001b[0m \u001b[1;33m\u001b[0m\u001b[0m\n\u001b[0;32m   2335\u001b[0m         \u001b[0mbar_container\u001b[0m \u001b[1;33m=\u001b[0m \u001b[0mBarContainer\u001b[0m\u001b[1;33m(\u001b[0m\u001b[0mpatches\u001b[0m\u001b[1;33m,\u001b[0m \u001b[0merrorbar\u001b[0m\u001b[1;33m,\u001b[0m \u001b[0mlabel\u001b[0m\u001b[1;33m=\u001b[0m\u001b[0mlabel\u001b[0m\u001b[1;33m)\u001b[0m\u001b[1;33m\u001b[0m\u001b[0m\n",
      "\u001b[1;32m~\\Anaconda3\\lib\\site-packages\\matplotlib\\axes\\_base.py\u001b[0m in \u001b[0;36mautoscale_view\u001b[1;34m(self, tight, scalex, scaley)\u001b[0m\n\u001b[0;32m   2409\u001b[0m             \u001b[0mx_stickies\u001b[0m \u001b[1;33m=\u001b[0m \u001b[0msum\u001b[0m\u001b[1;33m(\u001b[0m\u001b[1;33m[\u001b[0m\u001b[0msticky\u001b[0m\u001b[1;33m.\u001b[0m\u001b[0mx\u001b[0m \u001b[1;32mfor\u001b[0m \u001b[0msticky\u001b[0m \u001b[1;32min\u001b[0m \u001b[0mstickies\u001b[0m\u001b[1;33m]\u001b[0m\u001b[1;33m,\u001b[0m \u001b[1;33m[\u001b[0m\u001b[1;33m]\u001b[0m\u001b[1;33m)\u001b[0m\u001b[1;33m\u001b[0m\u001b[0m\n\u001b[0;32m   2410\u001b[0m             \u001b[0my_stickies\u001b[0m \u001b[1;33m=\u001b[0m \u001b[0msum\u001b[0m\u001b[1;33m(\u001b[0m\u001b[1;33m[\u001b[0m\u001b[0msticky\u001b[0m\u001b[1;33m.\u001b[0m\u001b[0my\u001b[0m \u001b[1;32mfor\u001b[0m \u001b[0msticky\u001b[0m \u001b[1;32min\u001b[0m \u001b[0mstickies\u001b[0m\u001b[1;33m]\u001b[0m\u001b[1;33m,\u001b[0m \u001b[1;33m[\u001b[0m\u001b[1;33m]\u001b[0m\u001b[1;33m)\u001b[0m\u001b[1;33m\u001b[0m\u001b[0m\n\u001b[1;32m-> 2411\u001b[1;33m             \u001b[1;32mif\u001b[0m \u001b[0mself\u001b[0m\u001b[1;33m.\u001b[0m\u001b[0mget_xscale\u001b[0m\u001b[1;33m(\u001b[0m\u001b[1;33m)\u001b[0m\u001b[1;33m.\u001b[0m\u001b[0mlower\u001b[0m\u001b[1;33m(\u001b[0m\u001b[1;33m)\u001b[0m \u001b[1;33m==\u001b[0m \u001b[1;34m'log'\u001b[0m\u001b[1;33m:\u001b[0m\u001b[1;33m\u001b[0m\u001b[0m\n\u001b[0m\u001b[0;32m   2412\u001b[0m                 \u001b[0mx_stickies\u001b[0m \u001b[1;33m=\u001b[0m \u001b[1;33m[\u001b[0m\u001b[0mxs\u001b[0m \u001b[1;32mfor\u001b[0m \u001b[0mxs\u001b[0m \u001b[1;32min\u001b[0m \u001b[0mx_stickies\u001b[0m \u001b[1;32mif\u001b[0m \u001b[0mxs\u001b[0m \u001b[1;33m>\u001b[0m \u001b[1;36m0\u001b[0m\u001b[1;33m]\u001b[0m\u001b[1;33m\u001b[0m\u001b[0m\n\u001b[0;32m   2413\u001b[0m             \u001b[1;32mif\u001b[0m \u001b[0mself\u001b[0m\u001b[1;33m.\u001b[0m\u001b[0mget_yscale\u001b[0m\u001b[1;33m(\u001b[0m\u001b[1;33m)\u001b[0m\u001b[1;33m.\u001b[0m\u001b[0mlower\u001b[0m\u001b[1;33m(\u001b[0m\u001b[1;33m)\u001b[0m \u001b[1;33m==\u001b[0m \u001b[1;34m'log'\u001b[0m\u001b[1;33m:\u001b[0m\u001b[1;33m\u001b[0m\u001b[0m\n",
      "\u001b[1;31mKeyboardInterrupt\u001b[0m: "
     ],
     "output_type": "error"
    }
   ],
   "source": [
    "# # data processing and investigation\n",
    "from utils import create_scatterplot_matrix\n",
    "print(speed_dating_df.head(3))\n",
    "cols_of_interest = ['gender', 'age', 'age_o', 'race', 'race_o', 'importance_same_race',\n",
    "                    'importance_same_religion', 'field', 'attractive_important', 'sincere_important',\n",
    "                    'intellicence_important', 'funny_important', 'ambtition_important',\n",
    "                    'shared_interests_important', 'attractive', 'sincere', 'intelligence', 'funny', 'ambition',\n",
    "                    'attractive_partner', 'sincere_partner', 'intelligence_partner', 'funny_partner',\n",
    "                    'ambition_partner', 'shared_interests_partner', 'sports', 'tvsports', 'exercise', 'dining',\n",
    "                    'museums', 'art', 'hiking', 'gaming', 'clubbing', 'reading', 'tv', 'theater', 'movies',\n",
    "                    'concerts', 'music', 'shopping', 'yoga', 'interests_correlate', 'decision']\n",
    "\n",
    "cols_embedded = ['gender', 'race', 'race_o', 'field']\n",
    "cols_ints = ['importance_same_race', 'importance_same_religion', 'field', 'attractive_important', 'sincere_important',\n",
    "             'intellicence_important', 'funny_important', 'ambtition_important',\n",
    "             'shared_interests_important', 'attractive', 'sincere', 'intelligence', 'funny', 'ambition',\n",
    "             'attractive_partner', 'sincere_partner', 'intelligence_partner', 'funny_partner',\n",
    "             'ambition_partner', 'shared_interests_partner', 'sports', 'tvsports', 'exercise', 'dining',\n",
    "             'museums', 'art', 'hiking', 'gaming', 'clubbing', 'reading', 'tv', 'theater', 'movies',\n",
    "             'concerts', 'music', 'shopping', 'yoga', 'interests_correlate', 'decision']\n",
    "\n",
    "print(speed_dating_df.shape)\n",
    "data_speed_dating = speed_dating_df[cols_embedded]\n",
    "# todo add xlabels\n",
    "plot_distributions(data_speed_dating, 'Distributions of Speed Dating Categorical Features', 'speed_dating')\n",
    "data_speed_dating = speed_dating_df[cols_ints]\n",
    "\n",
    "data_speed_dating['label'] = np.where(data_speed_dating['decision'] == 1, 'positive_date', 'negative_date')\n",
    "data_speed_dating = data_speed_dating.drop('decision', axis=1)\n",
    "# pos_twitter = data_twitter.loc[data_twitter['label'] == 'positive_date'].drop('label', axis=1)\n",
    "# neg_twitter = data_twitter.loc[data_twitter['label'] == 'negative_date'].drop('label', axis=1)\n",
    "# \n",
    "#create_scatterplot_matrix(data_speed_dating, \"label\", 'speed_dating')\n",
    "# plot_violin_distributions(data_twitter, title='Violin Plots of Twitter Features', dataset_name='twitter_df', label_column='label')\n",
    "# compare_counts_boxplots(positive_pd=pos_twitter, negative_pd=neg_twitter, title='Boxplots of Twitter Features', positive_label='spam', dataset_name='twitter_df')\n"
   ]
  },
  {
   "cell_type": "code",
   "execution_count": 29,
   "metadata": {},
   "outputs": [
    {
     "ename": "NameError",
     "evalue": "name 'X_test' is not defined",
     "traceback": [
      "\u001b[1;31m---------------------------------------------------------------------------\u001b[0m",
      "\u001b[1;31mNameError\u001b[0m                                 Traceback (most recent call last)",
      "\u001b[1;32m<ipython-input-29-e5dfeac5324d>\u001b[0m in \u001b[0;36m<module>\u001b[1;34m()\u001b[0m\n\u001b[0;32m      1\u001b[0m \u001b[1;31m#best_params = {'dt__alpha': -0.01, 'dt__max_depth': 9, 'dt__min_samples_leaf': 7} #twitter\u001b[0m\u001b[1;33m\u001b[0m\u001b[1;33m\u001b[0m\u001b[0m\n\u001b[0;32m      2\u001b[0m \u001b[0mbest_params\u001b[0m \u001b[1;33m=\u001b[0m \u001b[1;33m{\u001b[0m\u001b[1;34m'dt__alpha'\u001b[0m\u001b[1;33m:\u001b[0m \u001b[1;33m-\u001b[0m\u001b[1;36m0.1\u001b[0m\u001b[1;33m,\u001b[0m \u001b[1;34m'dt__max_depth'\u001b[0m\u001b[1;33m:\u001b[0m \u001b[1;36m9\u001b[0m\u001b[1;33m,\u001b[0m \u001b[1;34m'dt__min_samples_leaf'\u001b[0m\u001b[1;33m:\u001b[0m \u001b[1;36m2\u001b[0m\u001b[1;33m}\u001b[0m \u001b[1;31m#speed_dating  (CV score=0.724):\u001b[0m\u001b[1;33m\u001b[0m\u001b[0m\n\u001b[1;32m----> 3\u001b[1;33m \u001b[0mdt_clf\u001b[0m \u001b[1;33m=\u001b[0m \u001b[0mDecisionTree\u001b[0m\u001b[1;33m(\u001b[0m\u001b[0mmodel_name\u001b[0m\u001b[1;33m=\u001b[0m\u001b[1;34m'dt_wip1'\u001b[0m\u001b[1;33m,\u001b[0m \u001b[0mdataset_name\u001b[0m\u001b[1;33m=\u001b[0m\u001b[1;34m'speed_dating'\u001b[0m\u001b[1;33m,\u001b[0m \u001b[0mX_test\u001b[0m\u001b[1;33m=\u001b[0m\u001b[0mX_test\u001b[0m\u001b[1;33m,\u001b[0m \u001b[0my_test\u001b[0m\u001b[1;33m=\u001b[0m\u001b[0my_test\u001b[0m\u001b[1;33m,\u001b[0m \u001b[0mbest_params\u001b[0m\u001b[1;33m=\u001b[0m\u001b[0mbest_params\u001b[0m\u001b[1;33m)\u001b[0m\u001b[1;33m\u001b[0m\u001b[0m\n\u001b[0m\u001b[0;32m      4\u001b[0m \u001b[0mdt_clf\u001b[0m\u001b[1;33m.\u001b[0m\u001b[0mtrain\u001b[0m\u001b[1;33m(\u001b[0m\u001b[0mX_train\u001b[0m\u001b[1;33m,\u001b[0m \u001b[0my_train\u001b[0m\u001b[1;33m)\u001b[0m\u001b[1;33m\u001b[0m\u001b[0m\n\u001b[0;32m      5\u001b[0m \u001b[0my_pred\u001b[0m \u001b[1;33m=\u001b[0m \u001b[0mdt_clf\u001b[0m\u001b[1;33m.\u001b[0m\u001b[0mpredict\u001b[0m\u001b[1;33m(\u001b[0m\u001b[0mX_test\u001b[0m\u001b[1;33m)\u001b[0m\u001b[1;33m\u001b[0m\u001b[0m\n",
      "\u001b[1;31mNameError\u001b[0m: name 'X_test' is not defined"
     ],
     "output_type": "error"
    }
   ],
   "source": [
    "#best_params = {'dt__alpha': -0.01, 'dt__max_depth': 9, 'dt__min_samples_leaf': 7} #twitter\n",
    "best_params = {'dt__alpha': -0.1, 'dt__max_depth': 9, 'dt__min_samples_leaf': 2} #speed_dating  (CV score=0.724):\n",
    "dt_clf = DecisionTree(model_name='dt_wip1', dataset_name='speed_dating', X_test=X_test, y_test=y_test, best_params=best_params)\n",
    "dt_clf.train(X_train, y_train)\n",
    "y_pred = dt_clf.predict(X_test)\n",
    "dt_clf.evaluate_model(y_test=y_test, y_pred=y_pred)\n",
    "\n",
    "#dt_clfr.get_model().best_estimator_.named_steps['dt'].tree_.max_depth\n"
   ]
  },
  {
   "cell_type": "code",
   "execution_count": 11,
   "metadata": {},
   "outputs": [
    {
     "name": "stdout",
     "output_type": "stream",
     "text": [
      "{'dt__alpha': -0.1, 'dt__max_depth': 9, 'dt__min_samples_leaf': 2}\n"
     ]
    }
   ],
   "source": [
    "dt_best_params = dt_clf.get_best_params()\n",
    "print(dt_best_params)\n",
    "#print(dt_clf.feature_importance_)"
   ]
  },
  {
   "cell_type": "code",
   "execution_count": 12,
   "metadata": {},
   "outputs": [],
   "source": [
    "# dnn = DNN(n_classes=2, model_name='dnn_wip_3', dataset_name='spam_twitter')\n",
    "# dnn.train(\n",
    "#     learning_rate=0.05,\n",
    "#     steps=1000,\n",
    "#     batch_size=30,\n",
    "#     hidden_units=[100, 100],\n",
    "#     training_examples=X_train_nn,\n",
    "#     training_targets=y_train_nn,\n",
    "#     validation_examples=X_validation_nn,\n",
    "#     validation_targets=y_validation_nn)\n",
    "# \n",
    "# y_pred = dnn.predict(X_test, y_test)"
   ]
  },
  {
   "cell_type": "code",
   "execution_count": 12,
   "metadata": {},
   "outputs": [
    {
     "name": "stdout",
     "output_type": "stream",
     "text": [
      "Best parameter (CV score=0.772):\n",
      "{'boost__base_estimator__max_depth': 12, 'boost__n_estimators': 40}\n",
      "[[509 125]\n",
      " [151 311]]\n",
      "             precision    recall  f1-score   support\n",
      "\n",
      "        0.0       0.77      0.80      0.79       634\n",
      "        1.0       0.71      0.67      0.69       462\n",
      "\n",
      "avg / total       0.75      0.75      0.75      1096\n",
      "\n"
     ]
    }
   ],
   "source": [
    "#best_params = {'boost__base_estimator__max_depth': 12, 'boost__n_estimators': 80}\n",
    "#best_params = {'boost__base_estimator__max_depth': 12, 'boost__n_estimators': 40} (CV score=0.772):\n",
    "# todo this is lower than pre pruning, figure out why\n",
    "boosting_clf = Boosting(model_name='boosting_wip0', dataset_name='speed_dating', X_test=X_test, y_test=y_test)\n",
    "boosting_clf.train(X_train, y_train)\n",
    "y_pred = boosting_clf.predict(X_test)\n",
    "boosting_clf.evaluate_model(y_test=y_test, y_pred=y_pred)\n"
   ]
  },
  {
   "cell_type": "code",
   "execution_count": 14,
   "metadata": {},
   "outputs": [
    {
     "name": "stdout",
     "output_type": "stream",
     "text": [
      "{'boost__base_estimator__max_depth': 12, 'boost__n_estimators': 40}\n"
     ]
    }
   ],
   "source": [
    "boosting_best_params = boosting_clf.get_best_params()\n",
    "print(boosting_best_params)"
   ]
  },
  {
   "cell_type": "code",
   "execution_count": 15,
   "metadata": {},
   "outputs": [
    {
     "name": "stdout",
     "output_type": "stream",
     "text": [
      "Best parameter (CV score=0.728):\n",
      "{'knn__metric': 'manhattan', 'knn__n_neighbors': 49, 'knn__weights': 'distance'}\n",
      "[[527 107]\n",
      " [171 291]]\n",
      "             precision    recall  f1-score   support\n",
      "\n",
      "        0.0       0.76      0.83      0.79       634\n",
      "        1.0       0.73      0.63      0.68       462\n",
      "\n",
      "avg / total       0.74      0.75      0.74      1096\n",
      "\n"
     ]
    }
   ],
   "source": [
    "#best_params = {'knn__metric': 'manhattan', 'knn__n_neighbors': 10, 'knn__weights': 'distance'}\n",
    "knn_clf = KNN(model_name='knn_wip0', dataset_name='speed_dating')\n",
    "knn_clf.train(X_train, y_train)\n",
    "y_pred = knn_clf.predict(X_test)\n",
    "knn_clf.evaluate_model(y_test=y_test, y_pred=y_pred)\n",
    "#{'knn__metric': 'manhattan', 'knn__n_neighbors': 49, 'knn__weights': 'distance'} (CV score=0.728):"
   ]
  },
  {
   "cell_type": "code",
   "execution_count": 17,
   "metadata": {},
   "outputs": [
    {
     "name": "stdout",
     "output_type": "stream",
     "text": [
      "{'knn__metric': 'manhattan', 'knn__n_neighbors': 49, 'knn__weights': 'distance'}\n"
     ]
    }
   ],
   "source": [
    "knn_best_params = knn_clf.get_best_params()\n",
    "print(knn_best_params)"
   ]
  },
  {
   "cell_type": "code",
   "execution_count": null,
   "metadata": {
    "collapsed": true
   },
   "outputs": [],
   "source": [
    "#best_params = {'batch_size': 10, 'epochs': 1, 'layer_sizes': [12, 1], 'learning_rate': 0.0005,\n",
    "#               'loss': 'mean_squared_error'}\n",
    "#best_params = {'dnn__batch_size': 100, 'dnn__epochs': 50, 'dnn__layer_sizes': [180, 50], 'dnn__learning_rate': 0.0005, 'dnn__loss': 'mean_squared_error'} #\n",
    "best_params = {'dnn__batch_size': 50, 'dnn__epochs': 3, 'dnn__layer_sizes': [16, 16], 'dnn__learning_rate': 0.0005, 'dnn__loss': 'mean_squared_error'} #\n",
    "keras_nn_clf = NN_Keras(model_name='keras_nn_wip1', dataset_name='speed_dating', best_params=best_params)\n",
    "keras_nn_clf.train(X_train, y_train)\n",
    "y_pred = keras_nn_clf.predict(X_test)\n",
    "keras_nn_clf.evaluate_model(y_test=y_test, y_pred=y_pred)\n",
    "\n"
   ]
  },
  {
   "cell_type": "code",
   "execution_count": 10,
   "metadata": {},
   "outputs": [
    {
     "name": "stdout",
     "output_type": "stream",
     "text": [
      "{'dnn__batch_size': 10, 'dnn__epochs': 1, 'dnn__layer_sizes': [180, 50], 'dnn__learning_rate': 0.0005, 'dnn__loss': 'mean_squared_error'}\n"
     ]
    }
   ],
   "source": [
    "keras_nn_best_params = keras_nn_clf.get_best_params()\n",
    "print(keras_nn_best_params)"
   ]
  },
  {
   "cell_type": "code",
   "execution_count": 19,
   "metadata": {
    "collapsed": true
   },
   "outputs": [],
   "source": [
    "# keras_nn_clf = NN_Keras(model_name='keras_nn_optimizer_wip0', dataset_name='spam_twitter')\n",
    "# keras_nn_clf.train(X_train, y_train, optimizer_tuning=True)\n",
    "# y_pred = keras_nn_clf.predict(X_test)\n",
    "# keras_nn_clf.evaluate_model(y_test=y_test, y_pred=y_pred)\n"
   ]
  },
  {
   "cell_type": "code",
   "execution_count": 20,
   "metadata": {},
   "outputs": [],
   "source": [
    "# from sklearn.svm import SVC\n",
    "# \n",
    "# linear_svm_clf = SVC(kernel='linear') #optimize kernel, regularization, gamma\n",
    "# linear_svm_clf.fit(X_train, y_train)\n",
    "# y_pred = linear_svm_clf.predict(X_test)"
   ]
  },
  {
   "cell_type": "code",
   "execution_count": 7,
   "metadata": {
    "collapsed": true
   },
   "outputs": [
    {
     "name": "stdout",
     "output_type": "stream",
     "text": [
      "Fitting 5 folds for each of 49 candidates, totalling 245 fits\n",
      "[CV] svm__C=0.00390625, svm__gamma=0.00390625, svm__kernel=rbf .......\n",
      "[CV]  svm__C=0.00390625, svm__gamma=0.00390625, svm__kernel=rbf, total=   5.3s\n",
      "[CV] svm__C=0.00390625, svm__gamma=0.00390625, svm__kernel=rbf .......\n"
     ]
    },
    {
     "name": "stderr",
     "output_type": "stream",
     "text": [
      "[Parallel(n_jobs=1)]: Done   1 out of   1 | elapsed:    9.0s remaining:    0.0s\n"
     ]
    },
    {
     "name": "stdout",
     "output_type": "stream",
     "text": [
      "[CV]  svm__C=0.00390625, svm__gamma=0.00390625, svm__kernel=rbf, total=   5.1s\n",
      "[CV] svm__C=0.00390625, svm__gamma=0.00390625, svm__kernel=rbf .......\n",
      "[CV]  svm__C=0.00390625, svm__gamma=0.00390625, svm__kernel=rbf, total=   5.1s\n",
      "[CV] svm__C=0.00390625, svm__gamma=0.00390625, svm__kernel=rbf .......\n",
      "[CV]  svm__C=0.00390625, svm__gamma=0.00390625, svm__kernel=rbf, total=   5.1s\n",
      "[CV] svm__C=0.00390625, svm__gamma=0.00390625, svm__kernel=rbf .......\n",
      "[CV]  svm__C=0.00390625, svm__gamma=0.00390625, svm__kernel=rbf, total=   5.2s\n",
      "[CV] svm__C=0.00390625, svm__gamma=0.015625, svm__kernel=rbf .........\n",
      "[CV]  svm__C=0.00390625, svm__gamma=0.015625, svm__kernel=rbf, total=   6.4s\n",
      "[CV] svm__C=0.00390625, svm__gamma=0.015625, svm__kernel=rbf .........\n",
      "[CV]  svm__C=0.00390625, svm__gamma=0.015625, svm__kernel=rbf, total=   6.5s\n",
      "[CV] svm__C=0.00390625, svm__gamma=0.015625, svm__kernel=rbf .........\n",
      "[CV]  svm__C=0.00390625, svm__gamma=0.015625, svm__kernel=rbf, total=   6.1s\n",
      "[CV] svm__C=0.00390625, svm__gamma=0.015625, svm__kernel=rbf .........\n",
      "[CV]  svm__C=0.00390625, svm__gamma=0.015625, svm__kernel=rbf, total=   5.2s\n",
      "[CV] svm__C=0.00390625, svm__gamma=0.015625, svm__kernel=rbf .........\n",
      "[CV]  svm__C=0.00390625, svm__gamma=0.015625, svm__kernel=rbf, total=   5.2s\n",
      "[CV] svm__C=0.00390625, svm__gamma=0.0625, svm__kernel=rbf ...........\n",
      "[CV]  svm__C=0.00390625, svm__gamma=0.0625, svm__kernel=rbf, total=   5.5s\n",
      "[CV] svm__C=0.00390625, svm__gamma=0.0625, svm__kernel=rbf ...........\n",
      "[CV]  svm__C=0.00390625, svm__gamma=0.0625, svm__kernel=rbf, total=   5.5s\n",
      "[CV] svm__C=0.00390625, svm__gamma=0.0625, svm__kernel=rbf ...........\n",
      "[CV]  svm__C=0.00390625, svm__gamma=0.0625, svm__kernel=rbf, total=   5.5s\n",
      "[CV] svm__C=0.00390625, svm__gamma=0.0625, svm__kernel=rbf ...........\n",
      "[CV]  svm__C=0.00390625, svm__gamma=0.0625, svm__kernel=rbf, total=   5.5s\n",
      "[CV] svm__C=0.00390625, svm__gamma=0.0625, svm__kernel=rbf ...........\n",
      "[CV]  svm__C=0.00390625, svm__gamma=0.0625, svm__kernel=rbf, total=   5.5s\n",
      "[CV] svm__C=0.00390625, svm__gamma=0.25, svm__kernel=rbf .............\n",
      "[CV]  svm__C=0.00390625, svm__gamma=0.25, svm__kernel=rbf, total=   5.7s\n",
      "[CV] svm__C=0.00390625, svm__gamma=0.25, svm__kernel=rbf .............\n",
      "[CV]  svm__C=0.00390625, svm__gamma=0.25, svm__kernel=rbf, total=   5.7s\n",
      "[CV] svm__C=0.00390625, svm__gamma=0.25, svm__kernel=rbf .............\n",
      "[CV]  svm__C=0.00390625, svm__gamma=0.25, svm__kernel=rbf, total=   5.7s\n",
      "[CV] svm__C=0.00390625, svm__gamma=0.25, svm__kernel=rbf .............\n",
      "[CV]  svm__C=0.00390625, svm__gamma=0.25, svm__kernel=rbf, total=   5.8s\n",
      "[CV] svm__C=0.00390625, svm__gamma=0.25, svm__kernel=rbf .............\n",
      "[CV]  svm__C=0.00390625, svm__gamma=0.25, svm__kernel=rbf, total=   5.7s\n",
      "[CV] svm__C=0.00390625, svm__gamma=1.0, svm__kernel=rbf ..............\n",
      "[CV]  svm__C=0.00390625, svm__gamma=1.0, svm__kernel=rbf, total=   6.2s\n",
      "[CV] svm__C=0.00390625, svm__gamma=1.0, svm__kernel=rbf ..............\n",
      "[CV]  svm__C=0.00390625, svm__gamma=1.0, svm__kernel=rbf, total=   5.7s\n",
      "[CV] svm__C=0.00390625, svm__gamma=1.0, svm__kernel=rbf ..............\n",
      "[CV]  svm__C=0.00390625, svm__gamma=1.0, svm__kernel=rbf, total=   6.0s\n",
      "[CV] svm__C=0.00390625, svm__gamma=1.0, svm__kernel=rbf ..............\n",
      "[CV]  svm__C=0.00390625, svm__gamma=1.0, svm__kernel=rbf, total=   5.9s\n",
      "[CV] svm__C=0.00390625, svm__gamma=1.0, svm__kernel=rbf ..............\n",
      "[CV]  svm__C=0.00390625, svm__gamma=1.0, svm__kernel=rbf, total=   6.0s\n",
      "[CV] svm__C=0.00390625, svm__gamma=4.0, svm__kernel=rbf ..............\n",
      "[CV]  svm__C=0.00390625, svm__gamma=4.0, svm__kernel=rbf, total=   6.3s\n",
      "[CV] svm__C=0.00390625, svm__gamma=4.0, svm__kernel=rbf ..............\n",
      "[CV]  svm__C=0.00390625, svm__gamma=4.0, svm__kernel=rbf, total=   6.3s\n",
      "[CV] svm__C=0.00390625, svm__gamma=4.0, svm__kernel=rbf ..............\n",
      "[CV]  svm__C=0.00390625, svm__gamma=4.0, svm__kernel=rbf, total=   6.4s\n",
      "[CV] svm__C=0.00390625, svm__gamma=4.0, svm__kernel=rbf ..............\n",
      "[CV]  svm__C=0.00390625, svm__gamma=4.0, svm__kernel=rbf, total=   6.4s\n",
      "[CV] svm__C=0.00390625, svm__gamma=4.0, svm__kernel=rbf ..............\n",
      "[CV]  svm__C=0.00390625, svm__gamma=4.0, svm__kernel=rbf, total=   6.4s\n",
      "[CV] svm__C=0.00390625, svm__gamma=16.0, svm__kernel=rbf .............\n",
      "[CV]  svm__C=0.00390625, svm__gamma=16.0, svm__kernel=rbf, total=   6.3s\n",
      "[CV] svm__C=0.00390625, svm__gamma=16.0, svm__kernel=rbf .............\n",
      "[CV]  svm__C=0.00390625, svm__gamma=16.0, svm__kernel=rbf, total=   6.3s\n",
      "[CV] svm__C=0.00390625, svm__gamma=16.0, svm__kernel=rbf .............\n",
      "[CV]  svm__C=0.00390625, svm__gamma=16.0, svm__kernel=rbf, total=   6.2s\n",
      "[CV] svm__C=0.00390625, svm__gamma=16.0, svm__kernel=rbf .............\n",
      "[CV]  svm__C=0.00390625, svm__gamma=16.0, svm__kernel=rbf, total=   6.2s\n",
      "[CV] svm__C=0.00390625, svm__gamma=16.0, svm__kernel=rbf .............\n",
      "[CV]  svm__C=0.00390625, svm__gamma=16.0, svm__kernel=rbf, total=   6.2s\n",
      "[CV] svm__C=0.015625, svm__gamma=0.00390625, svm__kernel=rbf .........\n",
      "[CV]  svm__C=0.015625, svm__gamma=0.00390625, svm__kernel=rbf, total=   4.9s\n",
      "[CV] svm__C=0.015625, svm__gamma=0.00390625, svm__kernel=rbf .........\n",
      "[CV]  svm__C=0.015625, svm__gamma=0.00390625, svm__kernel=rbf, total=   5.0s\n",
      "[CV] svm__C=0.015625, svm__gamma=0.00390625, svm__kernel=rbf .........\n",
      "[CV]  svm__C=0.015625, svm__gamma=0.00390625, svm__kernel=rbf, total=   5.0s\n",
      "[CV] svm__C=0.015625, svm__gamma=0.00390625, svm__kernel=rbf .........\n",
      "[CV]  svm__C=0.015625, svm__gamma=0.00390625, svm__kernel=rbf, total=   5.0s\n",
      "[CV] svm__C=0.015625, svm__gamma=0.00390625, svm__kernel=rbf .........\n",
      "[CV]  svm__C=0.015625, svm__gamma=0.00390625, svm__kernel=rbf, total=   5.2s\n",
      "[CV] svm__C=0.015625, svm__gamma=0.015625, svm__kernel=rbf ...........\n",
      "[CV]  svm__C=0.015625, svm__gamma=0.015625, svm__kernel=rbf, total=   5.2s\n",
      "[CV] svm__C=0.015625, svm__gamma=0.015625, svm__kernel=rbf ...........\n",
      "[CV]  svm__C=0.015625, svm__gamma=0.015625, svm__kernel=rbf, total=   5.3s\n",
      "[CV] svm__C=0.015625, svm__gamma=0.015625, svm__kernel=rbf ...........\n",
      "[CV]  svm__C=0.015625, svm__gamma=0.015625, svm__kernel=rbf, total=   5.2s\n",
      "[CV] svm__C=0.015625, svm__gamma=0.015625, svm__kernel=rbf ...........\n",
      "[CV]  svm__C=0.015625, svm__gamma=0.015625, svm__kernel=rbf, total=   5.2s\n",
      "[CV] svm__C=0.015625, svm__gamma=0.015625, svm__kernel=rbf ...........\n",
      "[CV]  svm__C=0.015625, svm__gamma=0.015625, svm__kernel=rbf, total=   5.2s\n",
      "[CV] svm__C=0.015625, svm__gamma=0.0625, svm__kernel=rbf .............\n",
      "[CV]  svm__C=0.015625, svm__gamma=0.0625, svm__kernel=rbf, total=   5.6s\n",
      "[CV] svm__C=0.015625, svm__gamma=0.0625, svm__kernel=rbf .............\n",
      "[CV]  svm__C=0.015625, svm__gamma=0.0625, svm__kernel=rbf, total=   5.6s\n",
      "[CV] svm__C=0.015625, svm__gamma=0.0625, svm__kernel=rbf .............\n",
      "[CV]  svm__C=0.015625, svm__gamma=0.0625, svm__kernel=rbf, total=   5.6s\n",
      "[CV] svm__C=0.015625, svm__gamma=0.0625, svm__kernel=rbf .............\n",
      "[CV]  svm__C=0.015625, svm__gamma=0.0625, svm__kernel=rbf, total=   5.6s\n",
      "[CV] svm__C=0.015625, svm__gamma=0.0625, svm__kernel=rbf .............\n",
      "[CV]  svm__C=0.015625, svm__gamma=0.0625, svm__kernel=rbf, total=   5.5s\n",
      "[CV] svm__C=0.015625, svm__gamma=0.25, svm__kernel=rbf ...............\n",
      "[CV]  svm__C=0.015625, svm__gamma=0.25, svm__kernel=rbf, total=   5.6s\n",
      "[CV] svm__C=0.015625, svm__gamma=0.25, svm__kernel=rbf ...............\n",
      "[CV]  svm__C=0.015625, svm__gamma=0.25, svm__kernel=rbf, total=   5.6s\n",
      "[CV] svm__C=0.015625, svm__gamma=0.25, svm__kernel=rbf ...............\n",
      "[CV]  svm__C=0.015625, svm__gamma=0.25, svm__kernel=rbf, total=   5.5s\n",
      "[CV] svm__C=0.015625, svm__gamma=0.25, svm__kernel=rbf ...............\n",
      "[CV]  svm__C=0.015625, svm__gamma=0.25, svm__kernel=rbf, total=   5.5s\n",
      "[CV] svm__C=0.015625, svm__gamma=0.25, svm__kernel=rbf ...............\n",
      "[CV]  svm__C=0.015625, svm__gamma=0.25, svm__kernel=rbf, total=   5.6s\n",
      "[CV] svm__C=0.015625, svm__gamma=1.0, svm__kernel=rbf ................\n",
      "[CV] . svm__C=0.015625, svm__gamma=1.0, svm__kernel=rbf, total=   5.7s\n",
      "[CV] svm__C=0.015625, svm__gamma=1.0, svm__kernel=rbf ................\n",
      "[CV] . svm__C=0.015625, svm__gamma=1.0, svm__kernel=rbf, total=   6.0s\n",
      "[CV] svm__C=0.015625, svm__gamma=1.0, svm__kernel=rbf ................\n",
      "[CV] . svm__C=0.015625, svm__gamma=1.0, svm__kernel=rbf, total=   6.0s\n",
      "[CV] svm__C=0.015625, svm__gamma=1.0, svm__kernel=rbf ................\n"
     ]
    },
    {
     "name": "stdout",
     "output_type": "stream",
     "text": [
      "[CV] . svm__C=0.015625, svm__gamma=1.0, svm__kernel=rbf, total=   5.9s\n",
      "[CV] svm__C=0.015625, svm__gamma=1.0, svm__kernel=rbf ................\n",
      "[CV] . svm__C=0.015625, svm__gamma=1.0, svm__kernel=rbf, total=   6.0s\n",
      "[CV] svm__C=0.015625, svm__gamma=4.0, svm__kernel=rbf ................\n",
      "[CV] . svm__C=0.015625, svm__gamma=4.0, svm__kernel=rbf, total=   6.4s\n",
      "[CV] svm__C=0.015625, svm__gamma=4.0, svm__kernel=rbf ................\n",
      "[CV] . svm__C=0.015625, svm__gamma=4.0, svm__kernel=rbf, total=   6.3s\n",
      "[CV] svm__C=0.015625, svm__gamma=4.0, svm__kernel=rbf ................\n",
      "[CV] . svm__C=0.015625, svm__gamma=4.0, svm__kernel=rbf, total=   6.4s\n",
      "[CV] svm__C=0.015625, svm__gamma=4.0, svm__kernel=rbf ................\n",
      "[CV] . svm__C=0.015625, svm__gamma=4.0, svm__kernel=rbf, total=   6.9s\n",
      "[CV] svm__C=0.015625, svm__gamma=4.0, svm__kernel=rbf ................\n",
      "[CV] . svm__C=0.015625, svm__gamma=4.0, svm__kernel=rbf, total=   6.2s\n",
      "[CV] svm__C=0.015625, svm__gamma=16.0, svm__kernel=rbf ...............\n",
      "[CV]  svm__C=0.015625, svm__gamma=16.0, svm__kernel=rbf, total=   6.1s\n",
      "[CV] svm__C=0.015625, svm__gamma=16.0, svm__kernel=rbf ...............\n",
      "[CV]  svm__C=0.015625, svm__gamma=16.0, svm__kernel=rbf, total=   6.1s\n",
      "[CV] svm__C=0.015625, svm__gamma=16.0, svm__kernel=rbf ...............\n",
      "[CV]  svm__C=0.015625, svm__gamma=16.0, svm__kernel=rbf, total=   6.4s\n",
      "[CV] svm__C=0.015625, svm__gamma=16.0, svm__kernel=rbf ...............\n",
      "[CV]  svm__C=0.015625, svm__gamma=16.0, svm__kernel=rbf, total=   6.4s\n",
      "[CV] svm__C=0.015625, svm__gamma=16.0, svm__kernel=rbf ...............\n",
      "[CV]  svm__C=0.015625, svm__gamma=16.0, svm__kernel=rbf, total=   6.4s\n",
      "[CV] svm__C=0.0625, svm__gamma=0.00390625, svm__kernel=rbf ...........\n",
      "[CV]  svm__C=0.0625, svm__gamma=0.00390625, svm__kernel=rbf, total=   5.1s\n",
      "[CV] svm__C=0.0625, svm__gamma=0.00390625, svm__kernel=rbf ...........\n",
      "[CV]  svm__C=0.0625, svm__gamma=0.00390625, svm__kernel=rbf, total=   5.1s\n",
      "[CV] svm__C=0.0625, svm__gamma=0.00390625, svm__kernel=rbf ...........\n",
      "[CV]  svm__C=0.0625, svm__gamma=0.00390625, svm__kernel=rbf, total=   5.2s\n",
      "[CV] svm__C=0.0625, svm__gamma=0.00390625, svm__kernel=rbf ...........\n",
      "[CV]  svm__C=0.0625, svm__gamma=0.00390625, svm__kernel=rbf, total=   5.2s\n",
      "[CV] svm__C=0.0625, svm__gamma=0.00390625, svm__kernel=rbf ...........\n",
      "[CV]  svm__C=0.0625, svm__gamma=0.00390625, svm__kernel=rbf, total=   5.2s\n",
      "[CV] svm__C=0.0625, svm__gamma=0.015625, svm__kernel=rbf .............\n",
      "[CV]  svm__C=0.0625, svm__gamma=0.015625, svm__kernel=rbf, total=   5.3s\n",
      "[CV] svm__C=0.0625, svm__gamma=0.015625, svm__kernel=rbf .............\n",
      "[CV]  svm__C=0.0625, svm__gamma=0.015625, svm__kernel=rbf, total=   5.3s\n",
      "[CV] svm__C=0.0625, svm__gamma=0.015625, svm__kernel=rbf .............\n",
      "[CV]  svm__C=0.0625, svm__gamma=0.015625, svm__kernel=rbf, total=   5.3s\n",
      "[CV] svm__C=0.0625, svm__gamma=0.015625, svm__kernel=rbf .............\n",
      "[CV]  svm__C=0.0625, svm__gamma=0.015625, svm__kernel=rbf, total=   5.3s\n",
      "[CV] svm__C=0.0625, svm__gamma=0.015625, svm__kernel=rbf .............\n",
      "[CV]  svm__C=0.0625, svm__gamma=0.015625, svm__kernel=rbf, total=   5.2s\n",
      "[CV] svm__C=0.0625, svm__gamma=0.0625, svm__kernel=rbf ...............\n",
      "[CV]  svm__C=0.0625, svm__gamma=0.0625, svm__kernel=rbf, total=   5.5s\n",
      "[CV] svm__C=0.0625, svm__gamma=0.0625, svm__kernel=rbf ...............\n",
      "[CV]  svm__C=0.0625, svm__gamma=0.0625, svm__kernel=rbf, total=   5.5s\n",
      "[CV] svm__C=0.0625, svm__gamma=0.0625, svm__kernel=rbf ...............\n",
      "[CV]  svm__C=0.0625, svm__gamma=0.0625, svm__kernel=rbf, total=   5.6s\n",
      "[CV] svm__C=0.0625, svm__gamma=0.0625, svm__kernel=rbf ...............\n",
      "[CV]  svm__C=0.0625, svm__gamma=0.0625, svm__kernel=rbf, total=   5.7s\n",
      "[CV] svm__C=0.0625, svm__gamma=0.0625, svm__kernel=rbf ...............\n",
      "[CV]  svm__C=0.0625, svm__gamma=0.0625, svm__kernel=rbf, total=   5.7s\n",
      "[CV] svm__C=0.0625, svm__gamma=0.25, svm__kernel=rbf .................\n",
      "[CV] .. svm__C=0.0625, svm__gamma=0.25, svm__kernel=rbf, total=   5.8s\n",
      "[CV] svm__C=0.0625, svm__gamma=0.25, svm__kernel=rbf .................\n",
      "[CV] .. svm__C=0.0625, svm__gamma=0.25, svm__kernel=rbf, total=   5.8s\n",
      "[CV] svm__C=0.0625, svm__gamma=0.25, svm__kernel=rbf .................\n",
      "[CV] .. svm__C=0.0625, svm__gamma=0.25, svm__kernel=rbf, total=   5.6s\n",
      "[CV] svm__C=0.0625, svm__gamma=0.25, svm__kernel=rbf .................\n",
      "[CV] .. svm__C=0.0625, svm__gamma=0.25, svm__kernel=rbf, total=   5.8s\n",
      "[CV] svm__C=0.0625, svm__gamma=0.25, svm__kernel=rbf .................\n",
      "[CV] .. svm__C=0.0625, svm__gamma=0.25, svm__kernel=rbf, total=   5.5s\n",
      "[CV] svm__C=0.0625, svm__gamma=1.0, svm__kernel=rbf ..................\n",
      "[CV] ... svm__C=0.0625, svm__gamma=1.0, svm__kernel=rbf, total=   5.7s\n",
      "[CV] svm__C=0.0625, svm__gamma=1.0, svm__kernel=rbf ..................\n",
      "[CV] ... svm__C=0.0625, svm__gamma=1.0, svm__kernel=rbf, total=   5.7s\n",
      "[CV] svm__C=0.0625, svm__gamma=1.0, svm__kernel=rbf ..................\n",
      "[CV] ... svm__C=0.0625, svm__gamma=1.0, svm__kernel=rbf, total=   6.0s\n",
      "[CV] svm__C=0.0625, svm__gamma=1.0, svm__kernel=rbf ..................\n",
      "[CV] ... svm__C=0.0625, svm__gamma=1.0, svm__kernel=rbf, total=   6.0s\n",
      "[CV] svm__C=0.0625, svm__gamma=1.0, svm__kernel=rbf ..................\n",
      "[CV] ... svm__C=0.0625, svm__gamma=1.0, svm__kernel=rbf, total=   7.3s\n",
      "[CV] svm__C=0.0625, svm__gamma=4.0, svm__kernel=rbf ..................\n",
      "[CV] ... svm__C=0.0625, svm__gamma=4.0, svm__kernel=rbf, total=   8.0s\n",
      "[CV] svm__C=0.0625, svm__gamma=4.0, svm__kernel=rbf ..................\n",
      "[CV] ... svm__C=0.0625, svm__gamma=4.0, svm__kernel=rbf, total=   6.4s\n",
      "[CV] svm__C=0.0625, svm__gamma=4.0, svm__kernel=rbf ..................\n",
      "[CV] ... svm__C=0.0625, svm__gamma=4.0, svm__kernel=rbf, total=   6.4s\n",
      "[CV] svm__C=0.0625, svm__gamma=4.0, svm__kernel=rbf ..................\n",
      "[CV] ... svm__C=0.0625, svm__gamma=4.0, svm__kernel=rbf, total=   6.5s\n",
      "[CV] svm__C=0.0625, svm__gamma=4.0, svm__kernel=rbf ..................\n",
      "[CV] ... svm__C=0.0625, svm__gamma=4.0, svm__kernel=rbf, total=   6.4s\n",
      "[CV] svm__C=0.0625, svm__gamma=16.0, svm__kernel=rbf .................\n",
      "[CV] .. svm__C=0.0625, svm__gamma=16.0, svm__kernel=rbf, total=   6.5s\n",
      "[CV] svm__C=0.0625, svm__gamma=16.0, svm__kernel=rbf .................\n",
      "[CV] .. svm__C=0.0625, svm__gamma=16.0, svm__kernel=rbf, total=   6.4s\n",
      "[CV] svm__C=0.0625, svm__gamma=16.0, svm__kernel=rbf .................\n",
      "[CV] .. svm__C=0.0625, svm__gamma=16.0, svm__kernel=rbf, total=   6.1s\n",
      "[CV] svm__C=0.0625, svm__gamma=16.0, svm__kernel=rbf .................\n",
      "[CV] .. svm__C=0.0625, svm__gamma=16.0, svm__kernel=rbf, total=   6.2s\n",
      "[CV] svm__C=0.0625, svm__gamma=16.0, svm__kernel=rbf .................\n",
      "[CV] .. svm__C=0.0625, svm__gamma=16.0, svm__kernel=rbf, total=   6.2s\n",
      "[CV] svm__C=0.25, svm__gamma=0.00390625, svm__kernel=rbf .............\n",
      "[CV]  svm__C=0.25, svm__gamma=0.00390625, svm__kernel=rbf, total=   4.5s\n",
      "[CV] svm__C=0.25, svm__gamma=0.00390625, svm__kernel=rbf .............\n",
      "[CV]  svm__C=0.25, svm__gamma=0.00390625, svm__kernel=rbf, total=   4.5s\n",
      "[CV] svm__C=0.25, svm__gamma=0.00390625, svm__kernel=rbf .............\n",
      "[CV]  svm__C=0.25, svm__gamma=0.00390625, svm__kernel=rbf, total=   4.7s\n",
      "[CV] svm__C=0.25, svm__gamma=0.00390625, svm__kernel=rbf .............\n",
      "[CV]  svm__C=0.25, svm__gamma=0.00390625, svm__kernel=rbf, total=   4.8s\n",
      "[CV] svm__C=0.25, svm__gamma=0.00390625, svm__kernel=rbf .............\n",
      "[CV]  svm__C=0.25, svm__gamma=0.00390625, svm__kernel=rbf, total=   4.7s\n",
      "[CV] svm__C=0.25, svm__gamma=0.015625, svm__kernel=rbf ...............\n",
      "[CV]  svm__C=0.25, svm__gamma=0.015625, svm__kernel=rbf, total=   5.2s\n",
      "[CV] svm__C=0.25, svm__gamma=0.015625, svm__kernel=rbf ...............\n",
      "[CV]  svm__C=0.25, svm__gamma=0.015625, svm__kernel=rbf, total=   5.2s\n",
      "[CV] svm__C=0.25, svm__gamma=0.015625, svm__kernel=rbf ...............\n",
      "[CV]  svm__C=0.25, svm__gamma=0.015625, svm__kernel=rbf, total=   5.2s\n",
      "[CV] svm__C=0.25, svm__gamma=0.015625, svm__kernel=rbf ...............\n",
      "[CV]  svm__C=0.25, svm__gamma=0.015625, svm__kernel=rbf, total=   5.2s\n",
      "[CV] svm__C=0.25, svm__gamma=0.015625, svm__kernel=rbf ...............\n",
      "[CV]  svm__C=0.25, svm__gamma=0.015625, svm__kernel=rbf, total=   5.2s\n",
      "[CV] svm__C=0.25, svm__gamma=0.0625, svm__kernel=rbf .................\n",
      "[CV] .. svm__C=0.25, svm__gamma=0.0625, svm__kernel=rbf, total=   5.6s\n",
      "[CV] svm__C=0.25, svm__gamma=0.0625, svm__kernel=rbf .................\n"
     ]
    },
    {
     "name": "stdout",
     "output_type": "stream",
     "text": [
      "[CV] .. svm__C=0.25, svm__gamma=0.0625, svm__kernel=rbf, total=   5.7s\n",
      "[CV] svm__C=0.25, svm__gamma=0.0625, svm__kernel=rbf .................\n",
      "[CV] .. svm__C=0.25, svm__gamma=0.0625, svm__kernel=rbf, total=   5.7s\n",
      "[CV] svm__C=0.25, svm__gamma=0.0625, svm__kernel=rbf .................\n",
      "[CV] .. svm__C=0.25, svm__gamma=0.0625, svm__kernel=rbf, total=   5.7s\n",
      "[CV] svm__C=0.25, svm__gamma=0.0625, svm__kernel=rbf .................\n",
      "[CV] .. svm__C=0.25, svm__gamma=0.0625, svm__kernel=rbf, total=   5.7s\n",
      "[CV] svm__C=0.25, svm__gamma=0.25, svm__kernel=rbf ...................\n",
      "[CV] .... svm__C=0.25, svm__gamma=0.25, svm__kernel=rbf, total=   5.8s\n",
      "[CV] svm__C=0.25, svm__gamma=0.25, svm__kernel=rbf ...................\n",
      "[CV] .... svm__C=0.25, svm__gamma=0.25, svm__kernel=rbf, total=   5.9s\n",
      "[CV] svm__C=0.25, svm__gamma=0.25, svm__kernel=rbf ...................\n",
      "[CV] .... svm__C=0.25, svm__gamma=0.25, svm__kernel=rbf, total=   5.5s\n",
      "[CV] svm__C=0.25, svm__gamma=0.25, svm__kernel=rbf ...................\n",
      "[CV] .... svm__C=0.25, svm__gamma=0.25, svm__kernel=rbf, total=   5.5s\n",
      "[CV] svm__C=0.25, svm__gamma=0.25, svm__kernel=rbf ...................\n",
      "[CV] .... svm__C=0.25, svm__gamma=0.25, svm__kernel=rbf, total=   5.6s\n",
      "[CV] svm__C=0.25, svm__gamma=1.0, svm__kernel=rbf ....................\n",
      "[CV] ..... svm__C=0.25, svm__gamma=1.0, svm__kernel=rbf, total=   6.1s\n",
      "[CV] svm__C=0.25, svm__gamma=1.0, svm__kernel=rbf ....................\n",
      "[CV] ..... svm__C=0.25, svm__gamma=1.0, svm__kernel=rbf, total=   6.0s\n",
      "[CV] svm__C=0.25, svm__gamma=1.0, svm__kernel=rbf ....................\n",
      "[CV] ..... svm__C=0.25, svm__gamma=1.0, svm__kernel=rbf, total=   6.0s\n",
      "[CV] svm__C=0.25, svm__gamma=1.0, svm__kernel=rbf ....................\n",
      "[CV] ..... svm__C=0.25, svm__gamma=1.0, svm__kernel=rbf, total=   6.0s\n",
      "[CV] svm__C=0.25, svm__gamma=1.0, svm__kernel=rbf ....................\n",
      "[CV] ..... svm__C=0.25, svm__gamma=1.0, svm__kernel=rbf, total=   6.0s\n",
      "[CV] svm__C=0.25, svm__gamma=4.0, svm__kernel=rbf ....................\n",
      "[CV] ..... svm__C=0.25, svm__gamma=4.0, svm__kernel=rbf, total=   6.5s\n",
      "[CV] svm__C=0.25, svm__gamma=4.0, svm__kernel=rbf ....................\n",
      "[CV] ..... svm__C=0.25, svm__gamma=4.0, svm__kernel=rbf, total=   6.4s\n",
      "[CV] svm__C=0.25, svm__gamma=4.0, svm__kernel=rbf ....................\n",
      "[CV] ..... svm__C=0.25, svm__gamma=4.0, svm__kernel=rbf, total=   6.4s\n",
      "[CV] svm__C=0.25, svm__gamma=4.0, svm__kernel=rbf ....................\n",
      "[CV] ..... svm__C=0.25, svm__gamma=4.0, svm__kernel=rbf, total=   6.4s\n",
      "[CV] svm__C=0.25, svm__gamma=4.0, svm__kernel=rbf ....................\n",
      "[CV] ..... svm__C=0.25, svm__gamma=4.0, svm__kernel=rbf, total=   6.4s\n",
      "[CV] svm__C=0.25, svm__gamma=16.0, svm__kernel=rbf ...................\n",
      "[CV] .... svm__C=0.25, svm__gamma=16.0, svm__kernel=rbf, total=   6.4s\n",
      "[CV] svm__C=0.25, svm__gamma=16.0, svm__kernel=rbf ...................\n",
      "[CV] .... svm__C=0.25, svm__gamma=16.0, svm__kernel=rbf, total=   6.4s\n",
      "[CV] svm__C=0.25, svm__gamma=16.0, svm__kernel=rbf ...................\n",
      "[CV] .... svm__C=0.25, svm__gamma=16.0, svm__kernel=rbf, total=   6.4s\n",
      "[CV] svm__C=0.25, svm__gamma=16.0, svm__kernel=rbf ...................\n",
      "[CV] .... svm__C=0.25, svm__gamma=16.0, svm__kernel=rbf, total=   6.3s\n",
      "[CV] svm__C=0.25, svm__gamma=16.0, svm__kernel=rbf ...................\n",
      "[CV] .... svm__C=0.25, svm__gamma=16.0, svm__kernel=rbf, total=   6.2s\n",
      "[CV] svm__C=1.0, svm__gamma=0.00390625, svm__kernel=rbf ..............\n",
      "[CV]  svm__C=1.0, svm__gamma=0.00390625, svm__kernel=rbf, total=   3.8s\n",
      "[CV] svm__C=1.0, svm__gamma=0.00390625, svm__kernel=rbf ..............\n",
      "[CV]  svm__C=1.0, svm__gamma=0.00390625, svm__kernel=rbf, total=   3.8s\n",
      "[CV] svm__C=1.0, svm__gamma=0.00390625, svm__kernel=rbf ..............\n",
      "[CV]  svm__C=1.0, svm__gamma=0.00390625, svm__kernel=rbf, total=   3.9s\n",
      "[CV] svm__C=1.0, svm__gamma=0.00390625, svm__kernel=rbf ..............\n",
      "[CV]  svm__C=1.0, svm__gamma=0.00390625, svm__kernel=rbf, total=   3.9s\n",
      "[CV] svm__C=1.0, svm__gamma=0.00390625, svm__kernel=rbf ..............\n",
      "[CV]  svm__C=1.0, svm__gamma=0.00390625, svm__kernel=rbf, total=   3.9s\n",
      "[CV] svm__C=1.0, svm__gamma=0.015625, svm__kernel=rbf ................\n",
      "[CV] . svm__C=1.0, svm__gamma=0.015625, svm__kernel=rbf, total=   4.6s\n",
      "[CV] svm__C=1.0, svm__gamma=0.015625, svm__kernel=rbf ................\n",
      "[CV] . svm__C=1.0, svm__gamma=0.015625, svm__kernel=rbf, total=   4.7s\n",
      "[CV] svm__C=1.0, svm__gamma=0.015625, svm__kernel=rbf ................\n",
      "[CV] . svm__C=1.0, svm__gamma=0.015625, svm__kernel=rbf, total=   4.7s\n",
      "[CV] svm__C=1.0, svm__gamma=0.015625, svm__kernel=rbf ................\n",
      "[CV] . svm__C=1.0, svm__gamma=0.015625, svm__kernel=rbf, total=   5.2s\n",
      "[CV] svm__C=1.0, svm__gamma=0.015625, svm__kernel=rbf ................\n",
      "[CV] . svm__C=1.0, svm__gamma=0.015625, svm__kernel=rbf, total=   4.6s\n",
      "[CV] svm__C=1.0, svm__gamma=0.0625, svm__kernel=rbf ..................\n",
      "[CV] ... svm__C=1.0, svm__gamma=0.0625, svm__kernel=rbf, total=   5.6s\n",
      "[CV] svm__C=1.0, svm__gamma=0.0625, svm__kernel=rbf ..................\n",
      "[CV] ... svm__C=1.0, svm__gamma=0.0625, svm__kernel=rbf, total=   5.5s\n",
      "[CV] svm__C=1.0, svm__gamma=0.0625, svm__kernel=rbf ..................\n",
      "[CV] ... svm__C=1.0, svm__gamma=0.0625, svm__kernel=rbf, total=   5.6s\n",
      "[CV] svm__C=1.0, svm__gamma=0.0625, svm__kernel=rbf ..................\n",
      "[CV] ... svm__C=1.0, svm__gamma=0.0625, svm__kernel=rbf, total=   5.6s\n",
      "[CV] svm__C=1.0, svm__gamma=0.0625, svm__kernel=rbf ..................\n",
      "[CV] ... svm__C=1.0, svm__gamma=0.0625, svm__kernel=rbf, total=   5.5s\n",
      "[CV] svm__C=1.0, svm__gamma=0.25, svm__kernel=rbf ....................\n",
      "[CV] ..... svm__C=1.0, svm__gamma=0.25, svm__kernel=rbf, total=   5.8s\n",
      "[CV] svm__C=1.0, svm__gamma=0.25, svm__kernel=rbf ....................\n",
      "[CV] ..... svm__C=1.0, svm__gamma=0.25, svm__kernel=rbf, total=   6.4s\n",
      "[CV] svm__C=1.0, svm__gamma=0.25, svm__kernel=rbf ....................\n",
      "[CV] ..... svm__C=1.0, svm__gamma=0.25, svm__kernel=rbf, total=   5.6s\n",
      "[CV] svm__C=1.0, svm__gamma=0.25, svm__kernel=rbf ....................\n",
      "[CV] ..... svm__C=1.0, svm__gamma=0.25, svm__kernel=rbf, total=   5.6s\n",
      "[CV] svm__C=1.0, svm__gamma=0.25, svm__kernel=rbf ....................\n",
      "[CV] ..... svm__C=1.0, svm__gamma=0.25, svm__kernel=rbf, total=   5.6s\n",
      "[CV] svm__C=1.0, svm__gamma=1.0, svm__kernel=rbf .....................\n",
      "[CV] ...... svm__C=1.0, svm__gamma=1.0, svm__kernel=rbf, total=   5.8s\n",
      "[CV] svm__C=1.0, svm__gamma=1.0, svm__kernel=rbf .....................\n",
      "[CV] ...... svm__C=1.0, svm__gamma=1.0, svm__kernel=rbf, total=   5.8s\n",
      "[CV] svm__C=1.0, svm__gamma=1.0, svm__kernel=rbf .....................\n",
      "[CV] ...... svm__C=1.0, svm__gamma=1.0, svm__kernel=rbf, total=   5.8s\n",
      "[CV] svm__C=1.0, svm__gamma=1.0, svm__kernel=rbf .....................\n",
      "[CV] ...... svm__C=1.0, svm__gamma=1.0, svm__kernel=rbf, total=   6.1s\n",
      "[CV] svm__C=1.0, svm__gamma=1.0, svm__kernel=rbf .....................\n",
      "[CV] ...... svm__C=1.0, svm__gamma=1.0, svm__kernel=rbf, total=   6.1s\n",
      "[CV] svm__C=1.0, svm__gamma=4.0, svm__kernel=rbf .....................\n",
      "[CV] ...... svm__C=1.0, svm__gamma=4.0, svm__kernel=rbf, total=   6.4s\n",
      "[CV] svm__C=1.0, svm__gamma=4.0, svm__kernel=rbf .....................\n",
      "[CV] ...... svm__C=1.0, svm__gamma=4.0, svm__kernel=rbf, total=   6.4s\n",
      "[CV] svm__C=1.0, svm__gamma=4.0, svm__kernel=rbf .....................\n",
      "[CV] ...... svm__C=1.0, svm__gamma=4.0, svm__kernel=rbf, total=   6.4s\n",
      "[CV] svm__C=1.0, svm__gamma=4.0, svm__kernel=rbf .....................\n",
      "[CV] ...... svm__C=1.0, svm__gamma=4.0, svm__kernel=rbf, total=   6.4s\n",
      "[CV] svm__C=1.0, svm__gamma=4.0, svm__kernel=rbf .....................\n",
      "[CV] ...... svm__C=1.0, svm__gamma=4.0, svm__kernel=rbf, total=   6.5s\n",
      "[CV] svm__C=1.0, svm__gamma=16.0, svm__kernel=rbf ....................\n",
      "[CV] ..... svm__C=1.0, svm__gamma=16.0, svm__kernel=rbf, total=   6.5s\n",
      "[CV] svm__C=1.0, svm__gamma=16.0, svm__kernel=rbf ....................\n",
      "[CV] ..... svm__C=1.0, svm__gamma=16.0, svm__kernel=rbf, total=   6.4s\n",
      "[CV] svm__C=1.0, svm__gamma=16.0, svm__kernel=rbf ....................\n",
      "[CV] ..... svm__C=1.0, svm__gamma=16.0, svm__kernel=rbf, total=   6.4s\n",
      "[CV] svm__C=1.0, svm__gamma=16.0, svm__kernel=rbf ....................\n",
      "[CV] ..... svm__C=1.0, svm__gamma=16.0, svm__kernel=rbf, total=   6.3s\n",
      "[CV] svm__C=1.0, svm__gamma=16.0, svm__kernel=rbf ....................\n"
     ]
    },
    {
     "name": "stdout",
     "output_type": "stream",
     "text": [
      "[CV] ..... svm__C=1.0, svm__gamma=16.0, svm__kernel=rbf, total=   6.3s\n",
      "[CV] svm__C=4.0, svm__gamma=0.00390625, svm__kernel=rbf ..............\n",
      "[CV]  svm__C=4.0, svm__gamma=0.00390625, svm__kernel=rbf, total=   3.5s\n",
      "[CV] svm__C=4.0, svm__gamma=0.00390625, svm__kernel=rbf ..............\n",
      "[CV]  svm__C=4.0, svm__gamma=0.00390625, svm__kernel=rbf, total=   3.5s\n",
      "[CV] svm__C=4.0, svm__gamma=0.00390625, svm__kernel=rbf ..............\n",
      "[CV]  svm__C=4.0, svm__gamma=0.00390625, svm__kernel=rbf, total=   3.5s\n",
      "[CV] svm__C=4.0, svm__gamma=0.00390625, svm__kernel=rbf ..............\n",
      "[CV]  svm__C=4.0, svm__gamma=0.00390625, svm__kernel=rbf, total=   3.5s\n",
      "[CV] svm__C=4.0, svm__gamma=0.00390625, svm__kernel=rbf ..............\n",
      "[CV]  svm__C=4.0, svm__gamma=0.00390625, svm__kernel=rbf, total=   3.5s\n",
      "[CV] svm__C=4.0, svm__gamma=0.015625, svm__kernel=rbf ................\n",
      "[CV] . svm__C=4.0, svm__gamma=0.015625, svm__kernel=rbf, total=   5.3s\n",
      "[CV] svm__C=4.0, svm__gamma=0.015625, svm__kernel=rbf ................\n",
      "[CV] . svm__C=4.0, svm__gamma=0.015625, svm__kernel=rbf, total=   5.2s\n",
      "[CV] svm__C=4.0, svm__gamma=0.015625, svm__kernel=rbf ................\n",
      "[CV] . svm__C=4.0, svm__gamma=0.015625, svm__kernel=rbf, total=   5.1s\n",
      "[CV] svm__C=4.0, svm__gamma=0.015625, svm__kernel=rbf ................\n",
      "[CV] . svm__C=4.0, svm__gamma=0.015625, svm__kernel=rbf, total=   4.9s\n",
      "[CV] svm__C=4.0, svm__gamma=0.015625, svm__kernel=rbf ................\n",
      "[CV] . svm__C=4.0, svm__gamma=0.015625, svm__kernel=rbf, total=   4.2s\n",
      "[CV] svm__C=4.0, svm__gamma=0.0625, svm__kernel=rbf ..................\n",
      "[CV] ... svm__C=4.0, svm__gamma=0.0625, svm__kernel=rbf, total=   5.7s\n",
      "[CV] svm__C=4.0, svm__gamma=0.0625, svm__kernel=rbf ..................\n",
      "[CV] ... svm__C=4.0, svm__gamma=0.0625, svm__kernel=rbf, total=   5.7s\n",
      "[CV] svm__C=4.0, svm__gamma=0.0625, svm__kernel=rbf ..................\n",
      "[CV] ... svm__C=4.0, svm__gamma=0.0625, svm__kernel=rbf, total=   5.9s\n",
      "[CV] svm__C=4.0, svm__gamma=0.0625, svm__kernel=rbf ..................\n",
      "[CV] ... svm__C=4.0, svm__gamma=0.0625, svm__kernel=rbf, total=   5.9s\n",
      "[CV] svm__C=4.0, svm__gamma=0.0625, svm__kernel=rbf ..................\n",
      "[CV] ... svm__C=4.0, svm__gamma=0.0625, svm__kernel=rbf, total=   5.7s\n",
      "[CV] svm__C=4.0, svm__gamma=0.25, svm__kernel=rbf ....................\n",
      "[CV] ..... svm__C=4.0, svm__gamma=0.25, svm__kernel=rbf, total=   5.8s\n",
      "[CV] svm__C=4.0, svm__gamma=0.25, svm__kernel=rbf ....................\n",
      "[CV] ..... svm__C=4.0, svm__gamma=0.25, svm__kernel=rbf, total=   5.8s\n",
      "[CV] svm__C=4.0, svm__gamma=0.25, svm__kernel=rbf ....................\n",
      "[CV] ..... svm__C=4.0, svm__gamma=0.25, svm__kernel=rbf, total=   5.9s\n",
      "[CV] svm__C=4.0, svm__gamma=0.25, svm__kernel=rbf ....................\n",
      "[CV] ..... svm__C=4.0, svm__gamma=0.25, svm__kernel=rbf, total=   5.8s\n",
      "[CV] svm__C=4.0, svm__gamma=0.25, svm__kernel=rbf ....................\n",
      "[CV] ..... svm__C=4.0, svm__gamma=0.25, svm__kernel=rbf, total=   5.8s\n",
      "[CV] svm__C=4.0, svm__gamma=1.0, svm__kernel=rbf .....................\n",
      "[CV] ...... svm__C=4.0, svm__gamma=1.0, svm__kernel=rbf, total=   6.1s\n",
      "[CV] svm__C=4.0, svm__gamma=1.0, svm__kernel=rbf .....................\n",
      "[CV] ...... svm__C=4.0, svm__gamma=1.0, svm__kernel=rbf, total=   6.0s\n",
      "[CV] svm__C=4.0, svm__gamma=1.0, svm__kernel=rbf .....................\n",
      "[CV] ...... svm__C=4.0, svm__gamma=1.0, svm__kernel=rbf, total=   6.0s\n",
      "[CV] svm__C=4.0, svm__gamma=1.0, svm__kernel=rbf .....................\n",
      "[CV] ...... svm__C=4.0, svm__gamma=1.0, svm__kernel=rbf, total=   6.1s\n",
      "[CV] svm__C=4.0, svm__gamma=1.0, svm__kernel=rbf .....................\n",
      "[CV] ...... svm__C=4.0, svm__gamma=1.0, svm__kernel=rbf, total=   6.2s\n",
      "[CV] svm__C=4.0, svm__gamma=4.0, svm__kernel=rbf .....................\n",
      "[CV] ...... svm__C=4.0, svm__gamma=4.0, svm__kernel=rbf, total=   6.5s\n",
      "[CV] svm__C=4.0, svm__gamma=4.0, svm__kernel=rbf .....................\n",
      "[CV] ...... svm__C=4.0, svm__gamma=4.0, svm__kernel=rbf, total=   6.4s\n",
      "[CV] svm__C=4.0, svm__gamma=4.0, svm__kernel=rbf .....................\n",
      "[CV] ...... svm__C=4.0, svm__gamma=4.0, svm__kernel=rbf, total=   6.4s\n",
      "[CV] svm__C=4.0, svm__gamma=4.0, svm__kernel=rbf .....................\n",
      "[CV] ...... svm__C=4.0, svm__gamma=4.0, svm__kernel=rbf, total=   6.4s\n",
      "[CV] svm__C=4.0, svm__gamma=4.0, svm__kernel=rbf .....................\n",
      "[CV] ...... svm__C=4.0, svm__gamma=4.0, svm__kernel=rbf, total=   6.5s\n",
      "[CV] svm__C=4.0, svm__gamma=16.0, svm__kernel=rbf ....................\n",
      "[CV] ..... svm__C=4.0, svm__gamma=16.0, svm__kernel=rbf, total=   6.5s\n",
      "[CV] svm__C=4.0, svm__gamma=16.0, svm__kernel=rbf ....................\n",
      "[CV] ..... svm__C=4.0, svm__gamma=16.0, svm__kernel=rbf, total=   6.4s\n",
      "[CV] svm__C=4.0, svm__gamma=16.0, svm__kernel=rbf ....................\n",
      "[CV] ..... svm__C=4.0, svm__gamma=16.0, svm__kernel=rbf, total=   6.5s\n",
      "[CV] svm__C=4.0, svm__gamma=16.0, svm__kernel=rbf ....................\n",
      "[CV] ..... svm__C=4.0, svm__gamma=16.0, svm__kernel=rbf, total=   6.5s\n",
      "[CV] svm__C=4.0, svm__gamma=16.0, svm__kernel=rbf ....................\n",
      "[CV] ..... svm__C=4.0, svm__gamma=16.0, svm__kernel=rbf, total=   6.9s\n",
      "[CV] svm__C=16.0, svm__gamma=0.00390625, svm__kernel=rbf .............\n",
      "[CV]  svm__C=16.0, svm__gamma=0.00390625, svm__kernel=rbf, total=   3.3s\n",
      "[CV] svm__C=16.0, svm__gamma=0.00390625, svm__kernel=rbf .............\n",
      "[CV]  svm__C=16.0, svm__gamma=0.00390625, svm__kernel=rbf, total=   3.2s\n",
      "[CV] svm__C=16.0, svm__gamma=0.00390625, svm__kernel=rbf .............\n",
      "[CV]  svm__C=16.0, svm__gamma=0.00390625, svm__kernel=rbf, total=   3.2s\n",
      "[CV] svm__C=16.0, svm__gamma=0.00390625, svm__kernel=rbf .............\n",
      "[CV]  svm__C=16.0, svm__gamma=0.00390625, svm__kernel=rbf, total=   3.8s\n",
      "[CV] svm__C=16.0, svm__gamma=0.00390625, svm__kernel=rbf .............\n",
      "[CV]  svm__C=16.0, svm__gamma=0.00390625, svm__kernel=rbf, total=   3.3s\n",
      "[CV] svm__C=16.0, svm__gamma=0.015625, svm__kernel=rbf ...............\n",
      "[CV]  svm__C=16.0, svm__gamma=0.015625, svm__kernel=rbf, total=   4.7s\n",
      "[CV] svm__C=16.0, svm__gamma=0.015625, svm__kernel=rbf ...............\n",
      "[CV]  svm__C=16.0, svm__gamma=0.015625, svm__kernel=rbf, total=   4.6s\n",
      "[CV] svm__C=16.0, svm__gamma=0.015625, svm__kernel=rbf ...............\n",
      "[CV]  svm__C=16.0, svm__gamma=0.015625, svm__kernel=rbf, total=   4.5s\n",
      "[CV] svm__C=16.0, svm__gamma=0.015625, svm__kernel=rbf ...............\n",
      "[CV]  svm__C=16.0, svm__gamma=0.015625, svm__kernel=rbf, total=   4.6s\n",
      "[CV] svm__C=16.0, svm__gamma=0.015625, svm__kernel=rbf ...............\n",
      "[CV]  svm__C=16.0, svm__gamma=0.015625, svm__kernel=rbf, total=   4.6s\n",
      "[CV] svm__C=16.0, svm__gamma=0.0625, svm__kernel=rbf .................\n",
      "[CV] .. svm__C=16.0, svm__gamma=0.0625, svm__kernel=rbf, total=   5.6s\n",
      "[CV] svm__C=16.0, svm__gamma=0.0625, svm__kernel=rbf .................\n",
      "[CV] .. svm__C=16.0, svm__gamma=0.0625, svm__kernel=rbf, total=   5.7s\n",
      "[CV] svm__C=16.0, svm__gamma=0.0625, svm__kernel=rbf .................\n",
      "[CV] .. svm__C=16.0, svm__gamma=0.0625, svm__kernel=rbf, total=   5.7s\n",
      "[CV] svm__C=16.0, svm__gamma=0.0625, svm__kernel=rbf .................\n",
      "[CV] .. svm__C=16.0, svm__gamma=0.0625, svm__kernel=rbf, total=   5.7s\n",
      "[CV] svm__C=16.0, svm__gamma=0.0625, svm__kernel=rbf .................\n",
      "[CV] .. svm__C=16.0, svm__gamma=0.0625, svm__kernel=rbf, total=   5.7s\n",
      "[CV] svm__C=16.0, svm__gamma=0.25, svm__kernel=rbf ...................\n",
      "[CV] .... svm__C=16.0, svm__gamma=0.25, svm__kernel=rbf, total=   5.9s\n",
      "[CV] svm__C=16.0, svm__gamma=0.25, svm__kernel=rbf ...................\n",
      "[CV] .... svm__C=16.0, svm__gamma=0.25, svm__kernel=rbf, total=   6.0s\n",
      "[CV] svm__C=16.0, svm__gamma=0.25, svm__kernel=rbf ...................\n",
      "[CV] .... svm__C=16.0, svm__gamma=0.25, svm__kernel=rbf, total=   5.8s\n",
      "[CV] svm__C=16.0, svm__gamma=0.25, svm__kernel=rbf ...................\n",
      "[CV] .... svm__C=16.0, svm__gamma=0.25, svm__kernel=rbf, total=   5.9s\n",
      "[CV] svm__C=16.0, svm__gamma=0.25, svm__kernel=rbf ...................\n",
      "[CV] .... svm__C=16.0, svm__gamma=0.25, svm__kernel=rbf, total=   5.9s\n",
      "[CV] svm__C=16.0, svm__gamma=1.0, svm__kernel=rbf ....................\n",
      "[CV] ..... svm__C=16.0, svm__gamma=1.0, svm__kernel=rbf, total=   6.0s\n",
      "[CV] svm__C=16.0, svm__gamma=1.0, svm__kernel=rbf ....................\n",
      "[CV] ..... svm__C=16.0, svm__gamma=1.0, svm__kernel=rbf, total=   6.1s\n",
      "[CV] svm__C=16.0, svm__gamma=1.0, svm__kernel=rbf ....................\n"
     ]
    },
    {
     "name": "stdout",
     "output_type": "stream",
     "text": [
      "[CV] ..... svm__C=16.0, svm__gamma=1.0, svm__kernel=rbf, total=   6.4s\n",
      "[CV] svm__C=16.0, svm__gamma=1.0, svm__kernel=rbf ....................\n",
      "[CV] ..... svm__C=16.0, svm__gamma=1.0, svm__kernel=rbf, total=   5.9s\n",
      "[CV] svm__C=16.0, svm__gamma=1.0, svm__kernel=rbf ....................\n",
      "[CV] ..... svm__C=16.0, svm__gamma=1.0, svm__kernel=rbf, total=   5.8s\n",
      "[CV] svm__C=16.0, svm__gamma=4.0, svm__kernel=rbf ....................\n",
      "[CV] ..... svm__C=16.0, svm__gamma=4.0, svm__kernel=rbf, total=   6.2s\n",
      "[CV] svm__C=16.0, svm__gamma=4.0, svm__kernel=rbf ....................\n",
      "[CV] ..... svm__C=16.0, svm__gamma=4.0, svm__kernel=rbf, total=   6.2s\n",
      "[CV] svm__C=16.0, svm__gamma=4.0, svm__kernel=rbf ....................\n",
      "[CV] ..... svm__C=16.0, svm__gamma=4.0, svm__kernel=rbf, total=   6.2s\n",
      "[CV] svm__C=16.0, svm__gamma=4.0, svm__kernel=rbf ....................\n",
      "[CV] ..... svm__C=16.0, svm__gamma=4.0, svm__kernel=rbf, total=   6.2s\n",
      "[CV] svm__C=16.0, svm__gamma=4.0, svm__kernel=rbf ....................\n",
      "[CV] ..... svm__C=16.0, svm__gamma=4.0, svm__kernel=rbf, total=   6.4s\n",
      "[CV] svm__C=16.0, svm__gamma=16.0, svm__kernel=rbf ...................\n",
      "[CV] .... svm__C=16.0, svm__gamma=16.0, svm__kernel=rbf, total=   6.5s\n",
      "[CV] svm__C=16.0, svm__gamma=16.0, svm__kernel=rbf ...................\n",
      "[CV] .... svm__C=16.0, svm__gamma=16.0, svm__kernel=rbf, total=   6.5s\n",
      "[CV] svm__C=16.0, svm__gamma=16.0, svm__kernel=rbf ...................\n",
      "[CV] .... svm__C=16.0, svm__gamma=16.0, svm__kernel=rbf, total=   6.5s\n",
      "[CV] svm__C=16.0, svm__gamma=16.0, svm__kernel=rbf ...................\n",
      "[CV] .... svm__C=16.0, svm__gamma=16.0, svm__kernel=rbf, total=   6.5s\n",
      "[CV] svm__C=16.0, svm__gamma=16.0, svm__kernel=rbf ...................\n",
      "[CV] .... svm__C=16.0, svm__gamma=16.0, svm__kernel=rbf, total=   6.5s\n"
     ]
    },
    {
     "name": "stderr",
     "output_type": "stream",
     "text": [
      "[Parallel(n_jobs=1)]: Done 245 out of 245 | elapsed: 40.6min finished\n"
     ]
    },
    {
     "name": "stdout",
     "output_type": "stream",
     "text": [
      "Best parameter (CV score=0.781):\n",
      "{'svm__C': 16.0, 'svm__gamma': 0.00390625, 'svm__kernel': 'rbf'}\n",
      "[[507 130]\n",
      " [ 99 360]]\n",
      "             precision    recall  f1-score   support\n",
      "\n",
      "        0.0       0.84      0.80      0.82       637\n",
      "        1.0       0.73      0.78      0.76       459\n",
      "\n",
      "avg / total       0.79      0.79      0.79      1096\n",
      "\n"
     ]
    }
   ],
   "source": [
    "#best_params = {'svm__C': 0.25, 'svm__degree': 1, 'svm__gamma': 0.25, 'svm__kernel': 'rbf'}\n",
    "#{'svm__C': 0.0625, 'svm__gamma': 0.125, 'svm__kernel': 'poly'} r (CV score=0.764):\n",
    "\n",
    "svm_clf_rbf = SVM(model_name='svm_wip_rbf', dataset_name='speed_dating')\n",
    "svm_clf_rbf.train(X_train, y_train,'rbf')\n",
    "y_pred = svm_clf_rbf.predict(X_test)\n",
    "svm_clf_rbf.evaluate_model(y_test=y_test, y_pred=y_pred)\n"
   ]
  },
  {
   "cell_type": "code",
   "execution_count": 9,
   "metadata": {},
   "outputs": [
    {
     "name": "stdout",
     "output_type": "stream",
     "text": [
      "{'svm__C': 16.0, 'svm__gamma': 0.00390625, 'svm__kernel': 'rbf'}\n"
     ]
    }
   ],
   "source": [
    "svm_best_params = svm_clf_rbf.get_best_params()\n",
    "print(svm_best_params) \n",
    "#{'svm__degree': 1, 'svm__kernel': 'rbf'}\n",
    "# (CV score=0.781):\n",
    "# {'svm__C': 16.0, 'svm__gamma': 0.00390625, 'svm__kernel': 'rbf'}"
   ]
  },
  {
   "cell_type": "code",
   "execution_count": null,
   "metadata": {},
   "outputs": [
    {
     "name": "stdout",
     "output_type": "stream",
     "text": [
      "Fitting 5 folds for each of 833 candidates, totalling 4165 fits\n",
      "[CV] svm__C=0.00390625, svm__degree=1, svm__gamma=0.00390625, svm__kernel=poly \n",
      "[CV]  svm__C=0.00390625, svm__degree=1, svm__gamma=0.00390625, svm__kernel=poly, total=   6.1s\n",
      "[CV] svm__C=0.00390625, svm__degree=1, svm__gamma=0.00390625, svm__kernel=poly \n"
     ]
    },
    {
     "name": "stderr",
     "output_type": "stream",
     "text": [
      "[Parallel(n_jobs=1)]: Done   1 out of   1 | elapsed:   10.5s remaining:    0.0s\n"
     ]
    },
    {
     "name": "stdout",
     "output_type": "stream",
     "text": [
      "[CV]  svm__C=0.00390625, svm__degree=1, svm__gamma=0.00390625, svm__kernel=poly, total=   5.9s\n",
      "[CV] svm__C=0.00390625, svm__degree=1, svm__gamma=0.00390625, svm__kernel=poly \n",
      "[CV]  svm__C=0.00390625, svm__degree=1, svm__gamma=0.00390625, svm__kernel=poly, total=   6.5s\n",
      "[CV] svm__C=0.00390625, svm__degree=1, svm__gamma=0.00390625, svm__kernel=poly \n",
      "[CV]  svm__C=0.00390625, svm__degree=1, svm__gamma=0.00390625, svm__kernel=poly, total=   8.7s\n",
      "[CV] svm__C=0.00390625, svm__degree=1, svm__gamma=0.00390625, svm__kernel=poly \n",
      "[CV]  svm__C=0.00390625, svm__degree=1, svm__gamma=0.00390625, svm__kernel=poly, total=   7.4s\n",
      "[CV] svm__C=0.00390625, svm__degree=1, svm__gamma=0.015625, svm__kernel=poly \n",
      "[CV]  svm__C=0.00390625, svm__degree=1, svm__gamma=0.015625, svm__kernel=poly, total=   6.5s\n",
      "[CV] svm__C=0.00390625, svm__degree=1, svm__gamma=0.015625, svm__kernel=poly \n",
      "[CV]  svm__C=0.00390625, svm__degree=1, svm__gamma=0.015625, svm__kernel=poly, total=   6.2s\n",
      "[CV] svm__C=0.00390625, svm__degree=1, svm__gamma=0.015625, svm__kernel=poly \n",
      "[CV]  svm__C=0.00390625, svm__degree=1, svm__gamma=0.015625, svm__kernel=poly, total=   6.2s\n",
      "[CV] svm__C=0.00390625, svm__degree=1, svm__gamma=0.015625, svm__kernel=poly \n",
      "[CV]  svm__C=0.00390625, svm__degree=1, svm__gamma=0.015625, svm__kernel=poly, total=   6.0s\n",
      "[CV] svm__C=0.00390625, svm__degree=1, svm__gamma=0.015625, svm__kernel=poly \n",
      "[CV]  svm__C=0.00390625, svm__degree=1, svm__gamma=0.015625, svm__kernel=poly, total=   5.9s\n",
      "[CV] svm__C=0.00390625, svm__degree=1, svm__gamma=0.0625, svm__kernel=poly \n",
      "[CV]  svm__C=0.00390625, svm__degree=1, svm__gamma=0.0625, svm__kernel=poly, total=   5.8s\n",
      "[CV] svm__C=0.00390625, svm__degree=1, svm__gamma=0.0625, svm__kernel=poly \n",
      "[CV]  svm__C=0.00390625, svm__degree=1, svm__gamma=0.0625, svm__kernel=poly, total=   5.8s\n",
      "[CV] svm__C=0.00390625, svm__degree=1, svm__gamma=0.0625, svm__kernel=poly \n",
      "[CV]  svm__C=0.00390625, svm__degree=1, svm__gamma=0.0625, svm__kernel=poly, total=   5.8s\n",
      "[CV] svm__C=0.00390625, svm__degree=1, svm__gamma=0.0625, svm__kernel=poly \n",
      "[CV]  svm__C=0.00390625, svm__degree=1, svm__gamma=0.0625, svm__kernel=poly, total=   6.0s\n",
      "[CV] svm__C=0.00390625, svm__degree=1, svm__gamma=0.0625, svm__kernel=poly \n",
      "[CV]  svm__C=0.00390625, svm__degree=1, svm__gamma=0.0625, svm__kernel=poly, total=   7.0s\n",
      "[CV] svm__C=0.00390625, svm__degree=1, svm__gamma=0.25, svm__kernel=poly \n",
      "[CV]  svm__C=0.00390625, svm__degree=1, svm__gamma=0.25, svm__kernel=poly, total=   5.0s\n",
      "[CV] svm__C=0.00390625, svm__degree=1, svm__gamma=0.25, svm__kernel=poly \n",
      "[CV]  svm__C=0.00390625, svm__degree=1, svm__gamma=0.25, svm__kernel=poly, total=   5.0s\n",
      "[CV] svm__C=0.00390625, svm__degree=1, svm__gamma=0.25, svm__kernel=poly \n",
      "[CV]  svm__C=0.00390625, svm__degree=1, svm__gamma=0.25, svm__kernel=poly, total=   5.3s\n",
      "[CV] svm__C=0.00390625, svm__degree=1, svm__gamma=0.25, svm__kernel=poly \n",
      "[CV]  svm__C=0.00390625, svm__degree=1, svm__gamma=0.25, svm__kernel=poly, total=   5.4s\n",
      "[CV] svm__C=0.00390625, svm__degree=1, svm__gamma=0.25, svm__kernel=poly \n",
      "[CV]  svm__C=0.00390625, svm__degree=1, svm__gamma=0.25, svm__kernel=poly, total=   5.5s\n",
      "[CV] svm__C=0.00390625, svm__degree=1, svm__gamma=1.0, svm__kernel=poly \n",
      "[CV]  svm__C=0.00390625, svm__degree=1, svm__gamma=1.0, svm__kernel=poly, total=   5.5s\n",
      "[CV] svm__C=0.00390625, svm__degree=1, svm__gamma=1.0, svm__kernel=poly \n",
      "[CV]  svm__C=0.00390625, svm__degree=1, svm__gamma=1.0, svm__kernel=poly, total=   5.1s\n",
      "[CV] svm__C=0.00390625, svm__degree=1, svm__gamma=1.0, svm__kernel=poly \n",
      "[CV]  svm__C=0.00390625, svm__degree=1, svm__gamma=1.0, svm__kernel=poly, total=   5.7s\n",
      "[CV] svm__C=0.00390625, svm__degree=1, svm__gamma=1.0, svm__kernel=poly \n",
      "[CV]  svm__C=0.00390625, svm__degree=1, svm__gamma=1.0, svm__kernel=poly, total=   4.4s\n",
      "[CV] svm__C=0.00390625, svm__degree=1, svm__gamma=1.0, svm__kernel=poly \n",
      "[CV]  svm__C=0.00390625, svm__degree=1, svm__gamma=1.0, svm__kernel=poly, total=   5.8s\n",
      "[CV] svm__C=0.00390625, svm__degree=1, svm__gamma=4.0, svm__kernel=poly \n",
      "[CV]  svm__C=0.00390625, svm__degree=1, svm__gamma=4.0, svm__kernel=poly, total=   4.8s\n",
      "[CV] svm__C=0.00390625, svm__degree=1, svm__gamma=4.0, svm__kernel=poly \n"
     ]
    }
   ],
   "source": [
    "#best_params = {'svm__C': 0.25, 'svm__degree': 1, 'svm__gamma': 0.25, 'svm__kernel': 'rbf'}\n",
    "#{'svm__C': 0.0625, 'svm__gamma': 0.125, 'svm__kernel': 'poly'} r (CV score=0.764):\n",
    "\n",
    "svm_clf_poly = SVM(model_name='svm_wip_poly', dataset_name='speed_dating')\n",
    "svm_clf_poly.train(X_train, y_train,'poly')\n",
    "y_pred = svm_clf_poly.predict(X_test)\n",
    "svm_clf_poly.evaluate_model(y_test=y_test, y_pred=y_pred)\n"
   ]
  },
  {
   "cell_type": "code",
   "execution_count": null,
   "metadata": {},
   "outputs": [],
   "source": [
    "svm_best_params = svm_clf_poly.get_best_params()\n",
    "print(svm_best_params) \n",
    "#{'svm__degree': 1, 'svm__kernel': 'rbf'}"
   ]
  },
  {
   "cell_type": "code",
   "execution_count": null,
   "metadata": {},
   "outputs": [],
   "source": [
    "#best_params = {'svm__C': 0.25, 'svm__degree': 1, 'svm__gamma': 0.25, 'svm__kernel': 'rbf'}\n",
    "#{'svm__C': 0.0625, 'svm__gamma': 0.125, 'svm__kernel': 'poly'} r (CV score=0.764):\n",
    "\n",
    "svm_clf_linear_sigmoid = SVM(model_name='svm_wip_linear_sigmoid', dataset_name='speed_dating')\n",
    "svm_clf_linear_sigmoid.train(X_train, y_train,'linear_sigmoid')\n",
    "y_pred = svm_clf_linear_sigmoid.predict(X_test)\n",
    "svm_clf_linear_sigmoid.evaluate_model(y_test=y_test, y_pred=y_pred)\n"
   ]
  },
  {
   "cell_type": "code",
   "execution_count": null,
   "metadata": {},
   "outputs": [],
   "source": [
    "svm_best_params = svm_clf_linear_sigmoid.get_best_params()\n",
    "print(svm_best_params) \n",
    "#{'svm__degree': 1, 'svm__kernel': 'rbf'}"
   ]
  },
  {
   "cell_type": "code",
   "execution_count": null,
   "metadata": {},
   "outputs": [],
   "source": [
    "X_train, X_test, y_train, y_test, X_train_nn, X_validation_nn, y_train_nn, y_validation_nn = de.get_train_test_validation(\n",
    "    twitter_df, 'twitter')\n"
   ]
  },
  {
   "cell_type": "code",
   "execution_count": null,
   "metadata": {},
   "outputs": [],
   "source": [
    "svm_clf_rbf = SVM(model_name='svm_wip_rbf', dataset_name='twitter')\n",
    "svm_clf_rbf.train(X_train, y_train,'rbf')\n",
    "y_pred = svm_clf_rbf.predict(X_test)\n",
    "svm_clf_rbf.evaluate_model(y_test=y_test, y_pred=y_pred)"
   ]
  },
  {
   "cell_type": "code",
   "execution_count": null,
   "metadata": {},
   "outputs": [],
   "source": [
    "svm_best_params = svm_clf_rbf.get_best_params()\n",
    "print(svm_best_params) \n",
    "#{'svm__degree': 1, 'svm__kernel': 'rbf'}\n",
    "#Best parameter (CV score=0.893):\n",
    "#{'svm__C': 16.0, 'svm__gamma': 1.0, 'svm__kernel': 'rbf'}"
   ]
  },
  {
   "cell_type": "code",
   "execution_count": null,
   "metadata": {},
   "outputs": [],
   "source": [
    "#best_params = {'svm__C': 0.25, 'svm__degree': 1, 'svm__gamma': 0.25, 'svm__kernel': 'rbf'}\n",
    "#{'svm__C': 0.0625, 'svm__gamma': 0.125, 'svm__kernel': 'poly'} r (CV score=0.764):\n",
    "\n",
    "svm_clf_poly = SVM(model_name='svm_wip_poly', dataset_name='twitter')\n",
    "svm_clf_poly.train(X_train, y_train,'poly')\n",
    "y_pred = svm_clf_poly.predict(X_test)\n",
    "svm_clf_poly.evaluate_model(y_test=y_test, y_pred=y_pred)\n"
   ]
  },
  {
   "cell_type": "code",
   "execution_count": null,
   "metadata": {},
   "outputs": [],
   "source": [
    "svm_best_params = svm_clf_poly.get_best_params()\n",
    "print(svm_best_params) \n",
    "#{'svm__degree': 1, 'svm__kernel': 'rbf'}"
   ]
  },
  {
   "cell_type": "code",
   "execution_count": null,
   "metadata": {},
   "outputs": [],
   "source": [
    "#best_params = {'svm__C': 0.25, 'svm__degree': 1, 'svm__gamma': 0.25, 'svm__kernel': 'rbf'}\n",
    "#{'svm__C': 0.0625, 'svm__gamma': 0.125, 'svm__kernel': 'poly'} r (CV score=0.764):\n",
    "\n",
    "svm_clf_linear_sigmoid = SVM(model_name='svm_wip_linear_sigmoid', dataset_name='twitter')\n",
    "svm_clf_linear_sigmoid.train(X_train, y_train,'linear_sigmoid')\n",
    "y_pred = svm_clf_linear_sigmoid.predict(X_test)\n",
    "svm_clf_linear_sigmoid.evaluate_model(y_test=y_test, y_pred=y_pred)\n"
   ]
  },
  {
   "cell_type": "code",
   "execution_count": null,
   "metadata": {},
   "outputs": [],
   "source": [
    "svm_best_params = svm_clf_linear_sigmoid.get_best_params()\n",
    "print(svm_best_params) \n",
    "#{'svm__degree': 1, 'svm__kernel': 'rbf'}"
   ]
  },
  {
   "cell_type": "code",
   "execution_count": null,
   "metadata": {},
   "outputs": [],
   "source": [
    "#best_params = {'batch_size': 10, 'epochs': 1, 'layer_sizes': [12, 1], 'learning_rate': 0.0005,\n",
    "#               'loss': 'mean_squared_error'}\n",
    "#{'dnn__batch_size': 10, 'dnn__epochs': 1, 'dnn__layer_sizes': [180, 50], 'dnn__learning_rate': 0.0005, 'dnn__loss': 'mean_squared_error'} #\n",
    "keras_nn_clf = NN_Keras(model_name='keras_nn_wip1', dataset_name='spam_twitter')\n",
    "keras_nn_clf.train(X_train, y_train)\n",
    "y_pred = keras_nn_clf.predict(X_test)\n",
    "keras_nn_clf.evaluate_model(y_test=y_test, y_pred=y_pred)\n"
   ]
  },
  {
   "cell_type": "code",
   "execution_count": null,
   "metadata": {},
   "outputs": [],
   "source": [
    "keras_nn_best_params = keras_nn_clf.get_best_params()\n",
    "print(keras_nn_best_params)"
   ]
  }
 ],
 "metadata": {
  "kernelspec": {
   "display_name": "Python 3",
   "language": "python",
   "name": "python3"
  },
  "language_info": {
   "codemirror_mode": {
    "name": "ipython",
    "version": 3
   },
   "file_extension": ".py",
   "mimetype": "text/x-python",
   "name": "python",
   "nbconvert_exporter": "python",
   "pygments_lexer": "ipython3",
   "version": "3.6.5"
  }
 },
 "nbformat": 4,
 "nbformat_minor": 1
}
